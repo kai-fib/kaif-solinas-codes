{
 "cells": [
  {
   "cell_type": "code",
   "execution_count": 2,
   "id": "39def8d0-2df6-4cfd-b527-013b713c6606",
   "metadata": {
    "tags": []
   },
   "outputs": [
    {
     "name": "stdout",
     "output_type": "stream",
     "text": [
      "/home/jupyter\n"
     ]
    }
   ],
   "source": [
    "!pwd"
   ]
  },
  {
   "cell_type": "code",
   "execution_count": 11,
   "id": "8c43fdd3-d6f6-48fb-a4e7-41bfded39207",
   "metadata": {
    "tags": []
   },
   "outputs": [
    {
     "name": "stdout",
     "output_type": "stream",
     "text": [
      "/home/jupyter\n"
     ]
    }
   ],
   "source": [
    "%cd .."
   ]
  },
  {
   "cell_type": "code",
   "execution_count": 12,
   "id": "828ad883-5fd8-4754-9ef4-91a9ac70aa82",
   "metadata": {
    "tags": []
   },
   "outputs": [],
   "source": [
    "!rm -rf \"/home/jupyter/image-processing/runs/wrc_sewer_v9_2.2.0\"  #delete non empty folder"
   ]
  },
  {
   "cell_type": "code",
   "execution_count": null,
   "id": "481b1b84-41a0-4c74-9c96-6d36d0874014",
   "metadata": {
    "tags": []
   },
   "outputs": [],
   "source": [
    "!pip install -r requirements.txt ##run only once"
   ]
  },
  {
   "cell_type": "code",
   "execution_count": null,
   "id": "c8ee430a-d781-4107-b902-ccc8a53f6bf4",
   "metadata": {
    "tags": []
   },
   "outputs": [],
   "source": [
    "!pip install numpy==1.24.4 ##run only once"
   ]
  },
  {
   "cell_type": "code",
   "execution_count": 11,
   "id": "4982ed41-45b4-4b43-8406-347de3270096",
   "metadata": {
    "collapsed": true,
    "jupyter": {
     "outputs_hidden": true
    },
    "tags": []
   },
   "outputs": [
    {
     "name": "stdout",
     "output_type": "stream",
     "text": [
      "Archive:  /home/jupyter/solinas-ai-dev/weights/wrc_sewer_v9_2.2.0.zip\n",
      "   creating: /home/jupyter/image-processing/runs/wrc_sewer_v9_2.2.0/home/jupyter/yolov9/runs/train/wrc_sewer_v9_2.2.0/\n",
      "  inflating: /home/jupyter/image-processing/runs/wrc_sewer_v9_2.2.0/home/jupyter/yolov9/runs/train/wrc_sewer_v9_2.2.0/train_batch1.jpg  \n",
      "  inflating: /home/jupyter/image-processing/runs/wrc_sewer_v9_2.2.0/home/jupyter/yolov9/runs/train/wrc_sewer_v9_2.2.0/confusion_matrix.png  \n",
      "  inflating: /home/jupyter/image-processing/runs/wrc_sewer_v9_2.2.0/home/jupyter/yolov9/runs/train/wrc_sewer_v9_2.2.0/PR_curve.png  \n",
      "  inflating: /home/jupyter/image-processing/runs/wrc_sewer_v9_2.2.0/home/jupyter/yolov9/runs/train/wrc_sewer_v9_2.2.0/train_batch0.jpg  \n",
      "  inflating: /home/jupyter/image-processing/runs/wrc_sewer_v9_2.2.0/home/jupyter/yolov9/runs/train/wrc_sewer_v9_2.2.0/opt.yaml  \n",
      "  inflating: /home/jupyter/image-processing/runs/wrc_sewer_v9_2.2.0/home/jupyter/yolov9/runs/train/wrc_sewer_v9_2.2.0/results.csv  \n",
      "  inflating: /home/jupyter/image-processing/runs/wrc_sewer_v9_2.2.0/home/jupyter/yolov9/runs/train/wrc_sewer_v9_2.2.0/results.png  \n",
      "  inflating: /home/jupyter/image-processing/runs/wrc_sewer_v9_2.2.0/home/jupyter/yolov9/runs/train/wrc_sewer_v9_2.2.0/val_batch0_pred.jpg  \n",
      "  inflating: /home/jupyter/image-processing/runs/wrc_sewer_v9_2.2.0/home/jupyter/yolov9/runs/train/wrc_sewer_v9_2.2.0/hyp.yaml  \n",
      "  inflating: /home/jupyter/image-processing/runs/wrc_sewer_v9_2.2.0/home/jupyter/yolov9/runs/train/wrc_sewer_v9_2.2.0/val_batch2_pred.jpg  \n",
      "  inflating: /home/jupyter/image-processing/runs/wrc_sewer_v9_2.2.0/home/jupyter/yolov9/runs/train/wrc_sewer_v9_2.2.0/val_batch0_labels.jpg  \n",
      "  inflating: /home/jupyter/image-processing/runs/wrc_sewer_v9_2.2.0/home/jupyter/yolov9/runs/train/wrc_sewer_v9_2.2.0/P_curve.png  \n",
      "  inflating: /home/jupyter/image-processing/runs/wrc_sewer_v9_2.2.0/home/jupyter/yolov9/runs/train/wrc_sewer_v9_2.2.0/F1_curve.png  \n",
      "  inflating: /home/jupyter/image-processing/runs/wrc_sewer_v9_2.2.0/home/jupyter/yolov9/runs/train/wrc_sewer_v9_2.2.0/val_batch2_labels.jpg  \n",
      "  inflating: /home/jupyter/image-processing/runs/wrc_sewer_v9_2.2.0/home/jupyter/yolov9/runs/train/wrc_sewer_v9_2.2.0/labels.jpg  \n",
      "  inflating: /home/jupyter/image-processing/runs/wrc_sewer_v9_2.2.0/home/jupyter/yolov9/runs/train/wrc_sewer_v9_2.2.0/val_batch1_labels.jpg  \n",
      "  inflating: /home/jupyter/image-processing/runs/wrc_sewer_v9_2.2.0/home/jupyter/yolov9/runs/train/wrc_sewer_v9_2.2.0/train_batch2.jpg  \n",
      "  inflating: /home/jupyter/image-processing/runs/wrc_sewer_v9_2.2.0/home/jupyter/yolov9/runs/train/wrc_sewer_v9_2.2.0/R_curve.png  \n",
      "   creating: /home/jupyter/image-processing/runs/wrc_sewer_v9_2.2.0/home/jupyter/yolov9/runs/train/wrc_sewer_v9_2.2.0/weights/\n",
      "  inflating: /home/jupyter/image-processing/runs/wrc_sewer_v9_2.2.0/home/jupyter/yolov9/runs/train/wrc_sewer_v9_2.2.0/weights/best.pt  \n",
      "  inflating: /home/jupyter/image-processing/runs/wrc_sewer_v9_2.2.0/home/jupyter/yolov9/runs/train/wrc_sewer_v9_2.2.0/weights/last_striped.pt  \n",
      "  inflating: /home/jupyter/image-processing/runs/wrc_sewer_v9_2.2.0/home/jupyter/yolov9/runs/train/wrc_sewer_v9_2.2.0/weights/best_striped.pt  \n",
      "  inflating: /home/jupyter/image-processing/runs/wrc_sewer_v9_2.2.0/home/jupyter/yolov9/runs/train/wrc_sewer_v9_2.2.0/weights/last.pt  \n",
      "  inflating: /home/jupyter/image-processing/runs/wrc_sewer_v9_2.2.0/home/jupyter/yolov9/runs/train/wrc_sewer_v9_2.2.0/val_batch1_pred.jpg  \n",
      "  inflating: /home/jupyter/image-processing/runs/wrc_sewer_v9_2.2.0/home/jupyter/yolov9/runs/train/wrc_sewer_v9_2.2.0/events.out.tfevents.1750928467.instance-20250617-221121.24717.0  \n",
      "   creating: /home/jupyter/image-processing/runs/wrc_sewer_v9_2.2.0/home/jupyter/yolov9/runs/train/wrc_sewer_v9_2.2.0/.ipynb_checkpoints/\n",
      "  inflating: /home/jupyter/image-processing/runs/wrc_sewer_v9_2.2.0/home/jupyter/yolov9/runs/train/wrc_sewer_v9_2.2.0/.ipynb_checkpoints/results-checkpoint.csv  \n",
      "  inflating: /home/jupyter/image-processing/runs/wrc_sewer_v9_2.2.0/home/jupyter/yolov9/runs/train/wrc_sewer_v9_2.2.0/.ipynb_checkpoints/labels-checkpoint.jpg  \n",
      "  inflating: /home/jupyter/image-processing/runs/wrc_sewer_v9_2.2.0/home/jupyter/yolov9/runs/train/wrc_sewer_v9_2.2.0/.ipynb_checkpoints/PR_curve-checkpoint.png  \n",
      "  inflating: /home/jupyter/image-processing/runs/wrc_sewer_v9_2.2.0/home/jupyter/yolov9/runs/train/wrc_sewer_v9_2.2.0/labels_correlogram.jpg  \n",
      "   creating: /home/jupyter/image-processing/runs/wrc_sewer_v9_2.2.0/yolov9/runs/train/wrc_sewer_v9_2.2.0/\n",
      "  inflating: /home/jupyter/image-processing/runs/wrc_sewer_v9_2.2.0/yolov9/runs/train/wrc_sewer_v9_2.2.0/train_batch1.jpg  \n",
      "  inflating: /home/jupyter/image-processing/runs/wrc_sewer_v9_2.2.0/yolov9/runs/train/wrc_sewer_v9_2.2.0/confusion_matrix.png  \n",
      "  inflating: /home/jupyter/image-processing/runs/wrc_sewer_v9_2.2.0/yolov9/runs/train/wrc_sewer_v9_2.2.0/PR_curve.png  \n",
      "  inflating: /home/jupyter/image-processing/runs/wrc_sewer_v9_2.2.0/yolov9/runs/train/wrc_sewer_v9_2.2.0/train_batch0.jpg  \n",
      "  inflating: /home/jupyter/image-processing/runs/wrc_sewer_v9_2.2.0/yolov9/runs/train/wrc_sewer_v9_2.2.0/opt.yaml  \n",
      "  inflating: /home/jupyter/image-processing/runs/wrc_sewer_v9_2.2.0/yolov9/runs/train/wrc_sewer_v9_2.2.0/results.csv  \n",
      "  inflating: /home/jupyter/image-processing/runs/wrc_sewer_v9_2.2.0/yolov9/runs/train/wrc_sewer_v9_2.2.0/results.png  \n",
      "  inflating: /home/jupyter/image-processing/runs/wrc_sewer_v9_2.2.0/yolov9/runs/train/wrc_sewer_v9_2.2.0/val_batch0_pred.jpg  \n",
      "  inflating: /home/jupyter/image-processing/runs/wrc_sewer_v9_2.2.0/yolov9/runs/train/wrc_sewer_v9_2.2.0/hyp.yaml  \n",
      "  inflating: /home/jupyter/image-processing/runs/wrc_sewer_v9_2.2.0/yolov9/runs/train/wrc_sewer_v9_2.2.0/val_batch2_pred.jpg  \n",
      "  inflating: /home/jupyter/image-processing/runs/wrc_sewer_v9_2.2.0/yolov9/runs/train/wrc_sewer_v9_2.2.0/val_batch0_labels.jpg  \n",
      "  inflating: /home/jupyter/image-processing/runs/wrc_sewer_v9_2.2.0/yolov9/runs/train/wrc_sewer_v9_2.2.0/P_curve.png  \n",
      "  inflating: /home/jupyter/image-processing/runs/wrc_sewer_v9_2.2.0/yolov9/runs/train/wrc_sewer_v9_2.2.0/F1_curve.png  \n",
      "  inflating: /home/jupyter/image-processing/runs/wrc_sewer_v9_2.2.0/yolov9/runs/train/wrc_sewer_v9_2.2.0/val_batch2_labels.jpg  \n",
      "  inflating: /home/jupyter/image-processing/runs/wrc_sewer_v9_2.2.0/yolov9/runs/train/wrc_sewer_v9_2.2.0/labels.jpg  \n",
      "  inflating: /home/jupyter/image-processing/runs/wrc_sewer_v9_2.2.0/yolov9/runs/train/wrc_sewer_v9_2.2.0/val_batch1_labels.jpg  \n",
      "  inflating: /home/jupyter/image-processing/runs/wrc_sewer_v9_2.2.0/yolov9/runs/train/wrc_sewer_v9_2.2.0/train_batch2.jpg  \n",
      "  inflating: /home/jupyter/image-processing/runs/wrc_sewer_v9_2.2.0/yolov9/runs/train/wrc_sewer_v9_2.2.0/R_curve.png  \n",
      "   creating: /home/jupyter/image-processing/runs/wrc_sewer_v9_2.2.0/yolov9/runs/train/wrc_sewer_v9_2.2.0/weights/\n",
      "  inflating: /home/jupyter/image-processing/runs/wrc_sewer_v9_2.2.0/yolov9/runs/train/wrc_sewer_v9_2.2.0/weights/best.pt  \n",
      "  inflating: /home/jupyter/image-processing/runs/wrc_sewer_v9_2.2.0/yolov9/runs/train/wrc_sewer_v9_2.2.0/weights/last_striped.pt  \n",
      "  inflating: /home/jupyter/image-processing/runs/wrc_sewer_v9_2.2.0/yolov9/runs/train/wrc_sewer_v9_2.2.0/weights/best_striped.pt  \n",
      "  inflating: /home/jupyter/image-processing/runs/wrc_sewer_v9_2.2.0/yolov9/runs/train/wrc_sewer_v9_2.2.0/weights/last.pt  \n",
      "  inflating: /home/jupyter/image-processing/runs/wrc_sewer_v9_2.2.0/yolov9/runs/train/wrc_sewer_v9_2.2.0/val_batch1_pred.jpg  \n",
      "  inflating: /home/jupyter/image-processing/runs/wrc_sewer_v9_2.2.0/yolov9/runs/train/wrc_sewer_v9_2.2.0/events.out.tfevents.1750928467.instance-20250617-221121.24717.0  \n",
      "   creating: /home/jupyter/image-processing/runs/wrc_sewer_v9_2.2.0/yolov9/runs/train/wrc_sewer_v9_2.2.0/.ipynb_checkpoints/\n",
      "  inflating: /home/jupyter/image-processing/runs/wrc_sewer_v9_2.2.0/yolov9/runs/train/wrc_sewer_v9_2.2.0/.ipynb_checkpoints/results-checkpoint.csv  \n",
      "  inflating: /home/jupyter/image-processing/runs/wrc_sewer_v9_2.2.0/yolov9/runs/train/wrc_sewer_v9_2.2.0/.ipynb_checkpoints/labels-checkpoint.jpg  \n",
      "  inflating: /home/jupyter/image-processing/runs/wrc_sewer_v9_2.2.0/yolov9/runs/train/wrc_sewer_v9_2.2.0/.ipynb_checkpoints/PR_curve-checkpoint.png  \n",
      "  inflating: /home/jupyter/image-processing/runs/wrc_sewer_v9_2.2.0/yolov9/runs/train/wrc_sewer_v9_2.2.0/labels_correlogram.jpg  \n"
     ]
    }
   ],
   "source": [
    "!unzip /home/jupyter/solinas-ai-dev/weights/wrc_sewer_v9_2.2.0.zip -d /home/jupyter/image-processing/runs/wrc_sewer_v9_2.2.0"
   ]
  },
  {
   "cell_type": "code",
   "execution_count": 7,
   "id": "37414541-33a2-4c64-87fd-3b47224505a7",
   "metadata": {
    "tags": []
   },
   "outputs": [
    {
     "name": "stdout",
     "output_type": "stream",
     "text": [
      "Euro_v9\t\t     Wrc_water_v9.zip\t  wrc_sewer_v9.zip\n",
      "Nassco_v9\t     Wrc_water_v9_v2.1.0  wrc_sewer_v9_2.2.0.zip\n",
      "Wrc_sewer_v9_v2.1.0  custom_yolov95\n",
      "Wrc_water_v9\t     wrc_sewer_v9\n"
     ]
    }
   ],
   "source": [
    "!ls /home/jupyter/image-processing/runs/train\n"
   ]
  },
  {
   "cell_type": "code",
   "execution_count": null,
   "id": "17b5a109-b486-4b9d-a18d-31cb4c84750c",
   "metadata": {
    "tags": []
   },
   "outputs": [],
   "source": [
    "!python trial.py"
   ]
  },
  {
   "cell_type": "code",
   "execution_count": 5,
   "id": "b0869090-6cf4-48b1-adb4-f9646a6db6b3",
   "metadata": {
    "tags": []
   },
   "outputs": [
    {
     "name": "stdout",
     "output_type": "stream",
     "text": [
      "WARNING ⚠️ \u001b[31m\u001b[1mrequirements:\u001b[0m /opt/conda/lib/python3.10/site-packages/requirements.txt not found, check failed.\n",
      "YOLOv5 🚀 v7.0-416-gfe1d4d99 Python-3.10.16 torch-2.7.0+cu126 CUDA:0 (Tesla T4, 14918MiB)\n",
      "\n",
      "Fusing layers... \n",
      "Model summary: 157 layers, 7066762 parameters, 0 gradients, 15.9 GFLOPs\n",
      "Total processing time: 6.63 minutes\n",
      "done\n"
     ]
    }
   ],
   "source": [
    "!python detect_optimize2.py"
   ]
  },
  {
   "cell_type": "code",
   "execution_count": null,
   "id": "e3d073c9-a0e2-49dc-bd61-6ef630e072c1",
   "metadata": {},
   "outputs": [],
   "source": [
    "!conda install -c conda-forge opencv ffmpeg  ## run in terminal"
   ]
  },
  {
   "cell_type": "code",
   "execution_count": 2,
   "id": "1b0ebed1-d09f-4034-8060-941bf6f70eab",
   "metadata": {
    "tags": []
   },
   "outputs": [
    {
     "name": "stdout",
     "output_type": "stream",
     "text": [
      "/home/jupyter/image-processing\n"
     ]
    },
    {
     "name": "stderr",
     "output_type": "stream",
     "text": [
      "/opt/conda/lib/python3.10/site-packages/IPython/core/magics/osm.py:417: UserWarning: using dhist requires you to install the `pickleshare` library.\n",
      "  self.shell.db['dhist'] = compress_dhist(dhist)[-100:]\n"
     ]
    }
   ],
   "source": [
    "%cd /home/jupyter/image-processing"
   ]
  },
  {
   "cell_type": "code",
   "execution_count": 163,
   "id": "5b00efe2-e602-4560-8925-cbef27d25e0c",
   "metadata": {
    "tags": []
   },
   "outputs": [
    {
     "name": "stdout",
     "output_type": "stream",
     "text": [
      "\u001b[34m\u001b[1mdetect: \u001b[0mweights=runs/train/Euro_v9/weights/best.pt, source=data/images, data=data/Europe_stage3.yaml, imgsz=[640, 640], conf_thres=0.25, iou_thres=0.45, max_det=1000, device=, view_img=False, save_txt=False, save_conf=False, save_crop=False, nosave=False, classes=None, agnostic_nms=False, augment=False, visualize=False, update=False, project=runs/detect, name=exp, exist_ok=False, line_thickness=3, hide_labels=False, hide_conf=False, half=False, dnn=False, vid_stride=1\n",
      "YOLO 🚀 b6475dc Python-3.10.16 torch-2.7.0+cu126 CUDA:0 (Tesla T4, 14918MiB)\n",
      "\n",
      "Fusing layers... \n",
      "yolov9 summary: 580 layers, 60542110 parameters, 0 gradients, 264.1 GFLOPs\n",
      "image 1/2 Stone in 150 mm .jpeg: 384x640 (no detections), 85.7ms\n",
      "image 2/2 horses.jpg: 448x640 1 Settled_Deposit(BBC,3), 82.6ms\n",
      "Speed: 0.4ms pre-process, 84.2ms inference, 58.5ms NMS per image at shape (1, 3, 640, 640)\n",
      "Results saved to \u001b[1mruns/detect/exp7\u001b[0m\n"
     ]
    }
   ],
   "source": [
    "!python detect.py"
   ]
  },
  {
   "cell_type": "code",
   "execution_count": 38,
   "id": "39a52adb-814c-4fe4-bf00-7d136e04a460",
   "metadata": {
    "collapsed": true,
    "jupyter": {
     "outputs_hidden": true
    },
    "tags": []
   },
   "outputs": [
    {
     "name": "stdout",
     "output_type": "stream",
     "text": [
      "  adding: home/jupyter/test/20250610_125923/ (stored 0%)\n",
      "  adding: home/jupyter/test/20250610_125923/mid/ (stored 0%)\n",
      "  adding: home/jupyter/test/20250610_125923/mid/Crack(C,1)_(0-0-28).jpg (deflated 1%)\n",
      "  adding: home/jupyter/test/20250610_125923/mid/Root_Blockage(RM,3)_(0-0-29).jpg (deflated 1%)\n",
      "  adding: home/jupyter/test/20250610_125923/mid/.ipynb_checkpoints/ (stored 0%)\n",
      "  adding: home/jupyter/test/20250610_125923/mid/.ipynb_checkpoints/Crack(C,1)_(0-0-28)-checkpoint.jpg (deflated 1%)\n",
      "  adding: home/jupyter/test/20250610_125923/mid/.ipynb_checkpoints/Root_Blockage(RM,3)_(0-0-29)-checkpoint.jpg (deflated 1%)\n",
      "  adding: home/jupyter/test/20250610_125923/20250610_125923.mp4 (deflated 0%)\n",
      "  adding: home/jupyter/test/20250610_125923/total_defects_log.txt (stored 0%)\n",
      "  adding: home/jupyter/test/20250610_125923/processing_speed_log.txt (deflated 94%)\n"
     ]
    }
   ],
   "source": [
    "!zip -r /home/jupyter/test/20250610_125923.zip /home/jupyter/test/20250610_125923"
   ]
  },
  {
   "cell_type": "code",
   "execution_count": 2,
   "id": "7ff2ccfc-6919-4e6c-aaef-96ecbf9b6fb3",
   "metadata": {
    "collapsed": true,
    "jupyter": {
     "outputs_hidden": true
    },
    "tags": []
   },
   "outputs": [
    {
     "name": "stdout",
     "output_type": "stream",
     "text": [
      "  adding: home/jupyter/image-processing/ (stored 0%)\n",
      "  adding: home/jupyter/image-processing/detect_v9(crct).py (deflated 75%)\n",
      "  adding: home/jupyter/image-processing/try_delete.py (deflated 73%)\n",
      "  adding: home/jupyter/image-processing/detect_v9.py (deflated 68%)\n",
      "  adding: home/jupyter/image-processing/__pycache__/ (stored 0%)\n",
      "  adding: home/jupyter/image-processing/__pycache__/export.cpython-310.pyc (deflated 47%)\n",
      "  adding: home/jupyter/image-processing/benchmarks.py (deflated 68%)\n",
      "  adding: home/jupyter/image-processing/koif_detect_ram_test.py (deflated 74%)\n",
      "  adding: home/jupyter/image-processing/home/ (stored 0%)\n",
      "  adding: home/jupyter/image-processing/home/jupyter/ (stored 0%)\n",
      "  adding: home/jupyter/image-processing/home/jupyter/test/ (stored 0%)\n",
      "  adding: home/jupyter/image-processing/home/jupyter/test/exp/ (stored 0%)\n",
      "  adding: home/jupyter/image-processing/home/jupyter/test/exp/processing_speed_log.txt (stored 0%)\n",
      "  adding: home/jupyter/image-processing/home/jupyter/test/exp2/ (stored 0%)\n",
      "  adding: home/jupyter/image-processing/home/jupyter/test/exp2/processing_speed_log.txt (stored 0%)\n",
      "  adding: home/jupyter/image-processing/home/jupyter/test/exp3/ (stored 0%)\n",
      "  adding: home/jupyter/image-processing/home/jupyter/test/exp3/processing_speed_log.txt (stored 0%)\n",
      "  adding: home/jupyter/image-processing/val_dual.py (deflated 67%)\n",
      "  adding: home/jupyter/image-processing/tools/ (stored 0%)\n",
      "  adding: home/jupyter/image-processing/tools/reparameterization.ipynb (deflated 93%)\n",
      "  adding: home/jupyter/image-processing/detect.py (deflated 68%)\n",
      "  adding: home/jupyter/image-processing/scripts/ (stored 0%)\n",
      "  adding: home/jupyter/image-processing/scripts/get_coco.sh (deflated 52%)\n",
      "  adding: home/jupyter/image-processing/train_dual.py (deflated 70%)\n",
      "  adding: home/jupyter/image-processing/README.md (deflated 76%)\n",
      "  adding: home/jupyter/image-processing/data/ (stored 0%)\n",
      "  adding: home/jupyter/image-processing/data/wrc_stage3.yaml (deflated 55%)\n",
      "  adding: home/jupyter/image-processing/data/NASSCO_stage3.yaml (deflated 59%)\n",
      "  adding: home/jupyter/image-processing/data/coco.yaml (deflated 54%)\n",
      "  adding: home/jupyter/image-processing/data/Europe_stage3.yaml (deflated 54%)\n",
      "  adding: home/jupyter/image-processing/data/.ipynb_checkpoints/ (stored 0%)\n",
      "  adding: home/jupyter/image-processing/data/.ipynb_checkpoints/wrc_stage3-checkpoint.yaml (deflated 55%)\n",
      "  adding: home/jupyter/image-processing/data/images/ (stored 0%)\n",
      "  adding: home/jupyter/image-processing/data/images/Stone in 150 mm .jpeg (deflated 1%)\n",
      "  adding: home/jupyter/image-processing/data/images/horses.jpg (deflated 3%)\n",
      "  adding: home/jupyter/image-processing/data/hyps/ (stored 0%)\n",
      "  adding: home/jupyter/image-processing/data/hyps/hyp.scratch-high.yaml (deflated 56%)\n",
      "  adding: home/jupyter/image-processing/requirements.txt (deflated 61%)\n",
      "  adding: home/jupyter/image-processing/hubconf.py (deflated 63%)\n",
      "  adding: home/jupyter/image-processing/wrc_sewer_v9/ (stored 0%)\n",
      "  adding: home/jupyter/image-processing/wrc_sewer_v9/confusion_matrix.png (deflated 13%)\n",
      "  adding: home/jupyter/image-processing/wrc_sewer_v9/labels_correlogram.jpg (deflated 32%)\n",
      "  adding: home/jupyter/image-processing/wrc_sewer_v9/labels.jpg (deflated 18%)\n",
      "  adding: home/jupyter/image-processing/wrc_sewer_v9/PR_curve.png (deflated 7%)\n",
      "  adding: home/jupyter/image-processing/wrc_sewer_v9/weights/ (stored 0%)\n",
      "  adding: home/jupyter/image-processing/wrc_sewer_v9/weights/last.pt (deflated 8%)\n",
      "  adding: home/jupyter/image-processing/wrc_sewer_v9/weights/best.pt (deflated 8%)\n",
      "  adding: home/jupyter/image-processing/wrc_sewer_v9/hyp.yaml (deflated 43%)\n",
      "  adding: home/jupyter/image-processing/wrc_sewer_v9/F1_curve.png (deflated 5%)\n",
      "  adding: home/jupyter/image-processing/wrc_sewer_v9/results.png (deflated 14%)\n",
      "  adding: home/jupyter/image-processing/wrc_sewer_v9/opt.yaml (deflated 49%)\n",
      "  adding: home/jupyter/image-processing/classify/ (stored 0%)\n",
      "  adding: home/jupyter/image-processing/classify/val.py (deflated 66%)\n",
      "  adding: home/jupyter/image-processing/classify/predict.py (deflated 68%)\n",
      "  adding: home/jupyter/image-processing/classify/train.py (deflated 66%)\n",
      "  adding: home/jupyter/image-processing/detect_v9(mid).py (deflated 73%)\n",
      "  adding: home/jupyter/image-processing/.ipynb_checkpoints/ (stored 0%)\n",
      "  adding: home/jupyter/image-processing/.ipynb_checkpoints/processing_speed_log-checkpoint.txt (stored 0%)\n",
      "  adding: home/jupyter/image-processing/.ipynb_checkpoints/trial-checkpoint.py (deflated 77%)\n",
      "  adding: home/jupyter/image-processing/.ipynb_checkpoints/detect_v9-checkpoint.py (deflated 68%)\n",
      "  adding: home/jupyter/image-processing/.ipynb_checkpoints/koif_detect_ram-checkpoint.py (deflated 74%)\n",
      "  adding: home/jupyter/image-processing/.ipynb_checkpoints/detect_v9(crct)-checkpoint.py (deflated 75%)\n",
      "  adding: home/jupyter/image-processing/.ipynb_checkpoints/koif_detect_ram_test-checkpoint.py (deflated 74%)\n",
      "  adding: home/jupyter/image-processing/.ipynb_checkpoints/requirements-checkpoint.txt (deflated 61%)\n",
      "  adding: home/jupyter/image-processing/.ipynb_checkpoints/run_all-checkpoint.py (deflated 61%)\n",
      "  adding: home/jupyter/image-processing/.ipynb_checkpoints/detect-checkpoint.py (deflated 68%)\n",
      "  adding: home/jupyter/image-processing/val_triple.py (deflated 67%)\n",
      "  adding: home/jupyter/image-processing/LICENSE.md (deflated 66%)\n",
      "  adding: home/jupyter/image-processing/val.py (deflated 67%)\n",
      "  adding: home/jupyter/image-processing/figure/ (stored 0%)\n",
      "  adding: home/jupyter/image-processing/figure/performance.png (deflated 2%)\n",
      "  adding: home/jupyter/image-processing/figure/multitask.png (deflated 0%)\n",
      "  adding: home/jupyter/image-processing/figure/horses_prediction.jpg (deflated 1%)\n",
      "  adding: home/jupyter/image-processing/koif_detect_ram.py (deflated 74%)\n",
      "  adding: home/jupyter/image-processing/.git/ (stored 0%)\n",
      "  adding: home/jupyter/image-processing/.git/index (deflated 60%)\n",
      "  adding: home/jupyter/image-processing/.git/description (deflated 14%)\n",
      "  adding: home/jupyter/image-processing/.git/info/ (stored 0%)\n",
      "  adding: home/jupyter/image-processing/.git/info/exclude (deflated 28%)\n",
      "  adding: home/jupyter/image-processing/.git/packed-refs (deflated 10%)\n",
      "  adding: home/jupyter/image-processing/.git/branches/ (stored 0%)\n",
      "  adding: home/jupyter/image-processing/.git/hooks/ (stored 0%)\n",
      "  adding: home/jupyter/image-processing/.git/hooks/fsmonitor-watchman.sample (deflated 62%)\n",
      "  adding: home/jupyter/image-processing/.git/hooks/pre-commit.sample (deflated 45%)\n",
      "  adding: home/jupyter/image-processing/.git/hooks/commit-msg.sample (deflated 44%)\n",
      "  adding: home/jupyter/image-processing/.git/hooks/pre-receive.sample (deflated 40%)\n",
      "  adding: home/jupyter/image-processing/.git/hooks/pre-rebase.sample (deflated 59%)\n",
      "  adding: home/jupyter/image-processing/.git/hooks/update.sample (deflated 68%)\n",
      "  adding: home/jupyter/image-processing/.git/hooks/prepare-commit-msg.sample (deflated 50%)\n",
      "  adding: home/jupyter/image-processing/.git/hooks/pre-merge-commit.sample (deflated 39%)\n",
      "  adding: home/jupyter/image-processing/.git/hooks/applypatch-msg.sample (deflated 42%)\n",
      "  adding: home/jupyter/image-processing/.git/hooks/push-to-checkout.sample (deflated 55%)\n",
      "  adding: home/jupyter/image-processing/.git/hooks/post-update.sample (deflated 27%)\n",
      "  adding: home/jupyter/image-processing/.git/hooks/pre-applypatch.sample (deflated 38%)\n",
      "  adding: home/jupyter/image-processing/.git/hooks/pre-push.sample (deflated 49%)\n",
      "  adding: home/jupyter/image-processing/.git/objects/ (stored 0%)\n",
      "  adding: home/jupyter/image-processing/.git/objects/info/ (stored 0%)\n",
      "  adding: home/jupyter/image-processing/.git/objects/pack/ (stored 0%)\n",
      "  adding: home/jupyter/image-processing/.git/objects/pack/pack-da804d670f7b80bc325ed62f37673d4285899911.pack (deflated 0%)\n",
      "  adding: home/jupyter/image-processing/.git/objects/pack/pack-da804d670f7b80bc325ed62f37673d4285899911.idx (deflated 9%)\n",
      "  adding: home/jupyter/image-processing/.git/logs/ (stored 0%)\n",
      "  adding: home/jupyter/image-processing/.git/logs/HEAD (deflated 31%)\n",
      "  adding: home/jupyter/image-processing/.git/logs/refs/ (stored 0%)\n",
      "  adding: home/jupyter/image-processing/.git/logs/refs/heads/ (stored 0%)\n",
      "  adding: home/jupyter/image-processing/.git/logs/refs/heads/yolov9 (deflated 31%)\n",
      "  adding: home/jupyter/image-processing/.git/HEAD (stored 0%)\n",
      "  adding: home/jupyter/image-processing/.git/refs/ (stored 0%)\n",
      "  adding: home/jupyter/image-processing/.git/refs/tags/ (stored 0%)\n",
      "  adding: home/jupyter/image-processing/.git/refs/heads/ (stored 0%)\n",
      "  adding: home/jupyter/image-processing/.git/refs/heads/yolov9 (deflated 2%)\n",
      "  adding: home/jupyter/image-processing/.git/config (deflated 35%)\n",
      "  adding: home/jupyter/image-processing/train_triple.py (deflated 70%)\n",
      "  adding: home/jupyter/image-processing/trial.py (deflated 77%)\n",
      "  adding: home/jupyter/image-processing/utils/ (stored 0%)\n",
      "  adding: home/jupyter/image-processing/utils/loss_tal_dual.py (deflated 82%)\n",
      "  adding: home/jupyter/image-processing/utils/activations.py (deflated 69%)\n",
      "  adding: home/jupyter/image-processing/utils/__pycache__/ (stored 0%)\n",
      "  adding: home/jupyter/image-processing/utils/__pycache__/torch_utils.cpython-310.pyc (deflated 46%)\n",
      "  adding: home/jupyter/image-processing/utils/__pycache__/general.cpython-310.pyc (deflated 49%)\n",
      "  adding: home/jupyter/image-processing/utils/__pycache__/downloads.cpython-310.pyc (deflated 40%)\n",
      "  adding: home/jupyter/image-processing/utils/__pycache__/lion.cpython-310.pyc (deflated 42%)\n",
      "  adding: home/jupyter/image-processing/utils/__pycache__/metrics.cpython-310.pyc (deflated 47%)\n",
      "  adding: home/jupyter/image-processing/utils/__pycache__/plots.cpython-310.pyc (deflated 46%)\n",
      "  adding: home/jupyter/image-processing/utils/__pycache__/dataloaders.cpython-310.pyc (deflated 51%)\n",
      "  adding: home/jupyter/image-processing/utils/__pycache__/__init__.cpython-310.pyc (deflated 41%)\n",
      "  adding: home/jupyter/image-processing/utils/__pycache__/augmentations.cpython-310.pyc (deflated 47%)\n",
      "  adding: home/jupyter/image-processing/utils/tal/ (stored 0%)\n",
      "  adding: home/jupyter/image-processing/utils/tal/anchor_generator.py (deflated 59%)\n",
      "  adding: home/jupyter/image-processing/utils/tal/__pycache__/ (stored 0%)\n",
      "  adding: home/jupyter/image-processing/utils/tal/__pycache__/__init__.cpython-310.pyc (deflated 22%)\n",
      "  adding: home/jupyter/image-processing/utils/tal/__pycache__/anchor_generator.cpython-310.pyc (deflated 35%)\n",
      "  adding: home/jupyter/image-processing/utils/tal/__init__.py (stored 0%)\n",
      "  adding: home/jupyter/image-processing/utils/tal/assigner.py (deflated 73%)\n",
      "  adding: home/jupyter/image-processing/utils/coco_utils.py (deflated 60%)\n",
      "  adding: home/jupyter/image-processing/utils/loss.py (deflated 77%)\n",
      "  adding: home/jupyter/image-processing/utils/augmentations.py (deflated 66%)\n",
      "  adding: home/jupyter/image-processing/utils/metrics.py (deflated 66%)\n",
      "  adding: home/jupyter/image-processing/utils/torch_utils.py (deflated 68%)\n",
      "  adding: home/jupyter/image-processing/utils/loss_tal.py (deflated 69%)\n",
      "  adding: home/jupyter/image-processing/utils/loss_tal_triple.py (deflated 76%)\n",
      "  adding: home/jupyter/image-processing/utils/triton.py (deflated 68%)\n",
      "  adding: home/jupyter/image-processing/utils/loggers/ (stored 0%)\n",
      "  adding: home/jupyter/image-processing/utils/loggers/clearml/ (stored 0%)\n",
      "  adding: home/jupyter/image-processing/utils/loggers/clearml/clearml_utils.py (deflated 65%)\n",
      "  adding: home/jupyter/image-processing/utils/loggers/clearml/__init__.py (stored 0%)\n",
      "  adding: home/jupyter/image-processing/utils/loggers/clearml/hpo.py (deflated 71%)\n",
      "  adding: home/jupyter/image-processing/utils/loggers/__init__.py (deflated 73%)\n",
      "  adding: home/jupyter/image-processing/utils/loggers/wandb/ (stored 0%)\n",
      "  adding: home/jupyter/image-processing/utils/loggers/wandb/log_dataset.py (deflated 52%)\n",
      "  adding: home/jupyter/image-processing/utils/loggers/wandb/wandb_utils.py (deflated 75%)\n",
      "  adding: home/jupyter/image-processing/utils/loggers/wandb/__init__.py (stored 0%)\n",
      "  adding: home/jupyter/image-processing/utils/loggers/wandb/sweep.py (deflated 53%)\n",
      "  adding: home/jupyter/image-processing/utils/loggers/wandb/sweep.yaml (deflated 73%)\n",
      "  adding: home/jupyter/image-processing/utils/loggers/comet/ (stored 0%)\n",
      "  adding: home/jupyter/image-processing/utils/loggers/comet/comet_utils.py (deflated 69%)\n",
      "  adding: home/jupyter/image-processing/utils/loggers/comet/__init__.py (deflated 74%)\n",
      "  adding: home/jupyter/image-processing/utils/loggers/comet/optimizer_config.json (deflated 85%)\n",
      "  adding: home/jupyter/image-processing/utils/loggers/comet/hpo.py (deflated 68%)\n",
      "  adding: home/jupyter/image-processing/utils/autoanchor.py (deflated 60%)\n",
      "  adding: home/jupyter/image-processing/utils/callbacks.py (deflated 69%)\n",
      "  adding: home/jupyter/image-processing/utils/plots.py (deflated 66%)\n",
      "  adding: home/jupyter/image-processing/utils/autobatch.py (deflated 57%)\n",
      "  adding: home/jupyter/image-processing/utils/__init__.py (deflated 54%)\n",
      "  adding: home/jupyter/image-processing/utils/.ipynb_checkpoints/ (stored 0%)\n",
      "  adding: home/jupyter/image-processing/utils/.ipynb_checkpoints/dataloaders-checkpoint.py (deflated 72%)\n",
      "  adding: home/jupyter/image-processing/utils/.ipynb_checkpoints/general-checkpoint.py (deflated 66%)\n",
      "  adding: home/jupyter/image-processing/utils/.ipynb_checkpoints/plots-checkpoint.py (deflated 66%)\n",
      "  adding: home/jupyter/image-processing/utils/lion.py (deflated 63%)\n",
      "  adding: home/jupyter/image-processing/utils/segment/ (stored 0%)\n",
      "  adding: home/jupyter/image-processing/utils/segment/loss_tal_dual.py (deflated 88%)\n",
      "  adding: home/jupyter/image-processing/utils/segment/__pycache__/ (stored 0%)\n",
      "  adding: home/jupyter/image-processing/utils/segment/__pycache__/general.cpython-310.pyc (deflated 50%)\n",
      "  adding: home/jupyter/image-processing/utils/segment/__pycache__/__init__.cpython-310.pyc (deflated 21%)\n",
      "  adding: home/jupyter/image-processing/utils/segment/tal/ (stored 0%)\n",
      "  adding: home/jupyter/image-processing/utils/segment/tal/anchor_generator.py (deflated 59%)\n",
      "  adding: home/jupyter/image-processing/utils/segment/tal/__init__.py (stored 0%)\n",
      "  adding: home/jupyter/image-processing/utils/segment/tal/assigner.py (deflated 73%)\n",
      "  adding: home/jupyter/image-processing/utils/segment/loss.py (deflated 66%)\n",
      "  adding: home/jupyter/image-processing/utils/segment/augmentations.py (deflated 63%)\n",
      "  adding: home/jupyter/image-processing/utils/segment/metrics.py (deflated 77%)\n",
      "  adding: home/jupyter/image-processing/utils/segment/loss_tal.py (deflated 70%)\n",
      "  adding: home/jupyter/image-processing/utils/segment/plots.py (deflated 64%)\n",
      "  adding: home/jupyter/image-processing/utils/segment/__init__.py (stored 0%)\n",
      "  adding: home/jupyter/image-processing/utils/segment/dataloaders.py (deflated 72%)\n",
      "  adding: home/jupyter/image-processing/utils/segment/general.py (deflated 67%)\n",
      "  adding: home/jupyter/image-processing/utils/panoptic/ (stored 0%)\n",
      "  adding: home/jupyter/image-processing/utils/panoptic/tal/ (stored 0%)\n",
      "  adding: home/jupyter/image-processing/utils/panoptic/tal/anchor_generator.py (deflated 59%)\n",
      "  adding: home/jupyter/image-processing/utils/panoptic/tal/__init__.py (stored 0%)\n",
      "  adding: home/jupyter/image-processing/utils/panoptic/tal/assigner.py (deflated 73%)\n",
      "  adding: home/jupyter/image-processing/utils/panoptic/loss.py (deflated 66%)\n",
      "  adding: home/jupyter/image-processing/utils/panoptic/augmentations.py (deflated 67%)\n",
      "  adding: home/jupyter/image-processing/utils/panoptic/metrics.py (deflated 76%)\n",
      "  adding: home/jupyter/image-processing/utils/panoptic/loss_tal.py (deflated 71%)\n",
      "  adding: home/jupyter/image-processing/utils/panoptic/plots.py (deflated 64%)\n",
      "  adding: home/jupyter/image-processing/utils/panoptic/__init__.py (stored 0%)\n",
      "  adding: home/jupyter/image-processing/utils/panoptic/dataloaders.py (deflated 73%)\n",
      "  adding: home/jupyter/image-processing/utils/panoptic/general.py (deflated 67%)\n",
      "  adding: home/jupyter/image-processing/utils/dataloaders.py (deflated 72%)\n",
      "  adding: home/jupyter/image-processing/utils/general.py (deflated 66%)\n",
      "  adding: home/jupyter/image-processing/utils/downloads.py (deflated 61%)\n",
      "  adding: home/jupyter/image-processing/runs/ (stored 0%)\n",
      "  adding: home/jupyter/image-processing/runs/train/ (stored 0%)\n",
      "  adding: home/jupyter/image-processing/runs/train/custom_yolov95/ (stored 0%)\n",
      "  adding: home/jupyter/image-processing/runs/train/custom_yolov95/confusion_matrix.png (deflated 13%)\n",
      "  adding: home/jupyter/image-processing/runs/train/custom_yolov95/results.csv (deflated 88%)\n",
      "  adding: home/jupyter/image-processing/runs/train/custom_yolov95/train_batch0.jpg (deflated 4%)\n",
      "  adding: home/jupyter/image-processing/runs/train/custom_yolov95/labels_correlogram.jpg (deflated 32%)\n",
      "  adding: home/jupyter/image-processing/runs/train/custom_yolov95/val_batch0_labels.jpg (deflated 10%)\n",
      "  adding: home/jupyter/image-processing/runs/train/custom_yolov95/Untitled.ipynb (deflated 21%)\n",
      "  adding: home/jupyter/image-processing/runs/train/custom_yolov95/labels.jpg (deflated 19%)\n",
      "  adding: home/jupyter/image-processing/runs/train/custom_yolov95/PR_curve.png (deflated 6%)\n",
      "  adding: home/jupyter/image-processing/runs/train/custom_yolov95/val_batch0_pred.jpg (deflated 10%)\n",
      "  adding: home/jupyter/image-processing/runs/train/custom_yolov95/val_batch1_labels.jpg (deflated 10%)\n",
      "  adding: home/jupyter/image-processing/runs/train/custom_yolov95/events.out.tfevents.1743745852.instance-20250403-140922.288855.0 (deflated 14%)\n",
      "  adding: home/jupyter/image-processing/runs/train/custom_yolov95/train_batch2.jpg (deflated 4%)\n",
      "  adding: home/jupyter/image-processing/runs/train/custom_yolov95/.ipynb_checkpoints/ (stored 0%)\n",
      "  adding: home/jupyter/image-processing/runs/train/custom_yolov95/.ipynb_checkpoints/PR_curve-checkpoint.png (deflated 6%)\n",
      "  adding: home/jupyter/image-processing/runs/train/custom_yolov95/.ipynb_checkpoints/val_batch1_pred-checkpoint.jpg (deflated 9%)\n",
      "  adding: home/jupyter/image-processing/runs/train/custom_yolov95/.ipynb_checkpoints/labels_correlogram-checkpoint.jpg (deflated 32%)\n",
      "  adding: home/jupyter/image-processing/runs/train/custom_yolov95/.ipynb_checkpoints/hyp-checkpoint.yaml (deflated 43%)\n",
      "  adding: home/jupyter/image-processing/runs/train/custom_yolov95/.ipynb_checkpoints/Untitled-checkpoint.ipynb (deflated 21%)\n",
      "  adding: home/jupyter/image-processing/runs/train/custom_yolov95/.ipynb_checkpoints/train_batch1-checkpoint.jpg (deflated 6%)\n",
      "  adding: home/jupyter/image-processing/runs/train/custom_yolov95/.ipynb_checkpoints/val_batch0_labels-checkpoint.jpg (deflated 10%)\n",
      "  adding: home/jupyter/image-processing/runs/train/custom_yolov95/.ipynb_checkpoints/train_batch0-checkpoint.jpg (deflated 4%)\n",
      "  adding: home/jupyter/image-processing/runs/train/custom_yolov95/.ipynb_checkpoints/train_batch2-checkpoint.jpg (deflated 4%)\n",
      "  adding: home/jupyter/image-processing/runs/train/custom_yolov95/.ipynb_checkpoints/val_batch2_pred-checkpoint.jpg (deflated 8%)\n",
      "  adding: home/jupyter/image-processing/runs/train/custom_yolov95/.ipynb_checkpoints/results-checkpoint.csv (deflated 70%)\n",
      "  adding: home/jupyter/image-processing/runs/train/custom_yolov95/.ipynb_checkpoints/labels-checkpoint.jpg (deflated 19%)\n",
      "  adding: home/jupyter/image-processing/runs/train/custom_yolov95/.ipynb_checkpoints/opt-checkpoint.yaml (deflated 49%)\n",
      "  adding: home/jupyter/image-processing/runs/train/custom_yolov95/.ipynb_checkpoints/val_batch0_pred-checkpoint.jpg (deflated 10%)\n",
      "  adding: home/jupyter/image-processing/runs/train/custom_yolov95/weights/ (stored 0%)\n",
      "  adding: home/jupyter/image-processing/runs/train/custom_yolov95/weights/last.pt (deflated 8%)\n",
      "  adding: home/jupyter/image-processing/runs/train/custom_yolov95/weights/cust.zip (stored 0%)\n",
      "  adding: home/jupyter/image-processing/runs/train/custom_yolov95/weights/best.pt (deflated 8%)\n",
      "  adding: home/jupyter/image-processing/runs/train/custom_yolov95/weights/cust/ (stored 0%)\n",
      "  adding: home/jupyter/image-processing/runs/train/custom_yolov95/weights/cust/best.pt (deflated 8%)\n",
      "  adding: home/jupyter/image-processing/runs/train/custom_yolov95/val_batch1_pred.jpg (deflated 9%)\n",
      "  adding: home/jupyter/image-processing/runs/train/custom_yolov95/hyp.yaml (deflated 43%)\n",
      "  adding: home/jupyter/image-processing/runs/train/custom_yolov95/R_curve.png (deflated 4%)\n",
      "  adding: home/jupyter/image-processing/runs/train/custom_yolov95/train_batch1.jpg (deflated 6%)\n",
      "  adding: home/jupyter/image-processing/runs/train/custom_yolov95/val_batch2_pred.jpg (deflated 8%)\n",
      "  adding: home/jupyter/image-processing/runs/train/custom_yolov95/F1_curve.png (deflated 5%)\n",
      "  adding: home/jupyter/image-processing/runs/train/custom_yolov95/P_curve.png (deflated 6%)\n",
      "  adding: home/jupyter/image-processing/runs/train/custom_yolov95/val_batch2_labels.jpg (deflated 9%)\n",
      "  adding: home/jupyter/image-processing/runs/train/custom_yolov95/results.png (deflated 13%)\n",
      "  adding: home/jupyter/image-processing/runs/train/custom_yolov95/opt.yaml (deflated 49%)\n",
      "  adding: home/jupyter/image-processing/runs/train/Nassco_v9/ (stored 0%)\n",
      "  adding: home/jupyter/image-processing/runs/train/Nassco_v9/.ipynb_checkpoints/ (stored 0%)\n",
      "  adding: home/jupyter/image-processing/runs/train/Nassco_v9/weights/ (stored 0%)\n",
      "  adding: home/jupyter/image-processing/runs/train/Nassco_v9/weights/best.pt (deflated 8%)\n",
      "  adding: home/jupyter/image-processing/runs/train/wrc_sewer_v9.zip (stored 0%)\n",
      "  adding: home/jupyter/image-processing/runs/train/Wrc_water_v9.zip (stored 0%)\n",
      "  adding: home/jupyter/image-processing/runs/train/Euro_v9/ (stored 0%)\n",
      "  adding: home/jupyter/image-processing/runs/train/Euro_v9/.ipynb_checkpoints/ (stored 0%)\n",
      "  adding: home/jupyter/image-processing/runs/train/Euro_v9/weights/ (stored 0%)\n",
      "  adding: home/jupyter/image-processing/runs/train/Euro_v9/weights/best.pt (deflated 8%)\n",
      "  adding: home/jupyter/image-processing/runs/train/Wrc_water_v9/ (stored 0%)\n",
      "  adding: home/jupyter/image-processing/runs/train/Wrc_water_v9/weights/ (stored 0%)\n",
      "  adding: home/jupyter/image-processing/runs/train/Wrc_sewer_v9_v2.1.0/ (stored 0%)\n",
      "  adding: home/jupyter/image-processing/runs/train/Wrc_sewer_v9_v2.1.0/confusion_matrix.png (deflated 13%)\n",
      "  adding: home/jupyter/image-processing/runs/train/Wrc_sewer_v9_v2.1.0/results.csv (deflated 85%)\n",
      "  adding: home/jupyter/image-processing/runs/train/Wrc_sewer_v9_v2.1.0/train_batch0.jpg (deflated 6%)\n",
      "  adding: home/jupyter/image-processing/runs/train/Wrc_sewer_v9_v2.1.0/labels_correlogram.jpg (deflated 32%)\n",
      "  adding: home/jupyter/image-processing/runs/train/Wrc_sewer_v9_v2.1.0/val_batch0_labels.jpg (deflated 8%)\n",
      "  adding: home/jupyter/image-processing/runs/train/Wrc_sewer_v9_v2.1.0/events.out.tfevents.1750319140.instance-20250617-221121.368958.0 (deflated 38%)\n",
      "  adding: home/jupyter/image-processing/runs/train/Wrc_sewer_v9_v2.1.0/labels.jpg (deflated 18%)\n",
      "  adding: home/jupyter/image-processing/runs/train/Wrc_sewer_v9_v2.1.0/PR_curve.png (deflated 7%)\n",
      "  adding: home/jupyter/image-processing/runs/train/Wrc_sewer_v9_v2.1.0/val_batch0_pred.jpg (deflated 7%)\n",
      "  adding: home/jupyter/image-processing/runs/train/Wrc_sewer_v9_v2.1.0/val_batch1_labels.jpg (deflated 10%)\n",
      "  adding: home/jupyter/image-processing/runs/train/Wrc_sewer_v9_v2.1.0/train_batch2.jpg (deflated 5%)\n",
      "  adding: home/jupyter/image-processing/runs/train/Wrc_sewer_v9_v2.1.0/.ipynb_checkpoints/ (stored 0%)\n",
      "  adding: home/jupyter/image-processing/runs/train/Wrc_sewer_v9_v2.1.0/.ipynb_checkpoints/PR_curve-checkpoint.png (deflated 7%)\n",
      "  adding: home/jupyter/image-processing/runs/train/Wrc_sewer_v9_v2.1.0/.ipynb_checkpoints/results-checkpoint.csv (deflated 81%)\n",
      "  adding: home/jupyter/image-processing/runs/train/Wrc_sewer_v9_v2.1.0/weights/ (stored 0%)\n",
      "  adding: home/jupyter/image-processing/runs/train/Wrc_sewer_v9_v2.1.0/weights/last.pt (deflated 8%)\n",
      "  adding: home/jupyter/image-processing/runs/train/Wrc_sewer_v9_v2.1.0/weights/last_striped.pt (deflated 8%)\n",
      "  adding: home/jupyter/image-processing/runs/train/Wrc_sewer_v9_v2.1.0/weights/best_striped.pt (deflated 8%)\n",
      "  adding: home/jupyter/image-processing/runs/train/Wrc_sewer_v9_v2.1.0/weights/best.pt (deflated 8%)\n",
      "  adding: home/jupyter/image-processing/runs/train/Wrc_sewer_v9_v2.1.0/val_batch1_pred.jpg (deflated 10%)\n",
      "  adding: home/jupyter/image-processing/runs/train/Wrc_sewer_v9_v2.1.0/hyp.yaml (deflated 43%)\n",
      "  adding: home/jupyter/image-processing/runs/train/Wrc_sewer_v9_v2.1.0/R_curve.png (deflated 5%)\n",
      "  adding: home/jupyter/image-processing/runs/train/Wrc_sewer_v9_v2.1.0/train_batch1.jpg (deflated 7%)\n",
      "  adding: home/jupyter/image-processing/runs/train/Wrc_sewer_v9_v2.1.0/val_batch2_pred.jpg (deflated 8%)\n",
      "  adding: home/jupyter/image-processing/runs/train/Wrc_sewer_v9_v2.1.0/F1_curve.png (deflated 5%)\n",
      "  adding: home/jupyter/image-processing/runs/train/Wrc_sewer_v9_v2.1.0/P_curve.png (deflated 8%)\n",
      "  adding: home/jupyter/image-processing/runs/train/Wrc_sewer_v9_v2.1.0/val_batch2_labels.jpg (deflated 8%)\n",
      "  adding: home/jupyter/image-processing/runs/train/Wrc_sewer_v9_v2.1.0/results.png (deflated 12%)\n",
      "  adding: home/jupyter/image-processing/runs/train/Wrc_sewer_v9_v2.1.0/opt.yaml (deflated 48%)\n",
      "  adding: home/jupyter/image-processing/runs/train/wrc_sewer_v9/ (stored 0%)\n",
      "  adding: home/jupyter/image-processing/runs/train/wrc_sewer_v9/confusion_matrix.png (deflated 13%)\n",
      "  adding: home/jupyter/image-processing/runs/train/wrc_sewer_v9/labels_correlogram.jpg (deflated 32%)\n",
      "  adding: home/jupyter/image-processing/runs/train/wrc_sewer_v9/labels.jpg (deflated 18%)\n",
      "  adding: home/jupyter/image-processing/runs/train/wrc_sewer_v9/PR_curve.png (deflated 7%)\n",
      "  adding: home/jupyter/image-processing/runs/train/wrc_sewer_v9/.ipynb_checkpoints/ (stored 0%)\n",
      "  adding: home/jupyter/image-processing/runs/train/wrc_sewer_v9/.ipynb_checkpoints/labels-checkpoint.jpg (deflated 18%)\n",
      "  adding: home/jupyter/image-processing/runs/train/wrc_sewer_v9/.ipynb_checkpoints/opt-checkpoint.yaml (deflated 49%)\n",
      "  adding: home/jupyter/image-processing/runs/train/wrc_sewer_v9/weights/ (stored 0%)\n",
      "  adding: home/jupyter/image-processing/runs/train/wrc_sewer_v9/weights/last.pt (deflated 8%)\n",
      "  adding: home/jupyter/image-processing/runs/train/wrc_sewer_v9/weights/.ipynb_checkpoints/ (stored 0%)\n",
      "  adding: home/jupyter/image-processing/runs/train/wrc_sewer_v9/weights/best.pt (deflated 8%)\n",
      "  adding: home/jupyter/image-processing/runs/train/wrc_sewer_v9/weights/cust/ (stored 0%)\n",
      "  adding: home/jupyter/image-processing/runs/train/wrc_sewer_v9/hyp.yaml (deflated 43%)\n",
      "  adding: home/jupyter/image-processing/runs/train/wrc_sewer_v9/F1_curve.png (deflated 5%)\n",
      "  adding: home/jupyter/image-processing/runs/train/wrc_sewer_v9/results.png (deflated 14%)\n",
      "  adding: home/jupyter/image-processing/runs/train/wrc_sewer_v9/opt.yaml (deflated 49%)\n",
      "  adding: home/jupyter/image-processing/runs/train/.ipynb_checkpoints/ (stored 0%)\n",
      "  adding: home/jupyter/image-processing/runs/train/Wrc_water_v9_v2.1.0/ (stored 0%)\n",
      "  adding: home/jupyter/image-processing/runs/train/Wrc_water_v9_v2.1.0/confusion_matrix.png (deflated 13%)\n",
      "  adding: home/jupyter/image-processing/runs/train/Wrc_water_v9_v2.1.0/results.csv (deflated 85%)\n",
      "  adding: home/jupyter/image-processing/runs/train/Wrc_water_v9_v2.1.0/train_batch0.jpg (deflated 5%)\n",
      "  adding: home/jupyter/image-processing/runs/train/Wrc_water_v9_v2.1.0/labels_correlogram.jpg (deflated 32%)\n",
      "  adding: home/jupyter/image-processing/runs/train/Wrc_water_v9_v2.1.0/val_batch0_labels.jpg (deflated 9%)\n",
      "  adding: home/jupyter/image-processing/runs/train/Wrc_water_v9_v2.1.0/home/ (stored 0%)\n",
      "  adding: home/jupyter/image-processing/runs/train/Wrc_water_v9_v2.1.0/home/jupyter/ (stored 0%)\n",
      "  adding: home/jupyter/image-processing/runs/train/Wrc_water_v9_v2.1.0/home/jupyter/yolov9/ (stored 0%)\n",
      "  adding: home/jupyter/image-processing/runs/train/Wrc_water_v9_v2.1.0/home/jupyter/yolov9/runs/ (stored 0%)\n",
      "  adding: home/jupyter/image-processing/runs/train/Wrc_water_v9_v2.1.0/home/jupyter/yolov9/runs/train/ (stored 0%)\n",
      "  adding: home/jupyter/image-processing/runs/train/Wrc_water_v9_v2.1.0/home/jupyter/yolov9/runs/train/exp/ (stored 0%)\n",
      "  adding: home/jupyter/image-processing/runs/train/Wrc_water_v9_v2.1.0/home/jupyter/yolov9/runs/train/exp/confusion_matrix.png (deflated 13%)\n",
      "  adding: home/jupyter/image-processing/runs/train/Wrc_water_v9_v2.1.0/home/jupyter/yolov9/runs/train/exp/results.csv (deflated 85%)\n",
      "  adding: home/jupyter/image-processing/runs/train/Wrc_water_v9_v2.1.0/home/jupyter/yolov9/runs/train/exp/train_batch0.jpg (deflated 6%)\n",
      "  adding: home/jupyter/image-processing/runs/train/Wrc_water_v9_v2.1.0/home/jupyter/yolov9/runs/train/exp/labels_correlogram.jpg (deflated 32%)\n",
      "  adding: home/jupyter/image-processing/runs/train/Wrc_water_v9_v2.1.0/home/jupyter/yolov9/runs/train/exp/val_batch0_labels.jpg (deflated 8%)\n",
      "  adding: home/jupyter/image-processing/runs/train/Wrc_water_v9_v2.1.0/home/jupyter/yolov9/runs/train/exp/events.out.tfevents.1750319140.instance-20250617-221121.368958.0 (deflated 38%)\n",
      "  adding: home/jupyter/image-processing/runs/train/Wrc_water_v9_v2.1.0/home/jupyter/yolov9/runs/train/exp/labels.jpg (deflated 18%)\n",
      "  adding: home/jupyter/image-processing/runs/train/Wrc_water_v9_v2.1.0/home/jupyter/yolov9/runs/train/exp/PR_curve.png (deflated 7%)\n",
      "  adding: home/jupyter/image-processing/runs/train/Wrc_water_v9_v2.1.0/home/jupyter/yolov9/runs/train/exp/val_batch0_pred.jpg (deflated 7%)\n",
      "  adding: home/jupyter/image-processing/runs/train/Wrc_water_v9_v2.1.0/home/jupyter/yolov9/runs/train/exp/val_batch1_labels.jpg (deflated 10%)\n",
      "  adding: home/jupyter/image-processing/runs/train/Wrc_water_v9_v2.1.0/home/jupyter/yolov9/runs/train/exp/train_batch2.jpg (deflated 5%)\n",
      "  adding: home/jupyter/image-processing/runs/train/Wrc_water_v9_v2.1.0/home/jupyter/yolov9/runs/train/exp/.ipynb_checkpoints/ (stored 0%)\n",
      "  adding: home/jupyter/image-processing/runs/train/Wrc_water_v9_v2.1.0/home/jupyter/yolov9/runs/train/exp/.ipynb_checkpoints/PR_curve-checkpoint.png (deflated 7%)\n",
      "  adding: home/jupyter/image-processing/runs/train/Wrc_water_v9_v2.1.0/home/jupyter/yolov9/runs/train/exp/.ipynb_checkpoints/results-checkpoint.csv (deflated 81%)\n",
      "  adding: home/jupyter/image-processing/runs/train/Wrc_water_v9_v2.1.0/home/jupyter/yolov9/runs/train/exp/weights/ (stored 0%)\n",
      "  adding: home/jupyter/image-processing/runs/train/Wrc_water_v9_v2.1.0/home/jupyter/yolov9/runs/train/exp/weights/last.pt (deflated 8%)\n",
      "  adding: home/jupyter/image-processing/runs/train/Wrc_water_v9_v2.1.0/home/jupyter/yolov9/runs/train/exp/weights/last_striped.pt (deflated 8%)\n",
      "  adding: home/jupyter/image-processing/runs/train/Wrc_water_v9_v2.1.0/home/jupyter/yolov9/runs/train/exp/weights/best_striped.pt (deflated 8%)\n",
      "  adding: home/jupyter/image-processing/runs/train/Wrc_water_v9_v2.1.0/home/jupyter/yolov9/runs/train/exp/weights/best.pt (deflated 8%)\n",
      "  adding: home/jupyter/image-processing/runs/train/Wrc_water_v9_v2.1.0/home/jupyter/yolov9/runs/train/exp/val_batch1_pred.jpg (deflated 10%)\n",
      "  adding: home/jupyter/image-processing/runs/train/Wrc_water_v9_v2.1.0/home/jupyter/yolov9/runs/train/exp/hyp.yaml (deflated 43%)\n",
      "  adding: home/jupyter/image-processing/runs/train/Wrc_water_v9_v2.1.0/home/jupyter/yolov9/runs/train/exp/R_curve.png (deflated 5%)\n",
      "  adding: home/jupyter/image-processing/runs/train/Wrc_water_v9_v2.1.0/home/jupyter/yolov9/runs/train/exp/train_batch1.jpg (deflated 7%)\n",
      "  adding: home/jupyter/image-processing/runs/train/Wrc_water_v9_v2.1.0/home/jupyter/yolov9/runs/train/exp/val_batch2_pred.jpg (deflated 8%)\n",
      "  adding: home/jupyter/image-processing/runs/train/Wrc_water_v9_v2.1.0/home/jupyter/yolov9/runs/train/exp/F1_curve.png (deflated 5%)\n",
      "  adding: home/jupyter/image-processing/runs/train/Wrc_water_v9_v2.1.0/home/jupyter/yolov9/runs/train/exp/P_curve.png (deflated 8%)\n",
      "  adding: home/jupyter/image-processing/runs/train/Wrc_water_v9_v2.1.0/home/jupyter/yolov9/runs/train/exp/val_batch2_labels.jpg (deflated 8%)\n",
      "  adding: home/jupyter/image-processing/runs/train/Wrc_water_v9_v2.1.0/home/jupyter/yolov9/runs/train/exp/results.png (deflated 12%)\n",
      "  adding: home/jupyter/image-processing/runs/train/Wrc_water_v9_v2.1.0/home/jupyter/yolov9/runs/train/exp/opt.yaml (deflated 48%)\n",
      "  adding: home/jupyter/image-processing/runs/train/Wrc_water_v9_v2.1.0/labels.jpg (deflated 19%)\n",
      "  adding: home/jupyter/image-processing/runs/train/Wrc_water_v9_v2.1.0/PR_curve.png (deflated 6%)\n",
      "  adding: home/jupyter/image-processing/runs/train/Wrc_water_v9_v2.1.0/val_batch0_pred.jpg (deflated 9%)\n",
      "  adding: home/jupyter/image-processing/runs/train/Wrc_water_v9_v2.1.0/val_batch1_labels.jpg (deflated 12%)\n",
      "  adding: home/jupyter/image-processing/runs/train/Wrc_water_v9_v2.1.0/train_batch2.jpg (deflated 7%)\n",
      "  adding: home/jupyter/image-processing/runs/train/Wrc_water_v9_v2.1.0/.ipynb_checkpoints/ (stored 0%)\n",
      "  adding: home/jupyter/image-processing/runs/train/Wrc_water_v9_v2.1.0/.ipynb_checkpoints/F1_curve-checkpoint.png (deflated 4%)\n",
      "  adding: home/jupyter/image-processing/runs/train/Wrc_water_v9_v2.1.0/.ipynb_checkpoints/PR_curve-checkpoint.png (deflated 6%)\n",
      "  adding: home/jupyter/image-processing/runs/train/Wrc_water_v9_v2.1.0/.ipynb_checkpoints/val_batch1_pred-checkpoint.jpg (deflated 11%)\n",
      "  adding: home/jupyter/image-processing/runs/train/Wrc_water_v9_v2.1.0/.ipynb_checkpoints/labels_correlogram-checkpoint.jpg (deflated 32%)\n",
      "  adding: home/jupyter/image-processing/runs/train/Wrc_water_v9_v2.1.0/.ipynb_checkpoints/train_batch1-checkpoint.jpg (deflated 6%)\n",
      "  adding: home/jupyter/image-processing/runs/train/Wrc_water_v9_v2.1.0/.ipynb_checkpoints/train_batch0-checkpoint.jpg (deflated 5%)\n",
      "  adding: home/jupyter/image-processing/runs/train/Wrc_water_v9_v2.1.0/.ipynb_checkpoints/val_batch2_labels-checkpoint.jpg (deflated 8%)\n",
      "  adding: home/jupyter/image-processing/runs/train/Wrc_water_v9_v2.1.0/.ipynb_checkpoints/train_batch2-checkpoint.jpg (deflated 7%)\n",
      "  adding: home/jupyter/image-processing/runs/train/Wrc_water_v9_v2.1.0/.ipynb_checkpoints/results-checkpoint.png (deflated 12%)\n",
      "  adding: home/jupyter/image-processing/runs/train/Wrc_water_v9_v2.1.0/.ipynb_checkpoints/val_batch2_pred-checkpoint.jpg (deflated 8%)\n",
      "  adding: home/jupyter/image-processing/runs/train/Wrc_water_v9_v2.1.0/.ipynb_checkpoints/results-checkpoint.csv (deflated 78%)\n",
      "  adding: home/jupyter/image-processing/runs/train/Wrc_water_v9_v2.1.0/.ipynb_checkpoints/labels-checkpoint.jpg (deflated 19%)\n",
      "  adding: home/jupyter/image-processing/runs/train/Wrc_water_v9_v2.1.0/.ipynb_checkpoints/opt-checkpoint.yaml (deflated 48%)\n",
      "  adding: home/jupyter/image-processing/runs/train/Wrc_water_v9_v2.1.0/.ipynb_checkpoints/val_batch0_pred-checkpoint.jpg (deflated 9%)\n",
      "  adding: home/jupyter/image-processing/runs/train/Wrc_water_v9_v2.1.0/weights/ (stored 0%)\n",
      "  adding: home/jupyter/image-processing/runs/train/Wrc_water_v9_v2.1.0/weights/last.pt (deflated 8%)\n",
      "  adding: home/jupyter/image-processing/runs/train/Wrc_water_v9_v2.1.0/weights/last_striped.pt (deflated 8%)\n",
      "  adding: home/jupyter/image-processing/runs/train/Wrc_water_v9_v2.1.0/weights/best_striped.pt (deflated 8%)\n",
      "  adding: home/jupyter/image-processing/runs/train/Wrc_water_v9_v2.1.0/weights/best.pt (deflated 8%)\n",
      "  adding: home/jupyter/image-processing/runs/train/Wrc_water_v9_v2.1.0/val_batch1_pred.jpg (deflated 11%)\n",
      "  adding: home/jupyter/image-processing/runs/train/Wrc_water_v9_v2.1.0/hyp.yaml (deflated 43%)\n",
      "  adding: home/jupyter/image-processing/runs/train/Wrc_water_v9_v2.1.0/R_curve.png (deflated 5%)\n",
      "  adding: home/jupyter/image-processing/runs/train/Wrc_water_v9_v2.1.0/train_batch1.jpg (deflated 6%)\n",
      "  adding: home/jupyter/image-processing/runs/train/Wrc_water_v9_v2.1.0/events.out.tfevents.1750245408.instance-20250617-215157.67425.0 (deflated 37%)\n",
      "  adding: home/jupyter/image-processing/runs/train/Wrc_water_v9_v2.1.0/val_batch2_pred.jpg (deflated 8%)\n",
      "  adding: home/jupyter/image-processing/runs/train/Wrc_water_v9_v2.1.0/F1_curve.png (deflated 4%)\n",
      "  adding: home/jupyter/image-processing/runs/train/Wrc_water_v9_v2.1.0/P_curve.png (deflated 7%)\n",
      "  adding: home/jupyter/image-processing/runs/train/Wrc_water_v9_v2.1.0/val_batch2_labels.jpg (deflated 8%)\n",
      "  adding: home/jupyter/image-processing/runs/train/Wrc_water_v9_v2.1.0/results.png (deflated 12%)\n",
      "  adding: home/jupyter/image-processing/runs/train/Wrc_water_v9_v2.1.0/opt.yaml (deflated 48%)\n",
      "  adding: home/jupyter/image-processing/runs/.ipynb_checkpoints/ (stored 0%)\n",
      "  adding: home/jupyter/image-processing/runs/detect/ (stored 0%)\n",
      "  adding: home/jupyter/image-processing/runs/detect/exp4/ (stored 0%)\n",
      "  adding: home/jupyter/image-processing/runs/detect/exp4/Stone in 150 mm .jpeg (deflated 5%)\n",
      "  adding: home/jupyter/image-processing/runs/detect/exp4/.ipynb_checkpoints/ (stored 0%)\n",
      "  adding: home/jupyter/image-processing/runs/detect/exp4/.ipynb_checkpoints/Stone in 150 mm -checkpoint.jpeg (deflated 5%)\n",
      "  adding: home/jupyter/image-processing/runs/detect/exp4/horses.jpg (deflated 1%)\n",
      "  adding: home/jupyter/image-processing/runs/detect/exp5/ (stored 0%)\n",
      "  adding: home/jupyter/image-processing/runs/detect/exp5/Stone in 150 mm .jpeg (deflated 6%)\n",
      "  adding: home/jupyter/image-processing/runs/detect/exp5/horses.jpg (deflated 1%)\n",
      "  adding: home/jupyter/image-processing/runs/detect/exp7/ (stored 0%)\n",
      "  adding: home/jupyter/image-processing/runs/detect/exp7/Stone in 150 mm .jpeg (deflated 6%)\n",
      "  adding: home/jupyter/image-processing/runs/detect/exp7/horses.jpg (deflated 1%)\n",
      "  adding: home/jupyter/image-processing/runs/detect/exp/ (stored 0%)\n",
      "  adding: home/jupyter/image-processing/runs/detect/exp2/ (stored 0%)\n",
      "  adding: home/jupyter/image-processing/runs/detect/exp2/Stone in 150 mm .jpeg (deflated 5%)\n",
      "  adding: home/jupyter/image-processing/runs/detect/exp2/.ipynb_checkpoints/ (stored 0%)\n",
      "  adding: home/jupyter/image-processing/runs/detect/exp2/.ipynb_checkpoints/Stone in 150 mm -checkpoint.jpeg (deflated 5%)\n",
      "  adding: home/jupyter/image-processing/runs/detect/exp2/.ipynb_checkpoints/horses-checkpoint.jpg (deflated 1%)\n",
      "  adding: home/jupyter/image-processing/runs/detect/exp2/horses.jpg (deflated 1%)\n",
      "  adding: home/jupyter/image-processing/runs/detect/exp3/ (stored 0%)\n",
      "  adding: home/jupyter/image-processing/runs/detect/exp6/ (stored 0%)\n",
      "  adding: home/jupyter/image-processing/runs/detect/exp6/Stone in 150 mm .jpeg (deflated 6%)\n",
      "  adding: home/jupyter/image-processing/runs/detect/exp6/horses.jpg (deflated 1%)\n",
      "  adding: home/jupyter/image-processing/models/ (stored 0%)\n",
      "  adding: home/jupyter/image-processing/models/__pycache__/ (stored 0%)\n",
      "  adding: home/jupyter/image-processing/models/__pycache__/yolo.cpython-310.pyc (deflated 63%)\n",
      "  adding: home/jupyter/image-processing/models/__pycache__/common.cpython-310.pyc (deflated 57%)\n",
      "  adding: home/jupyter/image-processing/models/__pycache__/experimental.cpython-310.pyc (deflated 51%)\n",
      "  adding: home/jupyter/image-processing/models/__pycache__/__init__.cpython-310.pyc (deflated 23%)\n",
      "  adding: home/jupyter/image-processing/models/common.py (deflated 74%)\n",
      "  adding: home/jupyter/image-processing/models/__init__.py (stored 0%)\n",
      "  adding: home/jupyter/image-processing/models/.ipynb_checkpoints/ (stored 0%)\n",
      "  adding: home/jupyter/image-processing/models/.ipynb_checkpoints/experimental-checkpoint.py (deflated 72%)\n",
      "  adding: home/jupyter/image-processing/models/experimental.py (deflated 72%)\n",
      "  adding: home/jupyter/image-processing/models/tf.py (deflated 74%)\n",
      "  adding: home/jupyter/image-processing/models/detect/ (stored 0%)\n",
      "  adding: home/jupyter/image-processing/models/detect/yolov9-cf.yaml (deflated 73%)\n",
      "  adding: home/jupyter/image-processing/models/detect/gelan-t.yaml (deflated 69%)\n",
      "  adding: home/jupyter/image-processing/models/detect/gelan-s.yaml (deflated 69%)\n",
      "  adding: home/jupyter/image-processing/models/detect/yolov9-m.yaml (deflated 73%)\n",
      "  adding: home/jupyter/image-processing/models/detect/gelan.yaml (deflated 70%)\n",
      "  adding: home/jupyter/image-processing/models/detect/yolov9-s.yaml (deflated 74%)\n",
      "  adding: home/jupyter/image-processing/models/detect/gelan-e.yaml (deflated 73%)\n",
      "  adding: home/jupyter/image-processing/models/detect/yolov9.yaml (deflated 74%)\n",
      "  adding: home/jupyter/image-processing/models/detect/yolov7-af.yaml (deflated 85%)\n",
      "  adding: home/jupyter/image-processing/models/detect/yolov9-c.yaml (deflated 73%)\n",
      "  adding: home/jupyter/image-processing/models/detect/gelan-c.yaml (deflated 70%)\n",
      "  adding: home/jupyter/image-processing/models/detect/yolov9-t.yaml (deflated 74%)\n",
      "  adding: home/jupyter/image-processing/models/detect/gelan-m.yaml (deflated 69%)\n",
      "  adding: home/jupyter/image-processing/models/detect/yolov9-e.yaml (deflated 76%)\n",
      "  adding: home/jupyter/image-processing/models/hub/ (stored 0%)\n",
      "  adding: home/jupyter/image-processing/models/hub/yolov3-tiny.yaml (deflated 62%)\n",
      "  adding: home/jupyter/image-processing/models/hub/yolov3-spp.yaml (deflated 64%)\n",
      "  adding: home/jupyter/image-processing/models/hub/anchors.yaml (deflated 73%)\n",
      "  adding: home/jupyter/image-processing/models/hub/yolov3.yaml (deflated 65%)\n",
      "  adding: home/jupyter/image-processing/models/yolo.py (deflated 83%)\n",
      "  adding: home/jupyter/image-processing/models/segment/ (stored 0%)\n",
      "  adding: home/jupyter/image-processing/models/segment/yolov7-af-seg.yaml (deflated 85%)\n",
      "  adding: home/jupyter/image-processing/models/segment/yolov9-c-dseg.yaml (deflated 74%)\n",
      "  adding: home/jupyter/image-processing/models/segment/gelan-c-seg.yaml (deflated 70%)\n",
      "  adding: home/jupyter/image-processing/models/segment/gelan-c-dseg.yaml (deflated 71%)\n",
      "  adding: home/jupyter/image-processing/models/panoptic/ (stored 0%)\n",
      "  adding: home/jupyter/image-processing/models/panoptic/yolov7-af-pan.yaml (deflated 85%)\n",
      "  adding: home/jupyter/image-processing/models/panoptic/gelan-c-pan.yaml (deflated 70%)\n",
      "  adding: home/jupyter/image-processing/segment/ (stored 0%)\n",
      "  adding: home/jupyter/image-processing/segment/val_dual.py (deflated 68%)\n",
      "  adding: home/jupyter/image-processing/segment/train_dual.py (deflated 69%)\n",
      "  adding: home/jupyter/image-processing/segment/val.py (deflated 68%)\n",
      "  adding: home/jupyter/image-processing/segment/predict.py (deflated 68%)\n",
      "  adding: home/jupyter/image-processing/segment/train.py (deflated 69%)\n",
      "  adding: home/jupyter/image-processing/panoptic/ (stored 0%)\n",
      "  adding: home/jupyter/image-processing/panoptic/val.py (deflated 70%)\n",
      "  adding: home/jupyter/image-processing/panoptic/predict.py (deflated 68%)\n",
      "  adding: home/jupyter/image-processing/panoptic/train.py (deflated 70%)\n",
      "  adding: home/jupyter/image-processing/image-processing/ (stored 0%)\n",
      "  adding: home/jupyter/image-processing/image-processing/runs/ (stored 0%)\n",
      "  adding: home/jupyter/image-processing/image-processing/runs/train/ (stored 0%)\n",
      "  adding: home/jupyter/image-processing/image-processing/runs/train/Wrc_water_v9/ (stored 0%)\n",
      "  adding: home/jupyter/image-processing/image-processing/runs/train/Wrc_water_v9/weights/ (stored 0%)\n",
      "  adding: home/jupyter/image-processing/run_all.py (deflated 61%)\n",
      "  adding: home/jupyter/image-processing/export.py (deflated 72%)\n",
      "  adding: home/jupyter/image-processing/processing_speed_log.txt (stored 0%)\n",
      "  adding: home/jupyter/image-processing/detect_dual.py (deflated 67%)\n",
      "  adding: home/jupyter/image-processing/train.py (deflated 70%)\n"
     ]
    }
   ],
   "source": [
    "!zip -r /home/jupyter/image-processing.zip /home/jupyter/image-processing"
   ]
  },
  {
   "cell_type": "code",
   "execution_count": null,
   "id": "cedbf910-fcff-47c9-9810-e19355cbbb99",
   "metadata": {},
   "outputs": [],
   "source": [
    "\"gs://solinas-ai-dev/video/testing_video_vijay/ch_sivaji_28_29/.ipynb_checkpoints\" \\"
   ]
  },
  {
   "cell_type": "markdown",
   "id": "c1557ce8-364f-4df3-a6ca-9b3efb5affba",
   "metadata": {},
   "source": [
    "## YOLOV5"
   ]
  },
  {
   "cell_type": "code",
   "execution_count": null,
   "id": "fdc18400-5ce4-4274-89b1-d1cc460cb964",
   "metadata": {
    "tags": []
   },
   "outputs": [],
   "source": [
    "!git clone https://github.com/ultralytics/yolov5.git"
   ]
  },
  {
   "cell_type": "code",
   "execution_count": 6,
   "id": "c7037e1a-0154-42f6-b948-38e2d93b6e9c",
   "metadata": {
    "tags": []
   },
   "outputs": [
    {
     "name": "stdout",
     "output_type": "stream",
     "text": [
      "/home/jupyter/yolov5\n"
     ]
    }
   ],
   "source": [
    "%cd /home/jupyter/yolov5"
   ]
  },
  {
   "cell_type": "code",
   "execution_count": 15,
   "id": "5c043620-b426-4a48-b0a7-0ee9a79f93fa",
   "metadata": {
    "collapsed": true,
    "jupyter": {
     "outputs_hidden": true
    },
    "tags": []
   },
   "outputs": [
    {
     "name": "stdout",
     "output_type": "stream",
     "text": [
      "Requirement already satisfied: gitpython>=3.1.30 in /opt/conda/lib/python3.10/site-packages (from -r requirements.txt (line 5)) (3.1.44)\n",
      "Requirement already satisfied: matplotlib>=3.3 in /opt/conda/lib/python3.10/site-packages (from -r requirements.txt (line 6)) (3.10.0)\n",
      "Requirement already satisfied: numpy>=1.23.5 in /opt/conda/lib/python3.10/site-packages (from -r requirements.txt (line 7)) (1.24.4)\n",
      "Requirement already satisfied: pillow>=10.3.0 in /opt/conda/lib/python3.10/site-packages (from -r requirements.txt (line 9)) (11.1.0)\n",
      "Requirement already satisfied: psutil in /opt/conda/lib/python3.10/site-packages (from -r requirements.txt (line 10)) (5.9.3)\n",
      "Requirement already satisfied: PyYAML>=5.3.1 in /opt/conda/lib/python3.10/site-packages (from -r requirements.txt (line 11)) (6.0.2)\n",
      "Requirement already satisfied: requests>=2.32.2 in /opt/conda/lib/python3.10/site-packages (from -r requirements.txt (line 12)) (2.32.3)\n",
      "Requirement already satisfied: scipy>=1.4.1 in /opt/conda/lib/python3.10/site-packages (from -r requirements.txt (line 13)) (1.15.2)\n",
      "Requirement already satisfied: thop>=0.1.1 in /opt/conda/lib/python3.10/site-packages (from -r requirements.txt (line 14)) (0.1.1.post2209072238)\n",
      "Requirement already satisfied: torch>=1.8.0 in /opt/conda/lib/python3.10/site-packages (from -r requirements.txt (line 15)) (2.7.0)\n",
      "Requirement already satisfied: torchvision>=0.9.0 in /opt/conda/lib/python3.10/site-packages (from -r requirements.txt (line 16)) (0.22.0)\n",
      "Requirement already satisfied: tqdm>=4.66.3 in /opt/conda/lib/python3.10/site-packages (from -r requirements.txt (line 17)) (4.67.1)\n",
      "Requirement already satisfied: ultralytics>=8.2.34 in /opt/conda/lib/python3.10/site-packages (from -r requirements.txt (line 18)) (8.3.129)\n",
      "Requirement already satisfied: pandas>=1.1.4 in /opt/conda/lib/python3.10/site-packages (from -r requirements.txt (line 27)) (2.2.3)\n",
      "Requirement already satisfied: seaborn>=0.11.0 in /opt/conda/lib/python3.10/site-packages (from -r requirements.txt (line 28)) (0.13.2)\n",
      "Requirement already satisfied: setuptools>=70.0.0 in /opt/conda/lib/python3.10/site-packages (from -r requirements.txt (line 42)) (75.8.2)\n",
      "Requirement already satisfied: gitdb<5,>=4.0.1 in /opt/conda/lib/python3.10/site-packages (from gitpython>=3.1.30->-r requirements.txt (line 5)) (4.0.12)\n",
      "Requirement already satisfied: contourpy>=1.0.1 in /opt/conda/lib/python3.10/site-packages (from matplotlib>=3.3->-r requirements.txt (line 6)) (1.3.1)\n",
      "Requirement already satisfied: cycler>=0.10 in /opt/conda/lib/python3.10/site-packages (from matplotlib>=3.3->-r requirements.txt (line 6)) (0.12.1)\n",
      "Requirement already satisfied: fonttools>=4.22.0 in /opt/conda/lib/python3.10/site-packages (from matplotlib>=3.3->-r requirements.txt (line 6)) (4.56.0)\n",
      "Requirement already satisfied: kiwisolver>=1.3.1 in /opt/conda/lib/python3.10/site-packages (from matplotlib>=3.3->-r requirements.txt (line 6)) (1.4.8)\n",
      "Requirement already satisfied: packaging>=20.0 in /opt/conda/lib/python3.10/site-packages (from matplotlib>=3.3->-r requirements.txt (line 6)) (24.2)\n",
      "Requirement already satisfied: pyparsing>=2.3.1 in /opt/conda/lib/python3.10/site-packages (from matplotlib>=3.3->-r requirements.txt (line 6)) (3.2.3)\n",
      "Requirement already satisfied: python-dateutil>=2.7 in /opt/conda/lib/python3.10/site-packages (from matplotlib>=3.3->-r requirements.txt (line 6)) (2.9.0.post0)\n",
      "Requirement already satisfied: charset_normalizer<4,>=2 in /opt/conda/lib/python3.10/site-packages (from requests>=2.32.2->-r requirements.txt (line 12)) (3.4.1)\n",
      "Requirement already satisfied: idna<4,>=2.5 in /opt/conda/lib/python3.10/site-packages (from requests>=2.32.2->-r requirements.txt (line 12)) (3.10)\n",
      "Requirement already satisfied: urllib3<3,>=1.21.1 in /opt/conda/lib/python3.10/site-packages (from requests>=2.32.2->-r requirements.txt (line 12)) (1.26.20)\n",
      "Requirement already satisfied: certifi>=2017.4.17 in /opt/conda/lib/python3.10/site-packages (from requests>=2.32.2->-r requirements.txt (line 12)) (2025.4.26)\n",
      "Requirement already satisfied: filelock in /opt/conda/lib/python3.10/site-packages (from torch>=1.8.0->-r requirements.txt (line 15)) (3.18.0)\n",
      "Requirement already satisfied: typing-extensions>=4.10.0 in /opt/conda/lib/python3.10/site-packages (from torch>=1.8.0->-r requirements.txt (line 15)) (4.13.0)\n",
      "Requirement already satisfied: sympy>=1.13.3 in /opt/conda/lib/python3.10/site-packages (from torch>=1.8.0->-r requirements.txt (line 15)) (1.14.0)\n",
      "Requirement already satisfied: networkx in /opt/conda/lib/python3.10/site-packages (from torch>=1.8.0->-r requirements.txt (line 15)) (3.4.2)\n",
      "Requirement already satisfied: jinja2 in /opt/conda/lib/python3.10/site-packages (from torch>=1.8.0->-r requirements.txt (line 15)) (3.1.6)\n",
      "Requirement already satisfied: fsspec in /opt/conda/lib/python3.10/site-packages (from torch>=1.8.0->-r requirements.txt (line 15)) (2025.3.0)\n",
      "Requirement already satisfied: nvidia-cuda-nvrtc-cu12==12.6.77 in /opt/conda/lib/python3.10/site-packages (from torch>=1.8.0->-r requirements.txt (line 15)) (12.6.77)\n",
      "Requirement already satisfied: nvidia-cuda-runtime-cu12==12.6.77 in /opt/conda/lib/python3.10/site-packages (from torch>=1.8.0->-r requirements.txt (line 15)) (12.6.77)\n",
      "Requirement already satisfied: nvidia-cuda-cupti-cu12==12.6.80 in /opt/conda/lib/python3.10/site-packages (from torch>=1.8.0->-r requirements.txt (line 15)) (12.6.80)\n",
      "Requirement already satisfied: nvidia-cudnn-cu12==9.5.1.17 in /opt/conda/lib/python3.10/site-packages (from torch>=1.8.0->-r requirements.txt (line 15)) (9.5.1.17)\n",
      "Requirement already satisfied: nvidia-cublas-cu12==12.6.4.1 in /opt/conda/lib/python3.10/site-packages (from torch>=1.8.0->-r requirements.txt (line 15)) (12.6.4.1)\n",
      "Requirement already satisfied: nvidia-cufft-cu12==11.3.0.4 in /opt/conda/lib/python3.10/site-packages (from torch>=1.8.0->-r requirements.txt (line 15)) (11.3.0.4)\n",
      "Requirement already satisfied: nvidia-curand-cu12==10.3.7.77 in /opt/conda/lib/python3.10/site-packages (from torch>=1.8.0->-r requirements.txt (line 15)) (10.3.7.77)\n",
      "Requirement already satisfied: nvidia-cusolver-cu12==11.7.1.2 in /opt/conda/lib/python3.10/site-packages (from torch>=1.8.0->-r requirements.txt (line 15)) (11.7.1.2)\n",
      "Requirement already satisfied: nvidia-cusparse-cu12==12.5.4.2 in /opt/conda/lib/python3.10/site-packages (from torch>=1.8.0->-r requirements.txt (line 15)) (12.5.4.2)\n",
      "Requirement already satisfied: nvidia-cusparselt-cu12==0.6.3 in /opt/conda/lib/python3.10/site-packages (from torch>=1.8.0->-r requirements.txt (line 15)) (0.6.3)\n",
      "Requirement already satisfied: nvidia-nccl-cu12==2.26.2 in /opt/conda/lib/python3.10/site-packages (from torch>=1.8.0->-r requirements.txt (line 15)) (2.26.2)\n",
      "Requirement already satisfied: nvidia-nvtx-cu12==12.6.77 in /opt/conda/lib/python3.10/site-packages (from torch>=1.8.0->-r requirements.txt (line 15)) (12.6.77)\n",
      "Requirement already satisfied: nvidia-nvjitlink-cu12==12.6.85 in /opt/conda/lib/python3.10/site-packages (from torch>=1.8.0->-r requirements.txt (line 15)) (12.6.85)\n",
      "Requirement already satisfied: nvidia-cufile-cu12==1.11.1.6 in /opt/conda/lib/python3.10/site-packages (from torch>=1.8.0->-r requirements.txt (line 15)) (1.11.1.6)\n",
      "Requirement already satisfied: triton==3.3.0 in /opt/conda/lib/python3.10/site-packages (from torch>=1.8.0->-r requirements.txt (line 15)) (3.3.0)\n",
      "Requirement already satisfied: opencv-python>=4.6.0 in /opt/conda/lib/python3.10/site-packages (from ultralytics>=8.2.34->-r requirements.txt (line 18)) (4.11.0)\n",
      "Requirement already satisfied: py-cpuinfo in /opt/conda/lib/python3.10/site-packages (from ultralytics>=8.2.34->-r requirements.txt (line 18)) (9.0.0)\n",
      "Requirement already satisfied: ultralytics-thop>=2.0.0 in /opt/conda/lib/python3.10/site-packages (from ultralytics>=8.2.34->-r requirements.txt (line 18)) (2.0.14)\n",
      "Requirement already satisfied: pytz>=2020.1 in /opt/conda/lib/python3.10/site-packages (from pandas>=1.1.4->-r requirements.txt (line 27)) (2025.2)\n",
      "Requirement already satisfied: tzdata>=2022.7 in /opt/conda/lib/python3.10/site-packages (from pandas>=1.1.4->-r requirements.txt (line 27)) (2025.2)\n",
      "Requirement already satisfied: smmap<6,>=3.0.1 in /opt/conda/lib/python3.10/site-packages (from gitdb<5,>=4.0.1->gitpython>=3.1.30->-r requirements.txt (line 5)) (5.0.2)\n",
      "Requirement already satisfied: six>=1.5 in /opt/conda/lib/python3.10/site-packages (from python-dateutil>=2.7->matplotlib>=3.3->-r requirements.txt (line 6)) (1.17.0)\n",
      "Requirement already satisfied: mpmath<1.4,>=1.1.0 in /opt/conda/lib/python3.10/site-packages (from sympy>=1.13.3->torch>=1.8.0->-r requirements.txt (line 15)) (1.3.0)\n",
      "Requirement already satisfied: MarkupSafe>=2.0 in /opt/conda/lib/python3.10/site-packages (from jinja2->torch>=1.8.0->-r requirements.txt (line 15)) (3.0.2)\n"
     ]
    }
   ],
   "source": [
    "!pip install -r requirements.txt"
   ]
  },
  {
   "cell_type": "code",
   "execution_count": 7,
   "id": "c8ca38a6-edd8-485b-9d89-198d56df54f3",
   "metadata": {
    "collapsed": true,
    "jupyter": {
     "outputs_hidden": true
    },
    "tags": []
   },
   "outputs": [
    {
     "name": "stdout",
     "output_type": "stream",
     "text": [
      "Reading package lists... Done\n",
      "Building dependency tree... Done\n",
      "Reading state information... Done\n",
      "The following additional packages will be installed:\n",
      "  liblept5 libtesseract4 tesseract-ocr-eng tesseract-ocr-osd\n",
      "The following NEW packages will be installed:\n",
      "  liblept5 libtesseract4 tesseract-ocr tesseract-ocr-eng tesseract-ocr-osd\n",
      "0 upgraded, 5 newly installed, 0 to remove and 16 not upgraded.\n",
      "Need to get 7213 kB of archives.\n",
      "After this operation, 22.6 MB of additional disk space will be used.\n",
      "Get:1 https://deb.debian.org/debian bullseye/main amd64 liblept5 amd64 1.79.0-1.1+deb11u1 [1027 kB]\n",
      "Get:2 https://deb.debian.org/debian bullseye/main amd64 libtesseract4 amd64 4.1.1-2.1 [1274 kB]\n",
      "Get:3 https://deb.debian.org/debian bullseye/main amd64 tesseract-ocr-eng all 1:4.00~git30-7274cfa-1.1 [1592 kB]\n",
      "Get:4 https://deb.debian.org/debian bullseye/main amd64 tesseract-ocr-osd all 1:4.00~git30-7274cfa-1.1 [2991 kB]\n",
      "Get:5 https://deb.debian.org/debian bullseye/main amd64 tesseract-ocr amd64 4.1.1-2.1 [328 kB]\n",
      "Fetched 7213 kB in 0s (70.8 MB/s)      \n",
      "Selecting previously unselected package liblept5:amd64.\n",
      "(Reading database ... 157053 files and directories currently installed.)\n",
      "Preparing to unpack .../liblept5_1.79.0-1.1+deb11u1_amd64.deb ...\n",
      "Unpacking liblept5:amd64 (1.79.0-1.1+deb11u1) ...\n",
      "Selecting previously unselected package libtesseract4:amd64.\n",
      "Preparing to unpack .../libtesseract4_4.1.1-2.1_amd64.deb ...\n",
      "Unpacking libtesseract4:amd64 (4.1.1-2.1) ...\n",
      "Selecting previously unselected package tesseract-ocr-eng.\n",
      "Preparing to unpack .../tesseract-ocr-eng_1%3a4.00~git30-7274cfa-1.1_all.deb ...\n",
      "Unpacking tesseract-ocr-eng (1:4.00~git30-7274cfa-1.1) ...\n",
      "Selecting previously unselected package tesseract-ocr-osd.\n",
      "Preparing to unpack .../tesseract-ocr-osd_1%3a4.00~git30-7274cfa-1.1_all.deb ...\n",
      "Unpacking tesseract-ocr-osd (1:4.00~git30-7274cfa-1.1) ...\n",
      "Selecting previously unselected package tesseract-ocr.\n",
      "Preparing to unpack .../tesseract-ocr_4.1.1-2.1_amd64.deb ...\n",
      "Unpacking tesseract-ocr (4.1.1-2.1) ...\n",
      "Setting up tesseract-ocr-eng (1:4.00~git30-7274cfa-1.1) ...\n",
      "Setting up liblept5:amd64 (1.79.0-1.1+deb11u1) ...\n",
      "Setting up libtesseract4:amd64 (4.1.1-2.1) ...\n",
      "Setting up tesseract-ocr-osd (1:4.00~git30-7274cfa-1.1) ...\n",
      "Setting up tesseract-ocr (4.1.1-2.1) ...\n",
      "Processing triggers for man-db (2.9.4-2) ...\n",
      "Processing triggers for libc-bin (2.31-13+deb11u13) ...\n",
      "ldconfig: /lib/libnvonnxparser.so.8 is not a symbolic link\n",
      "\n",
      "ldconfig: /lib/libnvinfer_vc_plugin.so.8 is not a symbolic link\n",
      "\n",
      "ldconfig: /lib/libnvinfer.so.8 is not a symbolic link\n",
      "\n",
      "ldconfig: /lib/libnvinfer_dispatch.so.8 is not a symbolic link\n",
      "\n",
      "ldconfig: /lib/libnvparsers.so.8 is not a symbolic link\n",
      "\n",
      "ldconfig: /lib/libnvinfer_lean.so.8 is not a symbolic link\n",
      "\n",
      "ldconfig: /lib/libnvinfer_plugin.so.8 is not a symbolic link\n",
      "\n",
      "Collecting pytesseract\n",
      "  Downloading pytesseract-0.3.13-py3-none-any.whl.metadata (11 kB)\n",
      "Requirement already satisfied: pillow in /opt/conda/lib/python3.10/site-packages (11.1.0)\n",
      "Requirement already satisfied: packaging>=21.3 in /opt/conda/lib/python3.10/site-packages (from pytesseract) (24.2)\n",
      "Downloading pytesseract-0.3.13-py3-none-any.whl (14 kB)\n",
      "Installing collected packages: pytesseract\n",
      "Successfully installed pytesseract-0.3.13\n"
     ]
    }
   ],
   "source": [
    "!sudo apt-get install -y tesseract-ocr\n",
    "!pip install pytesseract pillow"
   ]
  },
  {
   "cell_type": "code",
   "execution_count": 8,
   "id": "daec8d01-0765-420b-81f2-3f06405a28cd",
   "metadata": {
    "tags": []
   },
   "outputs": [
    {
     "name": "stdout",
     "output_type": "stream",
     "text": [
      "Namespace(weights=PosixPath('runs/train/WRC_bgrd_v5s(91.0)/weights/best.pt'), source='/home/jupyter/solinas-ai-dev/video/jalkal_part3/10.4.2025(S3 32.5m S) (2).mp4', data=PosixPath('data/wrc_stage3.yaml'), imgsz=[320, 320], conf_thres=0.2, iou_thres=0.45, max_det=1000, device='', view_img=False, save_txt=False, save_conf=False, save_crop=False, nosave=False, classes=None, agnostic_nms=False, augment=False, visualize=False, update=False, project='/home/jupyter/test/jalkal_part3/yolov5', name='sample_m', exist_ok=False, line_thickness=3, hide_labels=False, hide_conf=False, half=False, dnn=False, vid_stride=1)\n",
      "WARNING ⚠️ \u001b[31m\u001b[1mrequirements:\u001b[0m /opt/conda/lib/python3.10/site-packages/requirements.txt not found, check failed.\n",
      "Total_time is equql to : 1.591576135158539\n",
      "1.591576135158539\n"
     ]
    }
   ],
   "source": [
    "!python detect_image_yolo.py"
   ]
  },
  {
   "cell_type": "code",
   "execution_count": 8,
   "id": "a7dfdd6b-237c-41b0-a68f-5a0774e4610b",
   "metadata": {
    "tags": []
   },
   "outputs": [
    {
     "name": "stdout",
     "output_type": "stream",
     "text": [
      "WARNING ⚠️ \u001b[31m\u001b[1mrequirements:\u001b[0m /opt/conda/lib/python3.10/site-packages/requirements.txt not found, check failed.\n",
      "YOLOv5 🚀 v7.0-416-gfe1d4d99 Python-3.10.16 torch-2.7.0+cu126 CUDA:0 (Tesla T4, 14918MiB)\n",
      "\n",
      "Fusing layers... \n",
      "Model summary: 157 layers, 7066762 parameters, 0 gradients, 15.9 GFLOPs\n",
      "\u001b[0;36m[hevc @ 0x55df6383e280] \u001b[0m\u001b[1;31mCould not find ref with POC 28\n",
      "\u001b[0m\u001b[0;36m[hevc @ 0x55df63875b40] \u001b[0m\u001b[1;31mCould not find ref with POC 5\n",
      "\u001b[0mTotal processing time: 1.90 minutes\n",
      "done\n"
     ]
    }
   ],
   "source": [
    "!python detect_optimize2.py ##"
   ]
  },
  {
   "cell_type": "code",
   "execution_count": null,
   "id": "cde86498-05cf-44eb-94fc-b0ecbc1c8b90",
   "metadata": {
    "tags": []
   },
   "outputs": [],
   "source": [
    "!python detect_frames.py"
   ]
  },
  {
   "cell_type": "code",
   "execution_count": null,
   "id": "1c9e0d7c-3757-4dd8-a368-9ae39f06ae82",
   "metadata": {
    "tags": []
   },
   "outputs": [],
   "source": [
    "!python detect_frames.py "
   ]
  },
  {
   "cell_type": "code",
   "execution_count": null,
   "id": "6da18744-6d9a-48eb-8a42-afd07e623a63",
   "metadata": {},
   "outputs": [],
   "source": [
    "!python koif_detect_ram.py ###"
   ]
  },
  {
   "cell_type": "code",
   "execution_count": null,
   "id": "f9f24491-cecf-4426-a780-d2a5a862fef2",
   "metadata": {
    "tags": []
   },
   "outputs": [],
   "source": [
    "!python trial.py"
   ]
  },
  {
   "cell_type": "code",
   "execution_count": null,
   "id": "a12edfa2-25d1-4024-9e17-2342ff6ab9f1",
   "metadata": {},
   "outputs": [],
   "source": [
    "!python detect_ramv5.py ###"
   ]
  },
  {
   "cell_type": "code",
   "execution_count": 2,
   "id": "49c92c9c-bae7-41be-8a4b-915b4e4f5b27",
   "metadata": {
    "tags": []
   },
   "outputs": [
    {
     "name": "stdout",
     "output_type": "stream",
     "text": [
      "/home/jupyter/yolov5\n"
     ]
    }
   ],
   "source": [
    "%cd /home/jupyter/yolov5"
   ]
  },
  {
   "cell_type": "code",
   "execution_count": 18,
   "id": "8dc9e3c4-2d6c-46db-b8f1-2aafa79f51de",
   "metadata": {},
   "outputs": [
    {
     "name": "stdout",
     "output_type": "stream",
     "text": [
      "python: can't open file '/home/jupyter/image-processing/detect_optimize2.py': [Errno 2] No such file or directory\n"
     ]
    }
   ],
   "source": [
    "!python detect_optimize2.py"
   ]
  },
  {
   "cell_type": "code",
   "execution_count": null,
   "id": "13794cc7-697c-4f44-8840-f6b2a63ee6c7",
   "metadata": {
    "collapsed": true,
    "jupyter": {
     "outputs_hidden": true
    },
    "tags": []
   },
   "outputs": [
    {
     "name": "stdout",
     "output_type": "stream",
     "text": [
      "  adding: home/jupyter/image-processing/ (stored 0%)\n",
      "  adding: home/jupyter/image-processing/detect_v9(crct).py (deflated 75%)\n",
      "  adding: home/jupyter/image-processing/try_delete.py (deflated 73%)\n",
      "  adding: home/jupyter/image-processing/detect_v9.py (deflated 68%)\n",
      "  adding: home/jupyter/image-processing/__pycache__/ (stored 0%)\n",
      "  adding: home/jupyter/image-processing/__pycache__/export.cpython-310.pyc (deflated 47%)\n",
      "  adding: home/jupyter/image-processing/benchmarks.py (deflated 68%)\n",
      "  adding: home/jupyter/image-processing/koif_detect_ram_test.py (deflated 74%)\n",
      "  adding: home/jupyter/image-processing/home/ (stored 0%)\n",
      "  adding: home/jupyter/image-processing/home/jupyter/ (stored 0%)\n",
      "  adding: home/jupyter/image-processing/home/jupyter/test/ (stored 0%)\n",
      "  adding: home/jupyter/image-processing/home/jupyter/test/exp/ (stored 0%)\n",
      "  adding: home/jupyter/image-processing/home/jupyter/test/exp/processing_speed_log.txt (stored 0%)\n",
      "  adding: home/jupyter/image-processing/home/jupyter/test/exp2/ (stored 0%)\n",
      "  adding: home/jupyter/image-processing/home/jupyter/test/exp2/processing_speed_log.txt (stored 0%)\n",
      "  adding: home/jupyter/image-processing/home/jupyter/test/exp3/ (stored 0%)\n",
      "  adding: home/jupyter/image-processing/home/jupyter/test/exp3/processing_speed_log.txt (stored 0%)\n",
      "  adding: home/jupyter/image-processing/val_dual.py (deflated 67%)\n",
      "  adding: home/jupyter/image-processing/tools/ (stored 0%)\n",
      "  adding: home/jupyter/image-processing/tools/reparameterization.ipynb (deflated 93%)\n",
      "  adding: home/jupyter/image-processing/detect.py (deflated 68%)\n",
      "  adding: home/jupyter/image-processing/scripts/ (stored 0%)\n",
      "  adding: home/jupyter/image-processing/scripts/get_coco.sh (deflated 52%)\n",
      "  adding: home/jupyter/image-processing/train_dual.py (deflated 70%)\n",
      "  adding: home/jupyter/image-processing/README.md (deflated 76%)\n",
      "  adding: home/jupyter/image-processing/data/ (stored 0%)\n",
      "  adding: home/jupyter/image-processing/data/wrc_stage3.yaml (deflated 55%)\n",
      "  adding: home/jupyter/image-processing/data/NASSCO_stage3.yaml (deflated 59%)\n",
      "  adding: home/jupyter/image-processing/data/coco.yaml (deflated 54%)\n",
      "  adding: home/jupyter/image-processing/data/Europe_stage3.yaml (deflated 54%)\n",
      "  adding: home/jupyter/image-processing/data/.ipynb_checkpoints/ (stored 0%)\n",
      "  adding: home/jupyter/image-processing/data/.ipynb_checkpoints/wrc_stage3-checkpoint.yaml (deflated 55%)\n",
      "  adding: home/jupyter/image-processing/data/images/ (stored 0%)\n",
      "  adding: home/jupyter/image-processing/data/images/Stone in 150 mm .jpeg (deflated 1%)\n",
      "  adding: home/jupyter/image-processing/data/images/horses.jpg (deflated 3%)\n",
      "  adding: home/jupyter/image-processing/data/hyps/ (stored 0%)\n",
      "  adding: home/jupyter/image-processing/data/hyps/hyp.scratch-high.yaml (deflated 56%)\n",
      "  adding: home/jupyter/image-processing/requirements.txt (deflated 61%)\n",
      "  adding: home/jupyter/image-processing/hubconf.py (deflated 63%)\n",
      "  adding: home/jupyter/image-processing/wrc_sewer_v9/ (stored 0%)\n",
      "  adding: home/jupyter/image-processing/wrc_sewer_v9/confusion_matrix.png (deflated 13%)\n",
      "  adding: home/jupyter/image-processing/wrc_sewer_v9/labels_correlogram.jpg (deflated 32%)\n",
      "  adding: home/jupyter/image-processing/wrc_sewer_v9/labels.jpg (deflated 18%)\n",
      "  adding: home/jupyter/image-processing/wrc_sewer_v9/PR_curve.png (deflated 7%)\n",
      "  adding: home/jupyter/image-processing/wrc_sewer_v9/weights/ (stored 0%)\n",
      "  adding: home/jupyter/image-processing/wrc_sewer_v9/weights/last.pt (deflated 8%)\n",
      "  adding: home/jupyter/image-processing/wrc_sewer_v9/weights/best.pt (deflated 8%)\n",
      "  adding: home/jupyter/image-processing/wrc_sewer_v9/hyp.yaml (deflated 43%)\n",
      "  adding: home/jupyter/image-processing/wrc_sewer_v9/F1_curve.png (deflated 5%)\n",
      "  adding: home/jupyter/image-processing/wrc_sewer_v9/results.png (deflated 14%)\n",
      "  adding: home/jupyter/image-processing/wrc_sewer_v9/opt.yaml (deflated 49%)\n",
      "  adding: home/jupyter/image-processing/classify/ (stored 0%)\n",
      "  adding: home/jupyter/image-processing/classify/val.py (deflated 66%)\n",
      "  adding: home/jupyter/image-processing/classify/predict.py (deflated 68%)\n",
      "  adding: home/jupyter/image-processing/classify/train.py (deflated 66%)\n",
      "  adding: home/jupyter/image-processing/detect_v9(mid).py (deflated 73%)\n",
      "  adding: home/jupyter/image-processing/.ipynb_checkpoints/ (stored 0%)\n",
      "  adding: home/jupyter/image-processing/.ipynb_checkpoints/processing_speed_log-checkpoint.txt (stored 0%)\n",
      "  adding: home/jupyter/image-processing/.ipynb_checkpoints/trial-checkpoint.py (deflated 77%)\n",
      "  adding: home/jupyter/image-processing/.ipynb_checkpoints/detect_v9-checkpoint.py (deflated 68%)\n",
      "  adding: home/jupyter/image-processing/.ipynb_checkpoints/koif_detect_ram-checkpoint.py (deflated 74%)\n",
      "  adding: home/jupyter/image-processing/.ipynb_checkpoints/detect_v9(crct)-checkpoint.py (deflated 75%)\n",
      "  adding: home/jupyter/image-processing/.ipynb_checkpoints/koif_detect_ram_test-checkpoint.py (deflated 74%)\n",
      "  adding: home/jupyter/image-processing/.ipynb_checkpoints/requirements-checkpoint.txt (deflated 61%)\n",
      "  adding: home/jupyter/image-processing/.ipynb_checkpoints/run_all-checkpoint.py (deflated 61%)\n",
      "  adding: home/jupyter/image-processing/.ipynb_checkpoints/detect-checkpoint.py (deflated 68%)\n",
      "  adding: home/jupyter/image-processing/val_triple.py (deflated 67%)\n",
      "  adding: home/jupyter/image-processing/LICENSE.md (deflated 66%)\n",
      "  adding: home/jupyter/image-processing/val.py (deflated 67%)\n",
      "  adding: home/jupyter/image-processing/figure/ (stored 0%)\n",
      "  adding: home/jupyter/image-processing/figure/performance.png (deflated 2%)\n",
      "  adding: home/jupyter/image-processing/figure/multitask.png (deflated 0%)\n",
      "  adding: home/jupyter/image-processing/figure/horses_prediction.jpg (deflated 1%)\n",
      "  adding: home/jupyter/image-processing/koif_detect_ram.py (deflated 74%)\n",
      "  adding: home/jupyter/image-processing/.git/ (stored 0%)\n",
      "  adding: home/jupyter/image-processing/.git/index (deflated 60%)\n",
      "  adding: home/jupyter/image-processing/.git/description (deflated 14%)\n",
      "  adding: home/jupyter/image-processing/.git/info/ (stored 0%)\n",
      "  adding: home/jupyter/image-processing/.git/info/exclude (deflated 28%)\n",
      "  adding: home/jupyter/image-processing/.git/packed-refs (deflated 10%)\n",
      "  adding: home/jupyter/image-processing/.git/branches/ (stored 0%)\n",
      "  adding: home/jupyter/image-processing/.git/hooks/ (stored 0%)\n",
      "  adding: home/jupyter/image-processing/.git/hooks/fsmonitor-watchman.sample (deflated 62%)\n",
      "  adding: home/jupyter/image-processing/.git/hooks/pre-commit.sample (deflated 45%)\n",
      "  adding: home/jupyter/image-processing/.git/hooks/commit-msg.sample (deflated 44%)\n",
      "  adding: home/jupyter/image-processing/.git/hooks/pre-receive.sample (deflated 40%)\n",
      "  adding: home/jupyter/image-processing/.git/hooks/pre-rebase.sample (deflated 59%)\n",
      "  adding: home/jupyter/image-processing/.git/hooks/update.sample (deflated 68%)\n",
      "  adding: home/jupyter/image-processing/.git/hooks/prepare-commit-msg.sample (deflated 50%)\n",
      "  adding: home/jupyter/image-processing/.git/hooks/pre-merge-commit.sample (deflated 39%)\n",
      "  adding: home/jupyter/image-processing/.git/hooks/applypatch-msg.sample (deflated 42%)\n",
      "  adding: home/jupyter/image-processing/.git/hooks/push-to-checkout.sample (deflated 55%)\n",
      "  adding: home/jupyter/image-processing/.git/hooks/post-update.sample (deflated 27%)\n",
      "  adding: home/jupyter/image-processing/.git/hooks/pre-applypatch.sample (deflated 38%)\n",
      "  adding: home/jupyter/image-processing/.git/hooks/pre-push.sample (deflated 49%)\n",
      "  adding: home/jupyter/image-processing/.git/objects/ (stored 0%)\n",
      "  adding: home/jupyter/image-processing/.git/objects/info/ (stored 0%)\n",
      "  adding: home/jupyter/image-processing/.git/objects/pack/ (stored 0%)\n",
      "  adding: home/jupyter/image-processing/.git/objects/pack/pack-da804d670f7b80bc325ed62f37673d4285899911.pack (deflated 0%)\n",
      "  adding: home/jupyter/image-processing/.git/objects/pack/pack-da804d670f7b80bc325ed62f37673d4285899911.idx (deflated 9%)\n",
      "  adding: home/jupyter/image-processing/.git/logs/ (stored 0%)\n",
      "  adding: home/jupyter/image-processing/.git/logs/HEAD (deflated 31%)\n",
      "  adding: home/jupyter/image-processing/.git/logs/refs/ (stored 0%)\n",
      "  adding: home/jupyter/image-processing/.git/logs/refs/heads/ (stored 0%)\n",
      "  adding: home/jupyter/image-processing/.git/logs/refs/heads/yolov9 (deflated 31%)\n",
      "  adding: home/jupyter/image-processing/.git/HEAD (stored 0%)\n",
      "  adding: home/jupyter/image-processing/.git/refs/ (stored 0%)\n",
      "  adding: home/jupyter/image-processing/.git/refs/tags/ (stored 0%)\n",
      "  adding: home/jupyter/image-processing/.git/refs/heads/ (stored 0%)\n",
      "  adding: home/jupyter/image-processing/.git/refs/heads/yolov9 (deflated 2%)\n",
      "  adding: home/jupyter/image-processing/.git/config (deflated 35%)\n",
      "  adding: home/jupyter/image-processing/train_triple.py (deflated 70%)\n",
      "  adding: home/jupyter/image-processing/trial.py (deflated 77%)\n",
      "  adding: home/jupyter/image-processing/utils/ (stored 0%)\n",
      "  adding: home/jupyter/image-processing/utils/loss_tal_dual.py (deflated 82%)\n",
      "  adding: home/jupyter/image-processing/utils/activations.py (deflated 69%)\n",
      "  adding: home/jupyter/image-processing/utils/__pycache__/ (stored 0%)\n",
      "  adding: home/jupyter/image-processing/utils/__pycache__/torch_utils.cpython-310.pyc (deflated 46%)\n",
      "  adding: home/jupyter/image-processing/utils/__pycache__/general.cpython-310.pyc (deflated 49%)\n",
      "  adding: home/jupyter/image-processing/utils/__pycache__/downloads.cpython-310.pyc (deflated 40%)\n",
      "  adding: home/jupyter/image-processing/utils/__pycache__/lion.cpython-310.pyc (deflated 42%)\n",
      "  adding: home/jupyter/image-processing/utils/__pycache__/metrics.cpython-310.pyc (deflated 47%)\n",
      "  adding: home/jupyter/image-processing/utils/__pycache__/plots.cpython-310.pyc (deflated 46%)\n",
      "  adding: home/jupyter/image-processing/utils/__pycache__/dataloaders.cpython-310.pyc (deflated 51%)\n",
      "  adding: home/jupyter/image-processing/utils/__pycache__/__init__.cpython-310.pyc (deflated 41%)\n",
      "  adding: home/jupyter/image-processing/utils/__pycache__/augmentations.cpython-310.pyc (deflated 47%)\n",
      "  adding: home/jupyter/image-processing/utils/tal/ (stored 0%)\n",
      "  adding: home/jupyter/image-processing/utils/tal/anchor_generator.py (deflated 59%)\n",
      "  adding: home/jupyter/image-processing/utils/tal/__pycache__/ (stored 0%)\n",
      "  adding: home/jupyter/image-processing/utils/tal/__pycache__/__init__.cpython-310.pyc (deflated 22%)\n",
      "  adding: home/jupyter/image-processing/utils/tal/__pycache__/anchor_generator.cpython-310.pyc (deflated 35%)\n",
      "  adding: home/jupyter/image-processing/utils/tal/__init__.py (stored 0%)\n",
      "  adding: home/jupyter/image-processing/utils/tal/assigner.py (deflated 73%)\n",
      "  adding: home/jupyter/image-processing/utils/coco_utils.py (deflated 60%)\n",
      "  adding: home/jupyter/image-processing/utils/loss.py (deflated 77%)\n",
      "  adding: home/jupyter/image-processing/utils/augmentations.py (deflated 66%)\n",
      "  adding: home/jupyter/image-processing/utils/metrics.py (deflated 66%)\n",
      "  adding: home/jupyter/image-processing/utils/torch_utils.py (deflated 68%)\n",
      "  adding: home/jupyter/image-processing/utils/loss_tal.py (deflated 69%)\n",
      "  adding: home/jupyter/image-processing/utils/loss_tal_triple.py (deflated 76%)\n",
      "  adding: home/jupyter/image-processing/utils/triton.py (deflated 68%)\n",
      "  adding: home/jupyter/image-processing/utils/loggers/ (stored 0%)\n",
      "  adding: home/jupyter/image-processing/utils/loggers/clearml/ (stored 0%)\n",
      "  adding: home/jupyter/image-processing/utils/loggers/clearml/clearml_utils.py (deflated 65%)\n",
      "  adding: home/jupyter/image-processing/utils/loggers/clearml/__init__.py (stored 0%)\n",
      "  adding: home/jupyter/image-processing/utils/loggers/clearml/hpo.py (deflated 71%)\n",
      "  adding: home/jupyter/image-processing/utils/loggers/__init__.py (deflated 73%)\n",
      "  adding: home/jupyter/image-processing/utils/loggers/wandb/ (stored 0%)\n",
      "  adding: home/jupyter/image-processing/utils/loggers/wandb/log_dataset.py (deflated 52%)\n",
      "  adding: home/jupyter/image-processing/utils/loggers/wandb/wandb_utils.py (deflated 75%)\n",
      "  adding: home/jupyter/image-processing/utils/loggers/wandb/__init__.py (stored 0%)\n",
      "  adding: home/jupyter/image-processing/utils/loggers/wandb/sweep.py (deflated 53%)\n",
      "  adding: home/jupyter/image-processing/utils/loggers/wandb/sweep.yaml (deflated 73%)\n",
      "  adding: home/jupyter/image-processing/utils/loggers/comet/ (stored 0%)\n",
      "  adding: home/jupyter/image-processing/utils/loggers/comet/comet_utils.py (deflated 69%)\n",
      "  adding: home/jupyter/image-processing/utils/loggers/comet/__init__.py (deflated 74%)\n",
      "  adding: home/jupyter/image-processing/utils/loggers/comet/optimizer_config.json (deflated 85%)\n",
      "  adding: home/jupyter/image-processing/utils/loggers/comet/hpo.py (deflated 68%)\n",
      "  adding: home/jupyter/image-processing/utils/autoanchor.py (deflated 60%)\n",
      "  adding: home/jupyter/image-processing/utils/callbacks.py (deflated 69%)\n",
      "  adding: home/jupyter/image-processing/utils/plots.py (deflated 66%)\n",
      "  adding: home/jupyter/image-processing/utils/autobatch.py (deflated 57%)\n",
      "  adding: home/jupyter/image-processing/utils/__init__.py (deflated 54%)\n",
      "  adding: home/jupyter/image-processing/utils/.ipynb_checkpoints/ (stored 0%)\n",
      "  adding: home/jupyter/image-processing/utils/.ipynb_checkpoints/dataloaders-checkpoint.py (deflated 72%)\n",
      "  adding: home/jupyter/image-processing/utils/.ipynb_checkpoints/general-checkpoint.py (deflated 66%)\n",
      "  adding: home/jupyter/image-processing/utils/.ipynb_checkpoints/plots-checkpoint.py (deflated 66%)\n",
      "  adding: home/jupyter/image-processing/utils/lion.py (deflated 63%)\n",
      "  adding: home/jupyter/image-processing/utils/segment/ (stored 0%)\n",
      "  adding: home/jupyter/image-processing/utils/segment/loss_tal_dual.py (deflated 88%)\n",
      "  adding: home/jupyter/image-processing/utils/segment/__pycache__/ (stored 0%)\n",
      "  adding: home/jupyter/image-processing/utils/segment/__pycache__/general.cpython-310.pyc (deflated 50%)\n",
      "  adding: home/jupyter/image-processing/utils/segment/__pycache__/__init__.cpython-310.pyc (deflated 21%)\n",
      "  adding: home/jupyter/image-processing/utils/segment/tal/ (stored 0%)\n",
      "  adding: home/jupyter/image-processing/utils/segment/tal/anchor_generator.py (deflated 59%)\n",
      "  adding: home/jupyter/image-processing/utils/segment/tal/__init__.py (stored 0%)\n",
      "  adding: home/jupyter/image-processing/utils/segment/tal/assigner.py (deflated 73%)\n",
      "  adding: home/jupyter/image-processing/utils/segment/loss.py (deflated 66%)\n",
      "  adding: home/jupyter/image-processing/utils/segment/augmentations.py (deflated 63%)\n",
      "  adding: home/jupyter/image-processing/utils/segment/metrics.py (deflated 77%)\n",
      "  adding: home/jupyter/image-processing/utils/segment/loss_tal.py (deflated 70%)\n",
      "  adding: home/jupyter/image-processing/utils/segment/plots.py (deflated 64%)\n",
      "  adding: home/jupyter/image-processing/utils/segment/__init__.py (stored 0%)\n",
      "  adding: home/jupyter/image-processing/utils/segment/dataloaders.py (deflated 72%)\n",
      "  adding: home/jupyter/image-processing/utils/segment/general.py (deflated 67%)\n",
      "  adding: home/jupyter/image-processing/utils/panoptic/ (stored 0%)\n",
      "  adding: home/jupyter/image-processing/utils/panoptic/tal/ (stored 0%)\n",
      "  adding: home/jupyter/image-processing/utils/panoptic/tal/anchor_generator.py (deflated 59%)\n",
      "  adding: home/jupyter/image-processing/utils/panoptic/tal/__init__.py (stored 0%)\n",
      "  adding: home/jupyter/image-processing/utils/panoptic/tal/assigner.py (deflated 73%)\n",
      "  adding: home/jupyter/image-processing/utils/panoptic/loss.py (deflated 66%)\n",
      "  adding: home/jupyter/image-processing/utils/panoptic/augmentations.py (deflated 67%)\n",
      "  adding: home/jupyter/image-processing/utils/panoptic/metrics.py (deflated 76%)\n",
      "  adding: home/jupyter/image-processing/utils/panoptic/loss_tal.py (deflated 71%)\n",
      "  adding: home/jupyter/image-processing/utils/panoptic/plots.py (deflated 64%)\n",
      "  adding: home/jupyter/image-processing/utils/panoptic/__init__.py (stored 0%)\n",
      "  adding: home/jupyter/image-processing/utils/panoptic/dataloaders.py (deflated 73%)\n",
      "  adding: home/jupyter/image-processing/utils/panoptic/general.py (deflated 67%)\n",
      "  adding: home/jupyter/image-processing/utils/dataloaders.py (deflated 72%)\n",
      "  adding: home/jupyter/image-processing/utils/general.py (deflated 66%)\n",
      "  adding: home/jupyter/image-processing/utils/downloads.py (deflated 61%)\n",
      "  adding: home/jupyter/image-processing/runs/ (stored 0%)\n",
      "  adding: home/jupyter/image-processing/runs/train/ (stored 0%)\n",
      "  adding: home/jupyter/image-processing/runs/train/custom_yolov95/ (stored 0%)\n",
      "  adding: home/jupyter/image-processing/runs/train/custom_yolov95/confusion_matrix.png (deflated 13%)\n",
      "  adding: home/jupyter/image-processing/runs/train/custom_yolov95/results.csv (deflated 88%)\n",
      "  adding: home/jupyter/image-processing/runs/train/custom_yolov95/train_batch0.jpg (deflated 4%)\n",
      "  adding: home/jupyter/image-processing/runs/train/custom_yolov95/labels_correlogram.jpg (deflated 32%)\n",
      "  adding: home/jupyter/image-processing/runs/train/custom_yolov95/val_batch0_labels.jpg (deflated 10%)\n",
      "  adding: home/jupyter/image-processing/runs/train/custom_yolov95/Untitled.ipynb (deflated 21%)\n",
      "  adding: home/jupyter/image-processing/runs/train/custom_yolov95/labels.jpg (deflated 19%)\n",
      "  adding: home/jupyter/image-processing/runs/train/custom_yolov95/PR_curve.png (deflated 6%)\n",
      "  adding: home/jupyter/image-processing/runs/train/custom_yolov95/val_batch0_pred.jpg (deflated 10%)\n",
      "  adding: home/jupyter/image-processing/runs/train/custom_yolov95/val_batch1_labels.jpg (deflated 10%)\n",
      "  adding: home/jupyter/image-processing/runs/train/custom_yolov95/events.out.tfevents.1743745852.instance-20250403-140922.288855.0 (deflated 14%)\n",
      "  adding: home/jupyter/image-processing/runs/train/custom_yolov95/train_batch2.jpg (deflated 4%)\n",
      "  adding: home/jupyter/image-processing/runs/train/custom_yolov95/.ipynb_checkpoints/ (stored 0%)\n",
      "  adding: home/jupyter/image-processing/runs/train/custom_yolov95/.ipynb_checkpoints/PR_curve-checkpoint.png (deflated 6%)\n",
      "  adding: home/jupyter/image-processing/runs/train/custom_yolov95/.ipynb_checkpoints/val_batch1_pred-checkpoint.jpg (deflated 9%)\n",
      "  adding: home/jupyter/image-processing/runs/train/custom_yolov95/.ipynb_checkpoints/labels_correlogram-checkpoint.jpg (deflated 32%)\n",
      "  adding: home/jupyter/image-processing/runs/train/custom_yolov95/.ipynb_checkpoints/hyp-checkpoint.yaml (deflated 43%)\n",
      "  adding: home/jupyter/image-processing/runs/train/custom_yolov95/.ipynb_checkpoints/Untitled-checkpoint.ipynb (deflated 21%)\n",
      "  adding: home/jupyter/image-processing/runs/train/custom_yolov95/.ipynb_checkpoints/train_batch1-checkpoint.jpg (deflated 6%)\n",
      "  adding: home/jupyter/image-processing/runs/train/custom_yolov95/.ipynb_checkpoints/val_batch0_labels-checkpoint.jpg (deflated 10%)\n",
      "  adding: home/jupyter/image-processing/runs/train/custom_yolov95/.ipynb_checkpoints/train_batch0-checkpoint.jpg (deflated 4%)\n",
      "  adding: home/jupyter/image-processing/runs/train/custom_yolov95/.ipynb_checkpoints/train_batch2-checkpoint.jpg (deflated 4%)\n",
      "  adding: home/jupyter/image-processing/runs/train/custom_yolov95/.ipynb_checkpoints/val_batch2_pred-checkpoint.jpg (deflated 8%)\n",
      "  adding: home/jupyter/image-processing/runs/train/custom_yolov95/.ipynb_checkpoints/results-checkpoint.csv (deflated 70%)\n",
      "  adding: home/jupyter/image-processing/runs/train/custom_yolov95/.ipynb_checkpoints/labels-checkpoint.jpg (deflated 19%)\n",
      "  adding: home/jupyter/image-processing/runs/train/custom_yolov95/.ipynb_checkpoints/opt-checkpoint.yaml (deflated 49%)\n",
      "  adding: home/jupyter/image-processing/runs/train/custom_yolov95/.ipynb_checkpoints/val_batch0_pred-checkpoint.jpg (deflated 10%)\n",
      "  adding: home/jupyter/image-processing/runs/train/custom_yolov95/weights/ (stored 0%)\n",
      "  adding: home/jupyter/image-processing/runs/train/custom_yolov95/weights/last.pt (deflated 8%)\n",
      "  adding: home/jupyter/image-processing/runs/train/custom_yolov95/weights/cust.zip (stored 0%)\n",
      "  adding: home/jupyter/image-processing/runs/train/custom_yolov95/weights/best.pt (deflated 8%)\n",
      "  adding: home/jupyter/image-processing/runs/train/custom_yolov95/weights/cust/ (stored 0%)\n",
      "  adding: home/jupyter/image-processing/runs/train/custom_yolov95/weights/cust/best.pt (deflated 8%)\n",
      "  adding: home/jupyter/image-processing/runs/train/custom_yolov95/val_batch1_pred.jpg (deflated 9%)\n",
      "  adding: home/jupyter/image-processing/runs/train/custom_yolov95/hyp.yaml (deflated 43%)\n",
      "  adding: home/jupyter/image-processing/runs/train/custom_yolov95/R_curve.png (deflated 4%)\n",
      "  adding: home/jupyter/image-processing/runs/train/custom_yolov95/train_batch1.jpg (deflated 6%)\n",
      "  adding: home/jupyter/image-processing/runs/train/custom_yolov95/val_batch2_pred.jpg (deflated 8%)\n",
      "  adding: home/jupyter/image-processing/runs/train/custom_yolov95/F1_curve.png (deflated 5%)\n",
      "  adding: home/jupyter/image-processing/runs/train/custom_yolov95/P_curve.png (deflated 6%)\n",
      "  adding: home/jupyter/image-processing/runs/train/custom_yolov95/val_batch2_labels.jpg (deflated 9%)\n",
      "  adding: home/jupyter/image-processing/runs/train/custom_yolov95/results.png (deflated 13%)\n",
      "  adding: home/jupyter/image-processing/runs/train/custom_yolov95/opt.yaml (deflated 49%)\n",
      "  adding: home/jupyter/image-processing/runs/train/Nassco_v9/ (stored 0%)\n",
      "  adding: home/jupyter/image-processing/runs/train/Nassco_v9/.ipynb_checkpoints/ (stored 0%)\n",
      "  adding: home/jupyter/image-processing/runs/train/Nassco_v9/weights/ (stored 0%)\n",
      "  adding: home/jupyter/image-processing/runs/train/Nassco_v9/weights/best.pt"
     ]
    }
   ],
   "source": [
    "!zip -r /home/jupyter/image-processing.zip   /home/jupyter/image-processing"
   ]
  },
  {
   "cell_type": "code",
   "execution_count": 2,
   "id": "bca7e651-e19d-4900-a0f5-a85b10f1e99b",
   "metadata": {},
   "outputs": [
    {
     "name": "stdout",
     "output_type": "stream",
     "text": [
      "/home/jupyter/image-processing\n"
     ]
    },
    {
     "name": "stderr",
     "output_type": "stream",
     "text": [
      "/opt/conda/lib/python3.10/site-packages/IPython/core/magics/osm.py:417: UserWarning: using dhist requires you to install the `pickleshare` library.\n",
      "  self.shell.db['dhist'] = compress_dhist(dhist)[-100:]\n"
     ]
    }
   ],
   "source": [
    "%cd /home/jupyter/image-processing\n"
   ]
  },
  {
   "cell_type": "code",
   "execution_count": 41,
   "id": "9912a9ef-2a50-4e9e-86b1-2e581f5ea257",
   "metadata": {},
   "outputs": [
    {
     "name": "stdout",
     "output_type": "stream",
     "text": [
      "/home/jupyter/solinas-ai-dev/video/water/20250620_124016.mp4\n",
      "\u001b[34m\u001b[1mkoif_detect_ram: \u001b[0mweights=/home/jupyter/image-processing/runs/train/Wrc_water_v9_v2.1.0/weights/best.pt, source=/home/jupyter/solinas-ai-dev/video/water/20250620_124016.mp4, data=/home/jupyter/image-processing/data/wrc_stage3.yaml, imgsz=[640, 640], conf_thres=0.23, iou_thres=0.45, max_det=1000, device=, view_img=False, save_txt=False, save_conf=False, save_crop=False, nosave=False, classes=None, agnostic_nms=False, augment=False, visualize=False, update=False, project=/home/jupyter/test/jalkal_part3/yolov9/, name=20250620_124016, exist_ok=False, line_thickness=3, hide_labels=False, hide_conf=False, half=False, dnn=False, vid_stride=1\n",
      "YOLO 🚀 b6475dc Python-3.10.16 torch-2.7.0+cu126 CUDA:0 (Tesla T4, 14918MiB)\n",
      "\n",
      "Fusing layers... \n",
      "gelan summary: 372 layers, 31207055 parameters, 0 gradients, 116.9 GFLOPs\n",
      "Total processing time: 0.59 minutes\n",
      "done\n"
     ]
    }
   ],
   "source": [
    "!python koif_detect_ram.py"
   ]
  },
  {
   "cell_type": "code",
   "execution_count": 7,
   "id": "e259e759-f498-425f-9104-1b089fc331e8",
   "metadata": {
    "collapsed": true,
    "jupyter": {
     "outputs_hidden": true
    },
    "tags": []
   },
   "outputs": [
    {
     "name": "stdout",
     "output_type": "stream",
     "text": [
      "Listing videos in mounted folder '/home/jupyter/solinas-ai-dev/video/testing_video_vijay/rem'...\n",
      "Found 11 video(s) to process.\n",
      "\n",
      "--- Processing video 1/11: '115752.avi' ---\n",
      "Executing: python koif_detect_ram.py --source /home/jupyter/solinas-ai-dev/video/testing_video_vijay/rem/115752.avi --name 115752 --weights /home/jupyter/image-processing/runs/train/wrc_sewer_v9_2.2.0/weights/best.pt --data data/wrc_stage3.yaml --conf-thres 0.23 --iou-thres 0.45 --device 0 --project /home/jupyter/sewer_2.2.0_test\n",
      "\u001b[34m\u001b[1mkoif_detect_ram: \u001b[0mweights=['/home/jupyter/image-processing/runs/train/wrc_sewer_v9_2.2.0/weights/best.pt'], source=/home/jupyter/solinas-ai-dev/video/testing_video_vijay/rem/115752.avi, data=data/wrc_stage3.yaml, imgsz=[640, 640], conf_thres=0.23, iou_thres=0.45, max_det=1000, device=0, view_img=False, save_txt=False, save_conf=False, save_crop=False, nosave=False, classes=None, agnostic_nms=False, augment=False, visualize=False, update=False, project=/home/jupyter/sewer_2.2.0_test, name=115752, exist_ok=False, line_thickness=3, hide_labels=False, hide_conf=False, half=False, dnn=False, vid_stride=1\n",
      "YOLO 🚀 b6475dc Python-3.10.16 torch-2.7.0+cu126 CUDA:0 (Tesla T4, 14918MiB)\n",
      "\n",
      "Fusing layers... \n",
      "gelan summary: 372 layers, 31205513 parameters, 0 gradients, 116.9 GFLOPs\n",
      "Total processing time: 2.03 minutes\n",
      "done\n",
      "Successfully processed '115752.avi'\n",
      "\n",
      "--- Processing video 2/11: '120451.avi' ---\n",
      "Executing: python koif_detect_ram.py --source /home/jupyter/solinas-ai-dev/video/testing_video_vijay/rem/120451.avi --name 120451 --weights /home/jupyter/image-processing/runs/train/wrc_sewer_v9_2.2.0/weights/best.pt --data data/wrc_stage3.yaml --conf-thres 0.23 --iou-thres 0.45 --device 0 --project /home/jupyter/sewer_2.2.0_test\n",
      "\u001b[34m\u001b[1mkoif_detect_ram: \u001b[0mweights=['/home/jupyter/image-processing/runs/train/wrc_sewer_v9_2.2.0/weights/best.pt'], source=/home/jupyter/solinas-ai-dev/video/testing_video_vijay/rem/120451.avi, data=data/wrc_stage3.yaml, imgsz=[640, 640], conf_thres=0.23, iou_thres=0.45, max_det=1000, device=0, view_img=False, save_txt=False, save_conf=False, save_crop=False, nosave=False, classes=None, agnostic_nms=False, augment=False, visualize=False, update=False, project=/home/jupyter/sewer_2.2.0_test, name=120451, exist_ok=False, line_thickness=3, hide_labels=False, hide_conf=False, half=False, dnn=False, vid_stride=1\n",
      "YOLO 🚀 b6475dc Python-3.10.16 torch-2.7.0+cu126 CUDA:0 (Tesla T4, 14918MiB)\n",
      "\n",
      "Fusing layers... \n",
      "gelan summary: 372 layers, 31205513 parameters, 0 gradients, 116.9 GFLOPs\n",
      "Total processing time: 1.61 minutes\n",
      "done\n",
      "Successfully processed '120451.avi'\n",
      "\n",
      "--- Processing video 3/11: '121027.avi' ---\n",
      "Executing: python koif_detect_ram.py --source /home/jupyter/solinas-ai-dev/video/testing_video_vijay/rem/121027.avi --name 121027 --weights /home/jupyter/image-processing/runs/train/wrc_sewer_v9_2.2.0/weights/best.pt --data data/wrc_stage3.yaml --conf-thres 0.23 --iou-thres 0.45 --device 0 --project /home/jupyter/sewer_2.2.0_test\n",
      "\u001b[34m\u001b[1mkoif_detect_ram: \u001b[0mweights=['/home/jupyter/image-processing/runs/train/wrc_sewer_v9_2.2.0/weights/best.pt'], source=/home/jupyter/solinas-ai-dev/video/testing_video_vijay/rem/121027.avi, data=data/wrc_stage3.yaml, imgsz=[640, 640], conf_thres=0.23, iou_thres=0.45, max_det=1000, device=0, view_img=False, save_txt=False, save_conf=False, save_crop=False, nosave=False, classes=None, agnostic_nms=False, augment=False, visualize=False, update=False, project=/home/jupyter/sewer_2.2.0_test, name=121027, exist_ok=False, line_thickness=3, hide_labels=False, hide_conf=False, half=False, dnn=False, vid_stride=1\n",
      "YOLO 🚀 b6475dc Python-3.10.16 torch-2.7.0+cu126 CUDA:0 (Tesla T4, 14918MiB)\n",
      "\n",
      "Fusing layers... \n",
      "gelan summary: 372 layers, 31205513 parameters, 0 gradients, 116.9 GFLOPs\n",
      "Total processing time: 0.45 minutes\n",
      "done\n",
      "Successfully processed '121027.avi'\n",
      "\n",
      "--- Processing video 4/11: '121145.avi' ---\n",
      "Executing: python koif_detect_ram.py --source /home/jupyter/solinas-ai-dev/video/testing_video_vijay/rem/121145.avi --name 121145 --weights /home/jupyter/image-processing/runs/train/wrc_sewer_v9_2.2.0/weights/best.pt --data data/wrc_stage3.yaml --conf-thres 0.23 --iou-thres 0.45 --device 0 --project /home/jupyter/sewer_2.2.0_test\n",
      "\u001b[34m\u001b[1mkoif_detect_ram: \u001b[0mweights=['/home/jupyter/image-processing/runs/train/wrc_sewer_v9_2.2.0/weights/best.pt'], source=/home/jupyter/solinas-ai-dev/video/testing_video_vijay/rem/121145.avi, data=data/wrc_stage3.yaml, imgsz=[640, 640], conf_thres=0.23, iou_thres=0.45, max_det=1000, device=0, view_img=False, save_txt=False, save_conf=False, save_crop=False, nosave=False, classes=None, agnostic_nms=False, augment=False, visualize=False, update=False, project=/home/jupyter/sewer_2.2.0_test, name=121145, exist_ok=False, line_thickness=3, hide_labels=False, hide_conf=False, half=False, dnn=False, vid_stride=1\n",
      "YOLO 🚀 b6475dc Python-3.10.16 torch-2.7.0+cu126 CUDA:0 (Tesla T4, 14918MiB)\n",
      "\n",
      "Fusing layers... \n",
      "gelan summary: 372 layers, 31205513 parameters, 0 gradients, 116.9 GFLOPs\n",
      "Total processing time: 2.06 minutes\n",
      "done\n",
      "Successfully processed '121145.avi'\n",
      "\n",
      "--- Processing video 5/11: '122503.avi' ---\n",
      "Executing: python koif_detect_ram.py --source /home/jupyter/solinas-ai-dev/video/testing_video_vijay/rem/122503.avi --name 122503 --weights /home/jupyter/image-processing/runs/train/wrc_sewer_v9_2.2.0/weights/best.pt --data data/wrc_stage3.yaml --conf-thres 0.23 --iou-thres 0.45 --device 0 --project /home/jupyter/sewer_2.2.0_test\n",
      "\u001b[34m\u001b[1mkoif_detect_ram: \u001b[0mweights=['/home/jupyter/image-processing/runs/train/wrc_sewer_v9_2.2.0/weights/best.pt'], source=/home/jupyter/solinas-ai-dev/video/testing_video_vijay/rem/122503.avi, data=data/wrc_stage3.yaml, imgsz=[640, 640], conf_thres=0.23, iou_thres=0.45, max_det=1000, device=0, view_img=False, save_txt=False, save_conf=False, save_crop=False, nosave=False, classes=None, agnostic_nms=False, augment=False, visualize=False, update=False, project=/home/jupyter/sewer_2.2.0_test, name=122503, exist_ok=False, line_thickness=3, hide_labels=False, hide_conf=False, half=False, dnn=False, vid_stride=1\n",
      "YOLO 🚀 b6475dc Python-3.10.16 torch-2.7.0+cu126 CUDA:0 (Tesla T4, 14918MiB)\n",
      "\n",
      "Fusing layers... \n",
      "gelan summary: 372 layers, 31205513 parameters, 0 gradients, 116.9 GFLOPs\n",
      "Total processing time: 2.87 minutes\n",
      "done\n",
      "Successfully processed '122503.avi'\n",
      "\n",
      "--- Processing video 6/11: '130526.avi' ---\n",
      "Executing: python koif_detect_ram.py --source /home/jupyter/solinas-ai-dev/video/testing_video_vijay/rem/130526.avi --name 130526 --weights /home/jupyter/image-processing/runs/train/wrc_sewer_v9_2.2.0/weights/best.pt --data data/wrc_stage3.yaml --conf-thres 0.23 --iou-thres 0.45 --device 0 --project /home/jupyter/sewer_2.2.0_test\n",
      "\u001b[34m\u001b[1mkoif_detect_ram: \u001b[0mweights=['/home/jupyter/image-processing/runs/train/wrc_sewer_v9_2.2.0/weights/best.pt'], source=/home/jupyter/solinas-ai-dev/video/testing_video_vijay/rem/130526.avi, data=data/wrc_stage3.yaml, imgsz=[640, 640], conf_thres=0.23, iou_thres=0.45, max_det=1000, device=0, view_img=False, save_txt=False, save_conf=False, save_crop=False, nosave=False, classes=None, agnostic_nms=False, augment=False, visualize=False, update=False, project=/home/jupyter/sewer_2.2.0_test, name=130526, exist_ok=False, line_thickness=3, hide_labels=False, hide_conf=False, half=False, dnn=False, vid_stride=1\n",
      "YOLO 🚀 b6475dc Python-3.10.16 torch-2.7.0+cu126 CUDA:0 (Tesla T4, 14918MiB)\n",
      "\n",
      "Fusing layers... \n",
      "gelan summary: 372 layers, 31205513 parameters, 0 gradients, 116.9 GFLOPs\n",
      "Total processing time: 1.58 minutes\n",
      "done\n",
      "Successfully processed '130526.avi'\n",
      "\n",
      "--- Processing video 7/11: '131003.avi' ---\n",
      "Executing: python koif_detect_ram.py --source /home/jupyter/solinas-ai-dev/video/testing_video_vijay/rem/131003.avi --name 131003 --weights /home/jupyter/image-processing/runs/train/wrc_sewer_v9_2.2.0/weights/best.pt --data data/wrc_stage3.yaml --conf-thres 0.23 --iou-thres 0.45 --device 0 --project /home/jupyter/sewer_2.2.0_test\n",
      "\u001b[34m\u001b[1mkoif_detect_ram: \u001b[0mweights=['/home/jupyter/image-processing/runs/train/wrc_sewer_v9_2.2.0/weights/best.pt'], source=/home/jupyter/solinas-ai-dev/video/testing_video_vijay/rem/131003.avi, data=data/wrc_stage3.yaml, imgsz=[640, 640], conf_thres=0.23, iou_thres=0.45, max_det=1000, device=0, view_img=False, save_txt=False, save_conf=False, save_crop=False, nosave=False, classes=None, agnostic_nms=False, augment=False, visualize=False, update=False, project=/home/jupyter/sewer_2.2.0_test, name=131003, exist_ok=False, line_thickness=3, hide_labels=False, hide_conf=False, half=False, dnn=False, vid_stride=1\n",
      "YOLO 🚀 b6475dc Python-3.10.16 torch-2.7.0+cu126 CUDA:0 (Tesla T4, 14918MiB)\n",
      "\n",
      "Fusing layers... \n",
      "gelan summary: 372 layers, 31205513 parameters, 0 gradients, 116.9 GFLOPs\n",
      "Total processing time: 0.47 minutes\n",
      "done\n",
      "Successfully processed '131003.avi'\n",
      "\n",
      "--- Processing video 8/11: '131720.avi' ---\n",
      "Executing: python koif_detect_ram.py --source /home/jupyter/solinas-ai-dev/video/testing_video_vijay/rem/131720.avi --name 131720 --weights /home/jupyter/image-processing/runs/train/wrc_sewer_v9_2.2.0/weights/best.pt --data data/wrc_stage3.yaml --conf-thres 0.23 --iou-thres 0.45 --device 0 --project /home/jupyter/sewer_2.2.0_test\n",
      "\u001b[34m\u001b[1mkoif_detect_ram: \u001b[0mweights=['/home/jupyter/image-processing/runs/train/wrc_sewer_v9_2.2.0/weights/best.pt'], source=/home/jupyter/solinas-ai-dev/video/testing_video_vijay/rem/131720.avi, data=data/wrc_stage3.yaml, imgsz=[640, 640], conf_thres=0.23, iou_thres=0.45, max_det=1000, device=0, view_img=False, save_txt=False, save_conf=False, save_crop=False, nosave=False, classes=None, agnostic_nms=False, augment=False, visualize=False, update=False, project=/home/jupyter/sewer_2.2.0_test, name=131720, exist_ok=False, line_thickness=3, hide_labels=False, hide_conf=False, half=False, dnn=False, vid_stride=1\n",
      "YOLO 🚀 b6475dc Python-3.10.16 torch-2.7.0+cu126 CUDA:0 (Tesla T4, 14918MiB)\n",
      "\n",
      "Fusing layers... \n",
      "gelan summary: 372 layers, 31205513 parameters, 0 gradients, 116.9 GFLOPs\n",
      "Total processing time: 0.96 minutes\n",
      "done\n",
      "Successfully processed '131720.avi'\n",
      "\n",
      "--- Processing video 9/11: '132024.avi' ---\n",
      "Executing: python koif_detect_ram.py --source /home/jupyter/solinas-ai-dev/video/testing_video_vijay/rem/132024.avi --name 132024 --weights /home/jupyter/image-processing/runs/train/wrc_sewer_v9_2.2.0/weights/best.pt --data data/wrc_stage3.yaml --conf-thres 0.23 --iou-thres 0.45 --device 0 --project /home/jupyter/sewer_2.2.0_test\n",
      "\u001b[34m\u001b[1mkoif_detect_ram: \u001b[0mweights=['/home/jupyter/image-processing/runs/train/wrc_sewer_v9_2.2.0/weights/best.pt'], source=/home/jupyter/solinas-ai-dev/video/testing_video_vijay/rem/132024.avi, data=data/wrc_stage3.yaml, imgsz=[640, 640], conf_thres=0.23, iou_thres=0.45, max_det=1000, device=0, view_img=False, save_txt=False, save_conf=False, save_crop=False, nosave=False, classes=None, agnostic_nms=False, augment=False, visualize=False, update=False, project=/home/jupyter/sewer_2.2.0_test, name=132024, exist_ok=False, line_thickness=3, hide_labels=False, hide_conf=False, half=False, dnn=False, vid_stride=1\n",
      "YOLO 🚀 b6475dc Python-3.10.16 torch-2.7.0+cu126 CUDA:0 (Tesla T4, 14918MiB)\n",
      "\n",
      "Fusing layers... \n",
      "gelan summary: 372 layers, 31205513 parameters, 0 gradients, 116.9 GFLOPs\n",
      "Total processing time: 1.00 minutes\n",
      "done\n",
      "Successfully processed '132024.avi'\n",
      "\n",
      "--- Processing video 10/11: '144146.avi' ---\n",
      "Executing: python koif_detect_ram.py --source /home/jupyter/solinas-ai-dev/video/testing_video_vijay/rem/144146.avi --name 144146 --weights /home/jupyter/image-processing/runs/train/wrc_sewer_v9_2.2.0/weights/best.pt --data data/wrc_stage3.yaml --conf-thres 0.23 --iou-thres 0.45 --device 0 --project /home/jupyter/sewer_2.2.0_test\n",
      "\u001b[34m\u001b[1mkoif_detect_ram: \u001b[0mweights=['/home/jupyter/image-processing/runs/train/wrc_sewer_v9_2.2.0/weights/best.pt'], source=/home/jupyter/solinas-ai-dev/video/testing_video_vijay/rem/144146.avi, data=data/wrc_stage3.yaml, imgsz=[640, 640], conf_thres=0.23, iou_thres=0.45, max_det=1000, device=0, view_img=False, save_txt=False, save_conf=False, save_crop=False, nosave=False, classes=None, agnostic_nms=False, augment=False, visualize=False, update=False, project=/home/jupyter/sewer_2.2.0_test, name=144146, exist_ok=False, line_thickness=3, hide_labels=False, hide_conf=False, half=False, dnn=False, vid_stride=1\n",
      "YOLO 🚀 b6475dc Python-3.10.16 torch-2.7.0+cu126 CUDA:0 (Tesla T4, 14918MiB)\n",
      "\n",
      "Fusing layers... \n",
      "gelan summary: 372 layers, 31205513 parameters, 0 gradients, 116.9 GFLOPs\n",
      "Total processing time: 4.60 minutes\n",
      "done\n",
      "Successfully processed '144146.avi'\n",
      "\n",
      "--- Processing video 11/11: '150407.avi' ---\n",
      "Executing: python koif_detect_ram.py --source /home/jupyter/solinas-ai-dev/video/testing_video_vijay/rem/150407.avi --name 150407 --weights /home/jupyter/image-processing/runs/train/wrc_sewer_v9_2.2.0/weights/best.pt --data data/wrc_stage3.yaml --conf-thres 0.23 --iou-thres 0.45 --device 0 --project /home/jupyter/sewer_2.2.0_test\n",
      "\u001b[34m\u001b[1mkoif_detect_ram: \u001b[0mweights=['/home/jupyter/image-processing/runs/train/wrc_sewer_v9_2.2.0/weights/best.pt'], source=/home/jupyter/solinas-ai-dev/video/testing_video_vijay/rem/150407.avi, data=data/wrc_stage3.yaml, imgsz=[640, 640], conf_thres=0.23, iou_thres=0.45, max_det=1000, device=0, view_img=False, save_txt=False, save_conf=False, save_crop=False, nosave=False, classes=None, agnostic_nms=False, augment=False, visualize=False, update=False, project=/home/jupyter/sewer_2.2.0_test, name=150407, exist_ok=False, line_thickness=3, hide_labels=False, hide_conf=False, half=False, dnn=False, vid_stride=1\n",
      "YOLO 🚀 b6475dc Python-3.10.16 torch-2.7.0+cu126 CUDA:0 (Tesla T4, 14918MiB)\n",
      "\n",
      "Fusing layers... \n",
      "gelan summary: 372 layers, 31205513 parameters, 0 gradients, 116.9 GFLOPs\n",
      "Total processing time: 3.53 minutes\n",
      "done\n",
      "Successfully processed '150407.avi'\n",
      "\n",
      "--- All video processing attempts completed ---\n"
     ]
    }
   ],
   "source": [
    "!python run_all.py"
   ]
  },
  {
   "cell_type": "code",
   "execution_count": 3,
   "id": "3f5ae16f-b91e-49d7-a255-19a2843d8347",
   "metadata": {
    "tags": []
   },
   "outputs": [
    {
     "name": "stdout",
     "output_type": "stream",
     "text": [
      "/home/jupyter/image-processing\n"
     ]
    },
    {
     "name": "stderr",
     "output_type": "stream",
     "text": [
      "/opt/conda/lib/python3.10/site-packages/IPython/core/magics/osm.py:417: UserWarning: using dhist requires you to install the `pickleshare` library.\n",
      "  self.shell.db['dhist'] = compress_dhist(dhist)[-100:]\n"
     ]
    }
   ],
   "source": [
    "%cd /home/jupyter/image-processing"
   ]
  },
  {
   "cell_type": "code",
   "execution_count": 12,
   "id": "ebcc173c-7f46-41df-8451-4f567b24a39a",
   "metadata": {
    "tags": []
   },
   "outputs": [
    {
     "name": "stdout",
     "output_type": "stream",
     "text": [
      "WARNING ⚠️ \u001b[31m\u001b[1mrequirements:\u001b[0m /opt/conda/lib/python3.10/site-packages/requirements.txt not found, check failed.\n",
      "YOLOv5 🚀 v7.0-416-gfe1d4d99 Python-3.10.16 torch-2.7.0+cu126 CUDA:0 (Tesla T4, 14918MiB)\n",
      "\n",
      "Fusing layers... \n",
      "Model summary: 157 layers, 7066762 parameters, 0 gradients, 15.9 GFLOPs\n",
      "Total processing time: 7.68 minutes\n",
      "done\n"
     ]
    }
   ],
   "source": [
    "!python detect_optimize2.py"
   ]
  },
  {
   "cell_type": "code",
   "execution_count": 4,
   "id": "c517bccd-e10c-4eb7-af6f-2eb18fde51a1",
   "metadata": {
    "tags": []
   },
   "outputs": [
    {
     "name": "stdout",
     "output_type": "stream",
     "text": [
      "WARNING ⚠️ \u001b[31m\u001b[1mrequirements:\u001b[0m /opt/conda/lib/python3.10/site-packages/requirements.txt not found, check failed.\n",
      "Total processing time: 0.34 minutes\n",
      "done\n"
     ]
    }
   ],
   "source": [
    "!python detect_sar.py"
   ]
  },
  {
   "cell_type": "code",
   "execution_count": 7,
   "id": "540cab48-29ee-4209-8d4a-e76b85b7980a",
   "metadata": {
    "tags": []
   },
   "outputs": [],
   "source": [
    "!mkdir -p /home/jupyter/image-processing/runs/train/zip\n",
    "\n"
   ]
  },
  {
   "cell_type": "code",
   "execution_count": 36,
   "id": "8165577a-3ddc-4091-810d-636cc4627945",
   "metadata": {
    "collapsed": true,
    "jupyter": {
     "outputs_hidden": true
    },
    "tags": []
   },
   "outputs": [
    {
     "name": "stdout",
     "output_type": "stream",
     "text": [
      "/home/jupyter/solinas-ai-dev/video/testing_video_vijay/20250619_155931.mp4\n",
      "\u001b[34m\u001b[1mkoif_detect_ram: \u001b[0mweights=/home/jupyter/image-processing/runs/train/Wrc_water_v9/weights/best.pt, source=/home/jupyter/solinas-ai-dev/video/testing_video_vijay/20250619_155931.mp4, data=/home/jupyter/image-processing/data/wrc_stage3.yaml, imgsz=[640, 640], conf_thres=0.23, iou_thres=0.45, max_det=1000, device=, view_img=False, save_txt=False, save_conf=False, save_crop=False, nosave=False, classes=None, agnostic_nms=False, augment=False, visualize=False, update=False, project=/home/jupyter/test/jalkal_part3/yolov9/, name=20250619_155931.mp4, exist_ok=False, line_thickness=3, hide_labels=False, hide_conf=False, half=False, dnn=False, vid_stride=1\n",
      "YOLO 🚀 b6475dc Python-3.10.16 torch-2.7.0+cu126 CUDA:0 (Tesla T4, 14918MiB)\n",
      "\n",
      "Fusing layers... \n",
      "gelan summary: 372 layers, 31207055 parameters, 0 gradients, 116.9 GFLOPs\n",
      "\u001b[0;36m[hevc @ 0x56142fbe2200] \u001b[0m\u001b[1;31mCould not find ref with POC 28\n",
      "\u001b[0m\u001b[0;36m[hevc @ 0x56142fbf2a00] \u001b[0m\u001b[1;31mCould not find ref with POC 5\n",
      "\u001b[0mTotal processing time: 3.95 minutes\n",
      "done\n"
     ]
    }
   ],
   "source": [
    "!python koif_detect_ram.py"
   ]
  },
  {
   "cell_type": "code",
   "execution_count": null,
   "id": "cd523c3c-246d-4118-8226-ad6aaf375b65",
   "metadata": {
    "collapsed": true,
    "jupyter": {
     "outputs_hidden": true
    },
    "tags": []
   },
   "outputs": [
    {
     "name": "stdout",
     "output_type": "stream",
     "text": [
      "Listing videos in mounted folder '/home/jupyter/solinas-ai-dev/video/testing_video_vijay/veolia'...\n",
      "Found 14 video(s) to process.\n",
      "\n",
      "--- Processing video 1/14: '29.1 (1)_1749547808454_s.mp4' ---\n",
      "Executing: python koif_detect_ram.py --source /home/jupyter/solinas-ai-dev/video/testing_video_vijay/veolia/29.1 (1)_1749547808454_s.mp4 --name 29.1 (1)_1749547808454_s --weights /home/jupyter/image-processing/runs/train/Wrc_water_v9/weights/best.pt --data data/wrc_stage3.yaml --conf-thres 0.23 --iou-thres 0.45 --device 0 --project /home/jupyter/test/jalkal_part3/yolov9/waternew\n",
      "/home/jupyter/solinas-ai-dev/video/testing_video_vijay/veolia/30.1 (1)_1749714348612_s.mp4\n",
      "\u001b[34m\u001b[1mkoif_detect_ram: \u001b[0mweights=['/home/jupyter/image-processing/runs/train/Wrc_water_v9/weights/best.pt'], source=/home/jupyter/solinas-ai-dev/video/testing_video_vijay/veolia/29.1 (1)_1749547808454_s.mp4, data=data/wrc_stage3.yaml, imgsz=[640, 640], conf_thres=0.23, iou_thres=0.45, max_det=1000, device=0, view_img=False, save_txt=False, save_conf=False, save_crop=False, nosave=False, classes=None, agnostic_nms=False, augment=False, visualize=False, update=False, project=/home/jupyter/test/jalkal_part3/yolov9/waternew, name=29.1 (1)_1749547808454_s, exist_ok=False, line_thickness=3, hide_labels=False, hide_conf=False, half=False, dnn=False, vid_stride=1\n",
      "YOLO 🚀 b6475dc Python-3.10.16 torch-2.7.0+cu126 CUDA:0 (Tesla T4, 14918MiB)\n",
      "\n",
      "Fusing layers... \n",
      "gelan summary: 372 layers, 31207055 parameters, 0 gradients, 116.9 GFLOPs\n",
      "Total processing time: 0.94 minutes\n",
      "done\n",
      "Successfully processed '29.1 (1)_1749547808454_s.mp4'\n",
      "\n",
      "--- Processing video 2/14: '29.1 (2)_1749553997116_s.mp4' ---\n",
      "Executing: python koif_detect_ram.py --source /home/jupyter/solinas-ai-dev/video/testing_video_vijay/veolia/29.1 (2)_1749553997116_s.mp4 --name 29.1 (2)_1749553997116_s --weights /home/jupyter/image-processing/runs/train/Wrc_water_v9/weights/best.pt --data data/wrc_stage3.yaml --conf-thres 0.23 --iou-thres 0.45 --device 0 --project /home/jupyter/test/jalkal_part3/yolov9/waternew\n",
      "/home/jupyter/solinas-ai-dev/video/testing_video_vijay/veolia/30.1 (1)_1749714348612_s.mp4\n",
      "\u001b[34m\u001b[1mkoif_detect_ram: \u001b[0mweights=['/home/jupyter/image-processing/runs/train/Wrc_water_v9/weights/best.pt'], source=/home/jupyter/solinas-ai-dev/video/testing_video_vijay/veolia/29.1 (2)_1749553997116_s.mp4, data=data/wrc_stage3.yaml, imgsz=[640, 640], conf_thres=0.23, iou_thres=0.45, max_det=1000, device=0, view_img=False, save_txt=False, save_conf=False, save_crop=False, nosave=False, classes=None, agnostic_nms=False, augment=False, visualize=False, update=False, project=/home/jupyter/test/jalkal_part3/yolov9/waternew, name=29.1 (2)_1749553997116_s, exist_ok=False, line_thickness=3, hide_labels=False, hide_conf=False, half=False, dnn=False, vid_stride=1\n",
      "YOLO 🚀 b6475dc Python-3.10.16 torch-2.7.0+cu126 CUDA:0 (Tesla T4, 14918MiB)\n",
      "\n",
      "Fusing layers... \n",
      "gelan summary: 372 layers, 31207055 parameters, 0 gradients, 116.9 GFLOPs\n",
      "Total processing time: 3.51 minutes\n",
      "done\n",
      "Successfully processed '29.1 (2)_1749553997116_s.mp4'\n",
      "\n",
      "--- Processing video 3/14: '29.1.2025(42_1749557879903_s.mp4' ---\n",
      "Executing: python koif_detect_ram.py --source /home/jupyter/solinas-ai-dev/video/testing_video_vijay/veolia/29.1.2025(42_1749557879903_s.mp4 --name 29.1.2025(42_1749557879903_s --weights /home/jupyter/image-processing/runs/train/Wrc_water_v9/weights/best.pt --data data/wrc_stage3.yaml --conf-thres 0.23 --iou-thres 0.45 --device 0 --project /home/jupyter/test/jalkal_part3/yolov9/waternew\n",
      "/home/jupyter/solinas-ai-dev/video/testing_video_vijay/veolia/30.1 (1)_1749714348612_s.mp4\n",
      "\u001b[34m\u001b[1mkoif_detect_ram: \u001b[0mweights=['/home/jupyter/image-processing/runs/train/Wrc_water_v9/weights/best.pt'], source=/home/jupyter/solinas-ai-dev/video/testing_video_vijay/veolia/29.1.2025(42_1749557879903_s.mp4, data=data/wrc_stage3.yaml, imgsz=[640, 640], conf_thres=0.23, iou_thres=0.45, max_det=1000, device=0, view_img=False, save_txt=False, save_conf=False, save_crop=False, nosave=False, classes=None, agnostic_nms=False, augment=False, visualize=False, update=False, project=/home/jupyter/test/jalkal_part3/yolov9/waternew, name=29.1.2025(42_1749557879903_s, exist_ok=False, line_thickness=3, hide_labels=False, hide_conf=False, half=False, dnn=False, vid_stride=1\n",
      "YOLO 🚀 b6475dc Python-3.10.16 torch-2.7.0+cu126 CUDA:0 (Tesla T4, 14918MiB)\n",
      "\n",
      "Fusing layers... \n",
      "gelan summary: 372 layers, 31207055 parameters, 0 gradients, 116.9 GFLOPs\n",
      "Total processing time: 1.91 minutes\n",
      "done\n",
      "Successfully processed '29.1.2025(42_1749557879903_s.mp4'\n",
      "\n",
      "--- Processing video 4/14: '29.1.2025(46_1749624746830_s.mp4' ---\n",
      "Executing: python koif_detect_ram.py --source /home/jupyter/solinas-ai-dev/video/testing_video_vijay/veolia/29.1.2025(46_1749624746830_s.mp4 --name 29.1.2025(46_1749624746830_s --weights /home/jupyter/image-processing/runs/train/Wrc_water_v9/weights/best.pt --data data/wrc_stage3.yaml --conf-thres 0.23 --iou-thres 0.45 --device 0 --project /home/jupyter/test/jalkal_part3/yolov9/waternew\n",
      "/home/jupyter/solinas-ai-dev/video/testing_video_vijay/veolia/30.1 (1)_1749714348612_s.mp4\n",
      "\u001b[34m\u001b[1mkoif_detect_ram: \u001b[0mweights=['/home/jupyter/image-processing/runs/train/Wrc_water_v9/weights/best.pt'], source=/home/jupyter/solinas-ai-dev/video/testing_video_vijay/veolia/29.1.2025(46_1749624746830_s.mp4, data=data/wrc_stage3.yaml, imgsz=[640, 640], conf_thres=0.23, iou_thres=0.45, max_det=1000, device=0, view_img=False, save_txt=False, save_conf=False, save_crop=False, nosave=False, classes=None, agnostic_nms=False, augment=False, visualize=False, update=False, project=/home/jupyter/test/jalkal_part3/yolov9/waternew, name=29.1.2025(46_1749624746830_s, exist_ok=False, line_thickness=3, hide_labels=False, hide_conf=False, half=False, dnn=False, vid_stride=1\n",
      "YOLO 🚀 b6475dc Python-3.10.16 torch-2.7.0+cu126 CUDA:0 (Tesla T4, 14918MiB)\n",
      "\n",
      "Fusing layers... \n",
      "gelan summary: 372 layers, 31207055 parameters, 0 gradients, 116.9 GFLOPs\n",
      "Total processing time: 5.65 minutes\n",
      "done\n",
      "Successfully processed '29.1_1749537905376_s.mp4'\n",
      "\n",
      "--- Processing video 6/14: '29_Ganesh_Nagar.mp4' ---\n",
      "Executing: python koif_detect_ram.py --source /home/jupyter/solinas-ai-dev/video/testing_video_vijay/veolia/29_Ganesh_Nagar.mp4 --name 29_Ganesh_Nagar --weights /home/jupyter/image-processing/runs/train/Wrc_water_v9/weights/best.pt --data data/wrc_stage3.yaml --conf-thres 0.23 --iou-thres 0.45 --device 0 --project /home/jupyter/test/jalkal_part3/yolov9/waternew\n",
      "/home/jupyter/solinas-ai-dev/video/testing_video_vijay/veolia/30.1 (1)_1749714348612_s.mp4\n",
      "\u001b[34m\u001b[1mkoif_detect_ram: \u001b[0mweights=['/home/jupyter/image-processing/runs/train/Wrc_water_v9/weights/best.pt'], source=/home/jupyter/solinas-ai-dev/video/testing_video_vijay/veolia/29_Ganesh_Nagar.mp4, data=data/wrc_stage3.yaml, imgsz=[640, 640], conf_thres=0.23, iou_thres=0.45, max_det=1000, device=0, view_img=False, save_txt=False, save_conf=False, save_crop=False, nosave=False, classes=None, agnostic_nms=False, augment=False, visualize=False, update=False, project=/home/jupyter/test/jalkal_part3/yolov9/waternew, name=29_Ganesh_Nagar, exist_ok=False, line_thickness=3, hide_labels=False, hide_conf=False, half=False, dnn=False, vid_stride=1\n",
      "YOLO 🚀 b6475dc Python-3.10.16 torch-2.7.0+cu126 CUDA:0 (Tesla T4, 14918MiB)\n",
      "\n",
      "Fusing layers... \n",
      "gelan summary: 372 layers, 31207055 parameters, 0 gradients, 116.9 GFLOPs\n",
      "Total processing time: 3.37 minutes\n",
      "done\n",
      "Successfully processed '29_Ganesh_Nagar.mp4'\n",
      "\n",
      "--- Processing video 7/14: '30.1 (1)_1749714348612_s.mp4' ---\n",
      "Executing: python koif_detect_ram.py --source /home/jupyter/solinas-ai-dev/video/testing_video_vijay/veolia/30.1 (1)_1749714348612_s.mp4 --name 30.1 (1)_1749714348612_s --weights /home/jupyter/image-processing/runs/train/Wrc_water_v9/weights/best.pt --data data/wrc_stage3.yaml --conf-thres 0.23 --iou-thres 0.45 --device 0 --project /home/jupyter/test/jalkal_part3/yolov9/waternew\n",
      "/home/jupyter/solinas-ai-dev/video/testing_video_vijay/veolia/30.1 (1)_1749714348612_s.mp4\n",
      "\u001b[34m\u001b[1mkoif_detect_ram: \u001b[0mweights=['/home/jupyter/image-processing/runs/train/Wrc_water_v9/weights/best.pt'], source=/home/jupyter/solinas-ai-dev/video/testing_video_vijay/veolia/30.1 (1)_1749714348612_s.mp4, data=data/wrc_stage3.yaml, imgsz=[640, 640], conf_thres=0.23, iou_thres=0.45, max_det=1000, device=0, view_img=False, save_txt=False, save_conf=False, save_crop=False, nosave=False, classes=None, agnostic_nms=False, augment=False, visualize=False, update=False, project=/home/jupyter/test/jalkal_part3/yolov9/waternew, name=30.1 (1)_1749714348612_s, exist_ok=False, line_thickness=3, hide_labels=False, hide_conf=False, half=False, dnn=False, vid_stride=1\n",
      "YOLO 🚀 b6475dc Python-3.10.16 torch-2.7.0+cu126 CUDA:0 (Tesla T4, 14918MiB)\n",
      "\n",
      "Fusing layers... \n",
      "gelan summary: 372 layers, 31207055 parameters, 0 gradients, 116.9 GFLOPs\n",
      "Total processing time: 5.28 minutes\n",
      "done\n",
      "Successfully processed '30.1 (1)_1749714348612_s.mp4'\n",
      "\n",
      "--- Processing video 8/14: '30.1.2025(34_1749643388638_s.mp4' ---\n",
      "Executing: python koif_detect_ram.py --source /home/jupyter/solinas-ai-dev/video/testing_video_vijay/veolia/30.1.2025(34_1749643388638_s.mp4 --name 30.1.2025(34_1749643388638_s --weights /home/jupyter/image-processing/runs/train/Wrc_water_v9/weights/best.pt --data data/wrc_stage3.yaml --conf-thres 0.23 --iou-thres 0.45 --device 0 --project /home/jupyter/test/jalkal_part3/yolov9/waternew\n",
      "/home/jupyter/solinas-ai-dev/video/testing_video_vijay/veolia/30.1 (1)_1749714348612_s.mp4\n",
      "\u001b[34m\u001b[1mkoif_detect_ram: \u001b[0mweights=['/home/jupyter/image-processing/runs/train/Wrc_water_v9/weights/best.pt'], source=/home/jupyter/solinas-ai-dev/video/testing_video_vijay/veolia/30.1.2025(34_1749643388638_s.mp4, data=data/wrc_stage3.yaml, imgsz=[640, 640], conf_thres=0.23, iou_thres=0.45, max_det=1000, device=0, view_img=False, save_txt=False, save_conf=False, save_crop=False, nosave=False, classes=None, agnostic_nms=False, augment=False, visualize=False, update=False, project=/home/jupyter/test/jalkal_part3/yolov9/waternew, name=30.1.2025(34_1749643388638_s, exist_ok=False, line_thickness=3, hide_labels=False, hide_conf=False, half=False, dnn=False, vid_stride=1\n",
      "YOLO 🚀 b6475dc Python-3.10.16 torch-2.7.0+cu126 CUDA:0 (Tesla T4, 14918MiB)\n",
      "\n",
      "Fusing layers... \n",
      "gelan summary: 372 layers, 31207055 parameters, 0 gradients, 116.9 GFLOPs\n",
      "Total processing time: 3.00 minutes\n",
      "done\n",
      "Successfully processed '30.1.2025(34_1749643388638_s.mp4'\n",
      "\n",
      "--- Processing video 9/14: '30.1.2025(8_1749641744630_s.mp4' ---\n",
      "Executing: python koif_detect_ram.py --source /home/jupyter/solinas-ai-dev/video/testing_video_vijay/veolia/30.1.2025(8_1749641744630_s.mp4 --name 30.1.2025(8_1749641744630_s --weights /home/jupyter/image-processing/runs/train/Wrc_water_v9/weights/best.pt --data data/wrc_stage3.yaml --conf-thres 0.23 --iou-thres 0.45 --device 0 --project /home/jupyter/test/jalkal_part3/yolov9/waternew\n",
      "/home/jupyter/solinas-ai-dev/video/testing_video_vijay/veolia/30.1 (1)_1749714348612_s.mp4\n",
      "\u001b[34m\u001b[1mkoif_detect_ram: \u001b[0mweights=['/home/jupyter/image-processing/runs/train/Wrc_water_v9/weights/best.pt'], source=/home/jupyter/solinas-ai-dev/video/testing_video_vijay/veolia/30.1.2025(8_1749641744630_s.mp4, data=data/wrc_stage3.yaml, imgsz=[640, 640], conf_thres=0.23, iou_thres=0.45, max_det=1000, device=0, view_img=False, save_txt=False, save_conf=False, save_crop=False, nosave=False, classes=None, agnostic_nms=False, augment=False, visualize=False, update=False, project=/home/jupyter/test/jalkal_part3/yolov9/waternew, name=30.1.2025(8_1749641744630_s, exist_ok=False, line_thickness=3, hide_labels=False, hide_conf=False, half=False, dnn=False, vid_stride=1\n",
      "YOLO 🚀 b6475dc Python-3.10.16 torch-2.7.0+cu126 CUDA:0 (Tesla T4, 14918MiB)\n",
      "\n",
      "Fusing layers... \n",
      "gelan summary: 372 layers, 31207055 parameters, 0 gradients, 116.9 GFLOPs\n",
      "Total processing time: 0.69 minutes\n",
      "done\n",
      "Successfully processed '30.1.2025(8_1749641744630_s.mp4'\n",
      "\n",
      "--- Processing video 10/14: '30.1_1749628553353_s.mp4' ---\n",
      "Executing: python koif_detect_ram.py --source /home/jupyter/solinas-ai-dev/video/testing_video_vijay/veolia/30.1_1749628553353_s.mp4 --name 30.1_1749628553353_s --weights /home/jupyter/image-processing/runs/train/Wrc_water_v9/weights/best.pt --data data/wrc_stage3.yaml --conf-thres 0.23 --iou-thres 0.45 --device 0 --project /home/jupyter/test/jalkal_part3/yolov9/waternew\n",
      "/home/jupyter/solinas-ai-dev/video/testing_video_vijay/veolia/30.1 (1)_1749714348612_s.mp4\n",
      "\u001b[34m\u001b[1mkoif_detect_ram: \u001b[0mweights=['/home/jupyter/image-processing/runs/train/Wrc_water_v9/weights/best.pt'], source=/home/jupyter/solinas-ai-dev/video/testing_video_vijay/veolia/30.1_1749628553353_s.mp4, data=data/wrc_stage3.yaml, imgsz=[640, 640], conf_thres=0.23, iou_thres=0.45, max_det=1000, device=0, view_img=False, save_txt=False, save_conf=False, save_crop=False, nosave=False, classes=None, agnostic_nms=False, augment=False, visualize=False, update=False, project=/home/jupyter/test/jalkal_part3/yolov9/waternew, name=30.1_1749628553353_s, exist_ok=False, line_thickness=3, hide_labels=False, hide_conf=False, half=False, dnn=False, vid_stride=1\n",
      "YOLO 🚀 b6475dc Python-3.10.16 torch-2.7.0+cu126 CUDA:0 (Tesla T4, 14918MiB)\n",
      "\n",
      "Fusing layers... \n",
      "gelan summary: 372 layers, 31207055 parameters, 0 gradients, 116.9 GFLOPs\n",
      "Total processing time: 2.18 minutes\n",
      "done\n",
      "Successfully processed '30.1_1749628553353_s.mp4'\n",
      "\n",
      "--- Processing video 11/14: '30_Bhudpura.mp4' ---\n",
      "Executing: python koif_detect_ram.py --source /home/jupyter/solinas-ai-dev/video/testing_video_vijay/veolia/30_Bhudpura.mp4 --name 30_Bhudpura --weights /home/jupyter/image-processing/runs/train/Wrc_water_v9/weights/best.pt --data data/wrc_stage3.yaml --conf-thres 0.23 --iou-thres 0.45 --device 0 --project /home/jupyter/test/jalkal_part3/yolov9/waternew\n",
      "/home/jupyter/solinas-ai-dev/video/testing_video_vijay/veolia/30.1 (1)_1749714348612_s.mp4\n",
      "\u001b[34m\u001b[1mkoif_detect_ram: \u001b[0mweights=['/home/jupyter/image-processing/runs/train/Wrc_water_v9/weights/best.pt'], source=/home/jupyter/solinas-ai-dev/video/testing_video_vijay/veolia/30_Bhudpura.mp4, data=data/wrc_stage3.yaml, imgsz=[640, 640], conf_thres=0.23, iou_thres=0.45, max_det=1000, device=0, view_img=False, save_txt=False, save_conf=False, save_crop=False, nosave=False, classes=None, agnostic_nms=False, augment=False, visualize=False, update=False, project=/home/jupyter/test/jalkal_part3/yolov9/waternew, name=30_Bhudpura, exist_ok=False, line_thickness=3, hide_labels=False, hide_conf=False, half=False, dnn=False, vid_stride=1\n",
      "YOLO 🚀 b6475dc Python-3.10.16 torch-2.7.0+cu126 CUDA:0 (Tesla T4, 14918MiB)\n",
      "\n",
      "Fusing layers... \n",
      "gelan summary: 372 layers, 31207055 parameters, 0 gradients, 116.9 GFLOPs\n",
      "Total processing time: 2.39 minutes\n",
      "done\n",
      "Successfully processed '30_Bhudpura.mp4'\n",
      "\n",
      "--- Processing video 12/14: '30_ReshimBhag2.mp4' ---\n",
      "Executing: python koif_detect_ram.py --source /home/jupyter/solinas-ai-dev/video/testing_video_vijay/veolia/30_ReshimBhag2.mp4 --name 30_ReshimBhag2 --weights /home/jupyter/image-processing/runs/train/Wrc_water_v9/weights/best.pt --data data/wrc_stage3.yaml --conf-thres 0.23 --iou-thres 0.45 --device 0 --project /home/jupyter/test/jalkal_part3/yolov9/waternew\n",
      "/home/jupyter/solinas-ai-dev/video/testing_video_vijay/veolia/30.1 (1)_1749714348612_s.mp4\n",
      "\u001b[34m\u001b[1mkoif_detect_ram: \u001b[0mweights=['/home/jupyter/image-processing/runs/train/Wrc_water_v9/weights/best.pt'], source=/home/jupyter/solinas-ai-dev/video/testing_video_vijay/veolia/30_ReshimBhag2.mp4, data=data/wrc_stage3.yaml, imgsz=[640, 640], conf_thres=0.23, iou_thres=0.45, max_det=1000, device=0, view_img=False, save_txt=False, save_conf=False, save_crop=False, nosave=False, classes=None, agnostic_nms=False, augment=False, visualize=False, update=False, project=/home/jupyter/test/jalkal_part3/yolov9/waternew, name=30_ReshimBhag2, exist_ok=False, line_thickness=3, hide_labels=False, hide_conf=False, half=False, dnn=False, vid_stride=1\n",
      "YOLO 🚀 b6475dc Python-3.10.16 torch-2.7.0+cu126 CUDA:0 (Tesla T4, 14918MiB)\n",
      "\n",
      "Fusing layers... \n",
      "gelan summary: 372 layers, 31207055 parameters, 0 gradients, 116.9 GFLOPs\n",
      "Total processing time: 0.71 minutes\n",
      "done\n",
      "Successfully processed '30_ReshimBhag2.mp4'\n",
      "\n",
      "--- Processing video 13/14: '30_SindhiColony.mp4' ---\n",
      "Executing: python koif_detect_ram.py --source /home/jupyter/solinas-ai-dev/video/testing_video_vijay/veolia/30_SindhiColony.mp4 --name 30_SindhiColony --weights /home/jupyter/image-processing/runs/train/Wrc_water_v9/weights/best.pt --data data/wrc_stage3.yaml --conf-thres 0.23 --iou-thres 0.45 --device 0 --project /home/jupyter/test/jalkal_part3/yolov9/waternew\n",
      "/home/jupyter/solinas-ai-dev/video/testing_video_vijay/veolia/30.1 (1)_1749714348612_s.mp4\n",
      "\u001b[34m\u001b[1mkoif_detect_ram: \u001b[0mweights=['/home/jupyter/image-processing/runs/train/Wrc_water_v9/weights/best.pt'], source=/home/jupyter/solinas-ai-dev/video/testing_video_vijay/veolia/30_SindhiColony.mp4, data=data/wrc_stage3.yaml, imgsz=[640, 640], conf_thres=0.23, iou_thres=0.45, max_det=1000, device=0, view_img=False, save_txt=False, save_conf=False, save_crop=False, nosave=False, classes=None, agnostic_nms=False, augment=False, visualize=False, update=False, project=/home/jupyter/test/jalkal_part3/yolov9/waternew, name=30_SindhiColony, exist_ok=False, line_thickness=3, hide_labels=False, hide_conf=False, half=False, dnn=False, vid_stride=1\n",
      "YOLO 🚀 b6475dc Python-3.10.16 torch-2.7.0+cu126 CUDA:0 (Tesla T4, 14918MiB)\n",
      "\n",
      "Fusing layers... \n",
      "gelan summary: 372 layers, 31207055 parameters, 0 gradients, 116.9 GFLOPs\n",
      "Total processing time: 5.68 minutes\n",
      "done\n",
      "Successfully processed '30_SindhiColony.mp4'\n",
      "\n",
      "--- Processing video 14/14: '30_SindhiColony1.mp4' ---\n",
      "Executing: python koif_detect_ram.py --source /home/jupyter/solinas-ai-dev/video/testing_video_vijay/veolia/30_SindhiColony1.mp4 --name 30_SindhiColony1 --weights /home/jupyter/image-processing/runs/train/Wrc_water_v9/weights/best.pt --data data/wrc_stage3.yaml --conf-thres 0.23 --iou-thres 0.45 --device 0 --project /home/jupyter/test/jalkal_part3/yolov9/waternew\n",
      "/home/jupyter/solinas-ai-dev/video/testing_video_vijay/veolia/30.1 (1)_1749714348612_s.mp4\n",
      "\u001b[34m\u001b[1mkoif_detect_ram: \u001b[0mweights=['/home/jupyter/image-processing/runs/train/Wrc_water_v9/weights/best.pt'], source=/home/jupyter/solinas-ai-dev/video/testing_video_vijay/veolia/30_SindhiColony1.mp4, data=data/wrc_stage3.yaml, imgsz=[640, 640], conf_thres=0.23, iou_thres=0.45, max_det=1000, device=0, view_img=False, save_txt=False, save_conf=False, save_crop=False, nosave=False, classes=None, agnostic_nms=False, augment=False, visualize=False, update=False, project=/home/jupyter/test/jalkal_part3/yolov9/waternew, name=30_SindhiColony1, exist_ok=False, line_thickness=3, hide_labels=False, hide_conf=False, half=False, dnn=False, vid_stride=1\n",
      "YOLO 🚀 b6475dc Python-3.10.16 torch-2.7.0+cu126 CUDA:0 (Tesla T4, 14918MiB)\n",
      "\n",
      "Fusing layers... \n",
      "gelan summary: 372 layers, 31207055 parameters, 0 gradients, 116.9 GFLOPs\n",
      "Total processing time: 1.50 minutes\n",
      "done\n",
      "Successfully processed '30_SindhiColony1.mp4'\n",
      "\n",
      "--- All video processing attempts completed ---\n"
     ]
    }
   ],
   "source": [
    "!python run_all.py"
   ]
  },
  {
   "cell_type": "code",
   "execution_count": 17,
   "id": "a6046109-95e4-492f-b309-62e6df62731f",
   "metadata": {
    "collapsed": true,
    "jupyter": {
     "outputs_hidden": true
    },
    "tags": []
   },
   "outputs": [
    {
     "name": "stdout",
     "output_type": "stream",
     "text": [
      "  adding: home/jupyter/test/jalkal_part3/yolov9/20250620_123813.mp4/mid/ (stored 0%)\n",
      "  adding: home/jupyter/test/jalkal_part3/yolov9/20250620_123813.mp4/mid/Ferrule(H,4)_(0-0-2).jpg (deflated 1%)\n",
      "  adding: home/jupyter/test/jalkal_part3/yolov9/20250620_123813.mp4/mid/Gravel(DER,3)_(0-0-8).jpg (deflated 1%)\n",
      "  adding: home/jupyter/test/jalkal_part3/yolov9/20250620_123813.mp4/mid/Gravel(DER,3)_(0-0-14).jpg (deflated 1%)\n",
      "  adding: home/jupyter/test/jalkal_part3/yolov9/20250620_123813.mp4/mid/Ferrule(H,4)_(0-0-3).jpg (deflated 1%)\n",
      "  adding: home/jupyter/test/jalkal_part3/yolov9/20250620_123813.mp4/mid/Gravel(DER,3)_(0-0-23).jpg (deflated 1%)\n",
      "  adding: home/jupyter/test/jalkal_part3/yolov9/20250620_123813.mp4/mid/Infiltration (IR,3)_(0-0-6).jpg (deflated 1%)\n",
      "  adding: home/jupyter/test/jalkal_part3/yolov9/20250620_123813.mp4/mid/Gravel(DER,3)_(0-0-9).jpg (deflated 1%)\n",
      "  adding: home/jupyter/test/jalkal_part3/yolov9/20250620_123813.mp4/mid/Gravel(DER,3)_(0-0-12).jpg (deflated 1%)\n",
      "  adding: home/jupyter/test/jalkal_part3/yolov9/20250620_123813.mp4/mid/Ferrule(H,4)_(0-0-1).jpg (deflated 1%)\n",
      "  adding: home/jupyter/test/jalkal_part3/yolov9/20250620_123813.mp4/mid/Gravel(DER,3)_(0-0-19).jpg (deflated 1%)\n",
      "  adding: home/jupyter/test/jalkal_part3/yolov9/20250620_123813.mp4/mid/Encrustation(DEE,3)_(0-0-7).jpg (deflated 1%)\n"
     ]
    }
   ],
   "source": [
    "!zip -r /home/jupyter/test/jalkal_part3/yolov9/20250620_123813.mp4/mid.zip /home/jupyter/test/jalkal_part3/yolov9/20250620_123813.mp4/mid"
   ]
  },
  {
   "cell_type": "code",
   "execution_count": 8,
   "id": "5afc011b-4f14-48e2-bd07-dc974cfa366b",
   "metadata": {
    "collapsed": true,
    "jupyter": {
     "outputs_hidden": true
    },
    "tags": []
   },
   "outputs": [
    {
     "name": "stdout",
     "output_type": "stream",
     "text": [
      "Archive:  /home/jupyter/solinas-ai-dev/weights/exp.zip\n",
      "   creating: /home/jupyter/image-processing/runs/train/zip/home/jupyter/yolov9/runs/train/exp/\n",
      "  inflating: /home/jupyter/image-processing/runs/train/zip/home/jupyter/yolov9/runs/train/exp/train_batch1.jpg  \n",
      "  inflating: /home/jupyter/image-processing/runs/train/zip/home/jupyter/yolov9/runs/train/exp/confusion_matrix.png  \n",
      "  inflating: /home/jupyter/image-processing/runs/train/zip/home/jupyter/yolov9/runs/train/exp/PR_curve.png  \n",
      "  inflating: /home/jupyter/image-processing/runs/train/zip/home/jupyter/yolov9/runs/train/exp/train_batch0.jpg  \n",
      "  inflating: /home/jupyter/image-processing/runs/train/zip/home/jupyter/yolov9/runs/train/exp/opt.yaml  \n",
      "  inflating: /home/jupyter/image-processing/runs/train/zip/home/jupyter/yolov9/runs/train/exp/results.csv  \n",
      "  inflating: /home/jupyter/image-processing/runs/train/zip/home/jupyter/yolov9/runs/train/exp/results.png  \n",
      "  inflating: /home/jupyter/image-processing/runs/train/zip/home/jupyter/yolov9/runs/train/exp/val_batch0_pred.jpg  \n",
      "  inflating: /home/jupyter/image-processing/runs/train/zip/home/jupyter/yolov9/runs/train/exp/hyp.yaml  \n",
      "  inflating: /home/jupyter/image-processing/runs/train/zip/home/jupyter/yolov9/runs/train/exp/val_batch2_pred.jpg  \n",
      "  inflating: /home/jupyter/image-processing/runs/train/zip/home/jupyter/yolov9/runs/train/exp/val_batch0_labels.jpg  \n",
      "  inflating: /home/jupyter/image-processing/runs/train/zip/home/jupyter/yolov9/runs/train/exp/P_curve.png  \n",
      "  inflating: /home/jupyter/image-processing/runs/train/zip/home/jupyter/yolov9/runs/train/exp/F1_curve.png  \n",
      "  inflating: /home/jupyter/image-processing/runs/train/zip/home/jupyter/yolov9/runs/train/exp/val_batch2_labels.jpg  \n",
      "  inflating: /home/jupyter/image-processing/runs/train/zip/home/jupyter/yolov9/runs/train/exp/labels.jpg  \n",
      "  inflating: /home/jupyter/image-processing/runs/train/zip/home/jupyter/yolov9/runs/train/exp/val_batch1_labels.jpg  \n",
      "  inflating: /home/jupyter/image-processing/runs/train/zip/home/jupyter/yolov9/runs/train/exp/train_batch2.jpg  \n",
      "  inflating: /home/jupyter/image-processing/runs/train/zip/home/jupyter/yolov9/runs/train/exp/R_curve.png  \n",
      "   creating: /home/jupyter/image-processing/runs/train/zip/home/jupyter/yolov9/runs/train/exp/weights/\n",
      "  inflating: /home/jupyter/image-processing/runs/train/zip/home/jupyter/yolov9/runs/train/exp/weights/best.pt  \n",
      "  inflating: /home/jupyter/image-processing/runs/train/zip/home/jupyter/yolov9/runs/train/exp/weights/last_striped.pt  \n",
      "  inflating: /home/jupyter/image-processing/runs/train/zip/home/jupyter/yolov9/runs/train/exp/weights/best_striped.pt  \n",
      "  inflating: /home/jupyter/image-processing/runs/train/zip/home/jupyter/yolov9/runs/train/exp/weights/last.pt  \n",
      "  inflating: /home/jupyter/image-processing/runs/train/zip/home/jupyter/yolov9/runs/train/exp/val_batch1_pred.jpg  \n",
      "  inflating: /home/jupyter/image-processing/runs/train/zip/home/jupyter/yolov9/runs/train/exp/events.out.tfevents.1750319140.instance-20250617-221121.368958.0  \n",
      "   creating: /home/jupyter/image-processing/runs/train/zip/home/jupyter/yolov9/runs/train/exp/.ipynb_checkpoints/\n",
      "  inflating: /home/jupyter/image-processing/runs/train/zip/home/jupyter/yolov9/runs/train/exp/.ipynb_checkpoints/results-checkpoint.csv  \n",
      "  inflating: /home/jupyter/image-processing/runs/train/zip/home/jupyter/yolov9/runs/train/exp/.ipynb_checkpoints/PR_curve-checkpoint.png  \n",
      "  inflating: /home/jupyter/image-processing/runs/train/zip/home/jupyter/yolov9/runs/train/exp/labels_correlogram.jpg  \n"
     ]
    }
   ],
   "source": [
    "!unzip /home/jupyter/solinas-ai-dev/weights/exp.zip -d /home/jupyter/image-processing/runs/train/zip"
   ]
  },
  {
   "cell_type": "code",
   "execution_count": 3,
   "id": "cf68cf72-688d-44e7-bde7-4295bea794ea",
   "metadata": {
    "collapsed": true,
    "jupyter": {
     "outputs_hidden": true
    },
    "tags": []
   },
   "outputs": [
    {
     "name": "stdout",
     "output_type": "stream",
     "text": [
      "Listing videos in mounted folder '/home/jupyter/solinas-ai-dev/video/testing_video_vijay/re'...\n",
      "Found 4 video(s) to process.\n",
      "\n",
      "--- Processing video 1/4: '20250408_144516.mp4' ---\n",
      "Executing: python koif_detect_ram.py --source /home/jupyter/solinas-ai-dev/video/testing_video_vijay/re/20250408_144516.mp4 --name 20250408_144516 --weights /home/jupyter/image-processing/runs/train/wrc_sewer_v9_2.2.0/weights/best.pt --data data/wrc_stage3.yaml --conf-thres 0.23 --iou-thres 0.45 --device 0 --project /home/jupyter/sewer_2.2.0_test\n",
      "\u001b[34m\u001b[1mkoif_detect_ram: \u001b[0mweights=['/home/jupyter/image-processing/runs/train/wrc_sewer_v9_2.2.0/weights/best.pt'], source=/home/jupyter/solinas-ai-dev/video/testing_video_vijay/re/20250408_144516.mp4, data=data/wrc_stage3.yaml, imgsz=[640, 640], conf_thres=0.23, iou_thres=0.45, max_det=1000, device=0, view_img=False, save_txt=False, save_conf=False, save_crop=False, nosave=False, classes=None, agnostic_nms=False, augment=False, visualize=False, update=False, project=/home/jupyter/sewer_2.2.0_test, name=20250408_144516, exist_ok=False, line_thickness=3, hide_labels=False, hide_conf=False, half=False, dnn=False, vid_stride=1\n",
      "YOLO 🚀 b6475dc Python-3.10.16 torch-2.7.0+cu126 CUDA:0 (Tesla T4, 14918MiB)\n",
      "\n",
      "Fusing layers... \n",
      "gelan summary: 372 layers, 31205513 parameters, 0 gradients, 116.9 GFLOPs\n",
      "\u001b[0;36m[hevc @ 0x55e430397c40] \u001b[0m\u001b[1;31mCould not find ref with POC 3\n",
      "\u001b[0mTotal processing time: 0.57 minutes\n",
      "done\n",
      "Successfully processed '20250408_144516.mp4'\n",
      "\n",
      "--- Processing video 2/4: '20250408_144908.mp4' ---\n",
      "Executing: python koif_detect_ram.py --source /home/jupyter/solinas-ai-dev/video/testing_video_vijay/re/20250408_144908.mp4 --name 20250408_144908 --weights /home/jupyter/image-processing/runs/train/wrc_sewer_v9_2.2.0/weights/best.pt --data data/wrc_stage3.yaml --conf-thres 0.23 --iou-thres 0.45 --device 0 --project /home/jupyter/sewer_2.2.0_test\n",
      "\u001b[34m\u001b[1mkoif_detect_ram: \u001b[0mweights=['/home/jupyter/image-processing/runs/train/wrc_sewer_v9_2.2.0/weights/best.pt'], source=/home/jupyter/solinas-ai-dev/video/testing_video_vijay/re/20250408_144908.mp4, data=data/wrc_stage3.yaml, imgsz=[640, 640], conf_thres=0.23, iou_thres=0.45, max_det=1000, device=0, view_img=False, save_txt=False, save_conf=False, save_crop=False, nosave=False, classes=None, agnostic_nms=False, augment=False, visualize=False, update=False, project=/home/jupyter/sewer_2.2.0_test, name=20250408_144908, exist_ok=False, line_thickness=3, hide_labels=False, hide_conf=False, half=False, dnn=False, vid_stride=1\n",
      "YOLO 🚀 b6475dc Python-3.10.16 torch-2.7.0+cu126 CUDA:0 (Tesla T4, 14918MiB)\n",
      "\n",
      "Fusing layers... \n",
      "gelan summary: 372 layers, 31205513 parameters, 0 gradients, 116.9 GFLOPs\n",
      "\u001b[0;36m[hevc @ 0x55ccf39afb00] \u001b[0m\u001b[1;31mCould not find ref with POC 18\n",
      "\u001b[0mTotal processing time: 0.25 minutes\n",
      "done\n",
      "Successfully processed '20250408_144908.mp4'\n",
      "\n",
      "--- Processing video 3/4: '20250408_150025.mp4' ---\n",
      "Executing: python koif_detect_ram.py --source /home/jupyter/solinas-ai-dev/video/testing_video_vijay/re/20250408_150025.mp4 --name 20250408_150025 --weights /home/jupyter/image-processing/runs/train/wrc_sewer_v9_2.2.0/weights/best.pt --data data/wrc_stage3.yaml --conf-thres 0.23 --iou-thres 0.45 --device 0 --project /home/jupyter/sewer_2.2.0_test\n",
      "\u001b[34m\u001b[1mkoif_detect_ram: \u001b[0mweights=['/home/jupyter/image-processing/runs/train/wrc_sewer_v9_2.2.0/weights/best.pt'], source=/home/jupyter/solinas-ai-dev/video/testing_video_vijay/re/20250408_150025.mp4, data=data/wrc_stage3.yaml, imgsz=[640, 640], conf_thres=0.23, iou_thres=0.45, max_det=1000, device=0, view_img=False, save_txt=False, save_conf=False, save_crop=False, nosave=False, classes=None, agnostic_nms=False, augment=False, visualize=False, update=False, project=/home/jupyter/sewer_2.2.0_test, name=20250408_150025, exist_ok=False, line_thickness=3, hide_labels=False, hide_conf=False, half=False, dnn=False, vid_stride=1\n",
      "YOLO 🚀 b6475dc Python-3.10.16 torch-2.7.0+cu126 CUDA:0 (Tesla T4, 14918MiB)\n",
      "\n",
      "Fusing layers... \n",
      "gelan summary: 372 layers, 31205513 parameters, 0 gradients, 116.9 GFLOPs\n",
      "Total processing time: 0.53 minutes\n",
      "done\n",
      "Successfully processed '20250408_150025.mp4'\n",
      "\n",
      "--- Processing video 4/4: '20250408_150623.mp4' ---\n",
      "Executing: python koif_detect_ram.py --source /home/jupyter/solinas-ai-dev/video/testing_video_vijay/re/20250408_150623.mp4 --name 20250408_150623 --weights /home/jupyter/image-processing/runs/train/wrc_sewer_v9_2.2.0/weights/best.pt --data data/wrc_stage3.yaml --conf-thres 0.23 --iou-thres 0.45 --device 0 --project /home/jupyter/sewer_2.2.0_test\n",
      "\u001b[34m\u001b[1mkoif_detect_ram: \u001b[0mweights=['/home/jupyter/image-processing/runs/train/wrc_sewer_v9_2.2.0/weights/best.pt'], source=/home/jupyter/solinas-ai-dev/video/testing_video_vijay/re/20250408_150623.mp4, data=data/wrc_stage3.yaml, imgsz=[640, 640], conf_thres=0.23, iou_thres=0.45, max_det=1000, device=0, view_img=False, save_txt=False, save_conf=False, save_crop=False, nosave=False, classes=None, agnostic_nms=False, augment=False, visualize=False, update=False, project=/home/jupyter/sewer_2.2.0_test, name=20250408_150623, exist_ok=False, line_thickness=3, hide_labels=False, hide_conf=False, half=False, dnn=False, vid_stride=1\n",
      "YOLO 🚀 b6475dc Python-3.10.16 torch-2.7.0+cu126 CUDA:0 (Tesla T4, 14918MiB)\n",
      "\n",
      "Fusing layers... \n",
      "gelan summary: 372 layers, 31205513 parameters, 0 gradients, 116.9 GFLOPs\n",
      "\u001b[0;36m[hevc @ 0x55c27e9bb640] \u001b[0m\u001b[1;31mCould not find ref with POC 14\n",
      "\u001b[0mTotal processing time: 0.51 minutes\n",
      "done\n",
      "Successfully processed '20250408_150623.mp4'\n",
      "\n",
      "--- All video processing attempts completed ---\n"
     ]
    }
   ],
   "source": [
    "!python run_all.py"
   ]
  },
  {
   "cell_type": "code",
   "execution_count": 10,
   "id": "7fa9eb9b-e5fe-4d89-9e3b-cfcbdde46ed7",
   "metadata": {
    "collapsed": true,
    "jupyter": {
     "outputs_hidden": true
    },
    "tags": []
   },
   "outputs": [
    {
     "name": "stdout",
     "output_type": "stream",
     "text": [
      "\u001b[34m\u001b[1mkoif_detect_ram_test: \u001b[0mweights=/home/jupyter/image-processing/runs/train/custom_yolov95/weights/best.pt, source=/home/jupyter/solinas-ai-dev/video/testing_video_vijay/kaif_water(sd)/ex_good_vision_vid.mp4, data=/home/jupyter/image-processing/data/wrc_stage3.yaml, imgsz=[640, 640], conf_thres=0.23, iou_thres=0.45, max_det=1000, device=, view_img=False, save_txt=False, save_conf=False, save_crop=False, nosave=False, classes=None, agnostic_nms=False, augment=False, visualize=False, update=False, project=/home/jupyter/test/jalkal_part3/yolov9/, name=ex_good_vision_vid, exist_ok=False, line_thickness=3, hide_labels=False, hide_conf=False, half=False, dnn=False, vid_stride=1\n",
      "YOLO 🚀 b6475dc Python-3.10.16 torch-2.7.0+cu126 CUDA:0 (Tesla T4, 14918MiB)\n",
      "\n",
      "Fusing layers... \n",
      "yolov9 summary: 580 layers, 60542110 parameters, 0 gradients, 264.1 GFLOPs\n",
      "\u001b[0;36m[hevc @ 0x55e2435f4a80] \u001b[0m\u001b[1;31mCould not find ref with POC 20\n",
      "\u001b[0mTotal processing time: 9.81 minutes\n",
      "done\n"
     ]
    }
   ],
   "source": [
    "!python koif_detect_ram_test.py"
   ]
  },
  {
   "cell_type": "code",
   "execution_count": 11,
   "id": "4d495875-8d63-4bde-8b95-242af1feceaf",
   "metadata": {},
   "outputs": [
    {
     "name": "stdout",
     "output_type": "stream",
     "text": [
      "\u001b[34m\u001b[1mkoif_detect_ram: \u001b[0mweights=/home/jupyter/image-processing/runs/train/Wrc_sewer_v9_v2.1.0/weights/best.pt, source=/home/jupyter/solinas-ai-dev/video/testing_video_vijay/kaif_water(sd)/ex_good_vision_vid.mp4, data=/home/jupyter/image-processing/data/wrc_stage3.yaml, imgsz=[640, 640], conf_thres=0.23, iou_thres=0.45, max_det=1000, device=, view_img=False, save_txt=False, save_conf=False, save_crop=False, nosave=False, classes=None, agnostic_nms=False, augment=False, visualize=False, update=False, project=/home/jupyter/test/jalkal_part3/yolov9/, name=ex_good_vision_vid, exist_ok=False, line_thickness=3, hide_labels=False, hide_conf=False, half=False, dnn=False, vid_stride=1\n",
      "YOLO 🚀 b6475dc Python-3.10.16 torch-2.7.0+cu126 CUDA:0 (Tesla T4, 14918MiB)\n",
      "\n",
      "Fusing layers... \n",
      "gelan summary: 372 layers, 31207055 parameters, 0 gradients, 116.9 GFLOPs\n",
      "\u001b[0;36m[hevc @ 0x562c52139300] \u001b[0m\u001b[1;31mCould not find ref with POC 20\n",
      "\u001b[0mTotal processing time: 2.78 minutes\n",
      "done\n"
     ]
    }
   ],
   "source": [
    "!python koif_detect_ram.py"
   ]
  },
  {
   "cell_type": "code",
   "execution_count": 9,
   "id": "b1a16b62-d6f3-42e1-a658-f49ed1587a1f",
   "metadata": {
    "tags": []
   },
   "outputs": [
    {
     "name": "stdout",
     "output_type": "stream",
     "text": [
      "\u001b[34m\u001b[1mkoif_detect_ram_test: \u001b[0mweights=/home/jupyter/image-processing/runs/train/custom_yolov95/weights/best.pt, source=/home/jupyter/solinas-ai-dev/video/testing_video_vijay/veolia/29_Ganesh_Nagar.mp4, data=/home/jupyter/image-processing/data/wrc_stage3.yaml, imgsz=[640, 640], conf_thres=0.23, iou_thres=0.45, max_det=1000, device=, view_img=False, save_txt=False, save_conf=False, save_crop=False, nosave=False, classes=None, agnostic_nms=False, augment=False, visualize=False, update=False, project=/home/jupyter/test/jalkal_part3/yolov9/, name=ex_good_vision_vid, exist_ok=False, line_thickness=3, hide_labels=False, hide_conf=False, half=False, dnn=False, vid_stride=1\n",
      "YOLO 🚀 b6475dc Python-3.10.16 torch-2.7.0+cu126 CUDA:0 (Tesla T4, 14918MiB)\n",
      "\n",
      "Fusing layers... \n",
      "yolov9 summary: 580 layers, 60542110 parameters, 0 gradients, 264.1 GFLOPs\n",
      "Total processing time: 2.95 minutes\n",
      "done\n"
     ]
    }
   ],
   "source": [
    "!python koif_detect_ram_test.py"
   ]
  },
  {
   "cell_type": "code",
   "execution_count": null,
   "id": "f1b592b7-22e5-45b6-97c1-d4bab3712d9d",
   "metadata": {},
   "outputs": [],
   "source": []
  }
 ],
 "metadata": {
  "environment": {
   "kernel": "conda-base-py",
   "name": "workbench-notebooks.m129",
   "type": "gcloud",
   "uri": "us-docker.pkg.dev/deeplearning-platform-release/gcr.io/workbench-notebooks:m129"
  },
  "kernelspec": {
   "display_name": "Python 3 (ipykernel) (Local)",
   "language": "python",
   "name": "conda-base-py"
  },
  "language_info": {
   "codemirror_mode": {
    "name": "ipython",
    "version": 3
   },
   "file_extension": ".py",
   "mimetype": "text/x-python",
   "name": "python",
   "nbconvert_exporter": "python",
   "pygments_lexer": "ipython3",
   "version": "3.10.16"
  }
 },
 "nbformat": 4,
 "nbformat_minor": 5
}
